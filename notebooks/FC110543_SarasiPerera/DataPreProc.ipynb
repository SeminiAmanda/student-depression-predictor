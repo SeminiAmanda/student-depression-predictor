{
 "cells": [
  {
   "cell_type": "code",
   "execution_count": null,
   "id": "0",
   "metadata": {},
   "outputs": [],
   "source": [
    "import pandas as pd\n",
    "import numpy as np\n"
   ]
  },
  {
   "cell_type": "code",
   "execution_count": null,
   "id": "1",
   "metadata": {},
   "outputs": [],
   "source": [
    "#Load the dataset\n",
    "#file_path = os.path.join(os.getcwd(), \"Data\", \"raw\", \"student_depression_dataset.csv\")\n",
    "#df = pd.read_csv(file_path)\n",
    "\n",
    "df=pd.read_csv(\"./Data/raw/student_depression_dataset.csv\")"
   ]
  },
  {
   "cell_type": "code",
   "execution_count": null,
   "id": "2",
   "metadata": {},
   "outputs": [],
   "source": [
    "df.head()"
   ]
  },
  {
   "cell_type": "markdown",
   "id": "3",
   "metadata": {},
   "source": [
    "Check the overall details about the dataset"
   ]
  },
  {
   "cell_type": "code",
   "execution_count": null,
   "id": "4",
   "metadata": {},
   "outputs": [],
   "source": [
    "# Print basic info about the dataset\n",
    "print(f\"   Information of the raw dataset \\n -------------------------------------------\\n\")\n",
    "df.info()"
   ]
  },
  {
   "cell_type": "markdown",
   "id": "5",
   "metadata": {},
   "source": [
    "Check whether there are missing values in the dataset"
   ]
  },
  {
   "cell_type": "code",
   "execution_count": null,
   "id": "6",
   "metadata": {},
   "outputs": [],
   "source": [
    "#Check missing values\n",
    "df.isnull().sum()"
   ]
  },
  {
   "cell_type": "markdown",
   "id": "7",
   "metadata": {},
   "source": [
    "Check whether there are duplicates in the dataset"
   ]
  },
  {
   "cell_type": "code",
   "execution_count": null,
   "id": "8",
   "metadata": {},
   "outputs": [],
   "source": [
    "#Check for duplicate rows\n",
    "df.duplicated().sum()"
   ]
  },
  {
   "cell_type": "markdown",
   "id": "9",
   "metadata": {},
   "source": [
    "Drop Irrelevant Columns"
   ]
  },
  {
   "cell_type": "code",
   "execution_count": null,
   "id": "10",
   "metadata": {},
   "outputs": [],
   "source": [
    "df.drop(columns=['id'],inplace=True)"
   ]
  },
  {
   "cell_type": "markdown",
   "id": "11",
   "metadata": {},
   "source": [
    "Identify Feature Types"
   ]
  },
  {
   "cell_type": "code",
   "execution_count": null,
   "id": "12",
   "metadata": {},
   "outputs": [],
   "source": [
    "#Target Variable\n",
    "target='Depression'\n",
    "\n",
    "#Features(excluding target)\n",
    "features=df.drop(columns=[target])\n",
    "\n",
    "#Categorical Features\n",
    "categorical_cols=features.select_dtypes(include='object').columns.tolist()\n",
    "\n",
    "#Numerical Features\n",
    "numerical_cols=features.select_dtypes(exclude='object').columns.tolist()\n",
    "\n",
    "print(\"Categorical:\",categorical_cols)\n",
    "print(\"Numerical:\",numerical_cols)"
   ]
  },
  {
   "cell_type": "markdown",
   "id": "13",
   "metadata": {},
   "source": [
    "Encode Categorical Variables\n",
    "SVM only works with numerical data. So need to encode categorical data"
   ]
  },
  {
   "cell_type": "markdown",
   "id": "14",
   "metadata": {},
   "source": [
    "01.Label Encode Binary Categorical Columns"
   ]
  },
  {
   "cell_type": "code",
   "execution_count": null,
   "id": "15",
   "metadata": {},
   "outputs": [],
   "source": [
    "from sklearn.preprocessing import LabelEncoder\n",
    "le = LabelEncoder()\n",
    "\n",
    "\n",
    "#Apply label encoding to binary categorical columns\n",
    "binary_cols=['Gender','Academic Pressure','Work Pressure',\n",
    "               'Study Satisfaction','Job Satisfaction',\n",
    "               'Dietary Habits','Have you ever had suicidal thoughts ?',\n",
    "               'Financial Stress','Family History of Mental Illness']\n",
    "\n",
    "for col in binary_cols:\n",
    "    df[col] =le.fit_transform(df[col])"
   ]
  },
  {
   "cell_type": "markdown",
   "id": "16",
   "metadata": {},
   "source": [
    "02.One-Hot encode nominal categorical Columns"
   ]
  },
  {
   "cell_type": "code",
   "execution_count": null,
   "id": "17",
   "metadata": {},
   "outputs": [],
   "source": [
    "df=pd.get_dummies(df,columns=['City','Profession','Degree'],drop_first=True)\n"
   ]
  }
 ],
 "metadata": {
  "kernelspec": {
   "display_name": "Python 3 (ipykernel)",
   "language": "python",
   "name": "python3"
  },
  "language_info": {
   "codemirror_mode": {
    "name": "ipython",
    "version": 3
   },
   "file_extension": ".py",
   "mimetype": "text/x-python",
   "name": "python",
   "nbconvert_exporter": "python",
   "pygments_lexer": "ipython3",
   "version": "3.10.18"
  }
 },
 "nbformat": 4,
 "nbformat_minor": 5
}
