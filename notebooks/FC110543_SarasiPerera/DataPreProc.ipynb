{
 "cells": [
  {
   "cell_type": "markdown",
   "id": "0243cd6f",
   "metadata": {},
   "source": [
    "**Data Preprocessing for SVM Based Depression Prediction Model**"
   ]
  },
  {
   "cell_type": "markdown",
   "id": "675a9a38",
   "metadata": {},
   "source": [
    "***1.Import Required Libraries***"
   ]
  },
  {
   "cell_type": "code",
   "execution_count": 57,
   "id": "dfeacd7a-91f6-4901-920f-ffa35da7915d",
   "metadata": {},
   "outputs": [],
   "source": [
    "import pandas as pd\n",
    "import numpy as np\n",
    "from sklearn.preprocessing import LabelEncoder,StandardScaler\n",
    "from sklearn.model_selection import train_test_split\n"
   ]
  },
  {
   "cell_type": "markdown",
   "id": "76ac9d39",
   "metadata": {},
   "source": [
    "***2.Load the Dataset***"
   ]
  },
  {
   "cell_type": "code",
   "execution_count": 59,
   "id": "a0810ecf-dfc6-4ccd-ba32-39e0debdf5bb",
   "metadata": {},
   "outputs": [],
   "source": [
    "#Load the dataset\n",
    "#file_path = os.path.join(os.getcwd(), \"Data\", \"raw\", \"student_depression_dataset.csv\")\n",
    "#df = pd.read_csv(file_path)\n",
    "\n",
    "df=pd.read_csv(\"./Data/raw/student_depression_dataset.csv\")"
   ]
  },
  {
   "cell_type": "code",
   "execution_count": 60,
   "id": "ec9eed04-ee07-4efe-90f4-f0e36fcbc9ba",
   "metadata": {},
   "outputs": [
    {
     "data": {
      "text/html": [
       "<div>\n",
       "<style scoped>\n",
       "    .dataframe tbody tr th:only-of-type {\n",
       "        vertical-align: middle;\n",
       "    }\n",
       "\n",
       "    .dataframe tbody tr th {\n",
       "        vertical-align: top;\n",
       "    }\n",
       "\n",
       "    .dataframe thead th {\n",
       "        text-align: right;\n",
       "    }\n",
       "</style>\n",
       "<table border=\"1\" class=\"dataframe\">\n",
       "  <thead>\n",
       "    <tr style=\"text-align: right;\">\n",
       "      <th></th>\n",
       "      <th>id</th>\n",
       "      <th>Gender</th>\n",
       "      <th>Age</th>\n",
       "      <th>City</th>\n",
       "      <th>Profession</th>\n",
       "      <th>Academic Pressure</th>\n",
       "      <th>Work Pressure</th>\n",
       "      <th>CGPA</th>\n",
       "      <th>Study Satisfaction</th>\n",
       "      <th>Job Satisfaction</th>\n",
       "      <th>Sleep Duration</th>\n",
       "      <th>Dietary Habits</th>\n",
       "      <th>Degree</th>\n",
       "      <th>Have you ever had suicidal thoughts ?</th>\n",
       "      <th>Work/Study Hours</th>\n",
       "      <th>Financial Stress</th>\n",
       "      <th>Family History of Mental Illness</th>\n",
       "      <th>Depression</th>\n",
       "    </tr>\n",
       "  </thead>\n",
       "  <tbody>\n",
       "    <tr>\n",
       "      <th>0</th>\n",
       "      <td>2</td>\n",
       "      <td>Male</td>\n",
       "      <td>33.0</td>\n",
       "      <td>Visakhapatnam</td>\n",
       "      <td>Student</td>\n",
       "      <td>5.0</td>\n",
       "      <td>0.0</td>\n",
       "      <td>8.97</td>\n",
       "      <td>2.0</td>\n",
       "      <td>0.0</td>\n",
       "      <td>'5-6 hours'</td>\n",
       "      <td>Healthy</td>\n",
       "      <td>B.Pharm</td>\n",
       "      <td>Yes</td>\n",
       "      <td>3.0</td>\n",
       "      <td>1.0</td>\n",
       "      <td>No</td>\n",
       "      <td>1</td>\n",
       "    </tr>\n",
       "    <tr>\n",
       "      <th>1</th>\n",
       "      <td>8</td>\n",
       "      <td>Female</td>\n",
       "      <td>24.0</td>\n",
       "      <td>Bangalore</td>\n",
       "      <td>Student</td>\n",
       "      <td>2.0</td>\n",
       "      <td>0.0</td>\n",
       "      <td>5.90</td>\n",
       "      <td>5.0</td>\n",
       "      <td>0.0</td>\n",
       "      <td>'5-6 hours'</td>\n",
       "      <td>Moderate</td>\n",
       "      <td>BSc</td>\n",
       "      <td>No</td>\n",
       "      <td>3.0</td>\n",
       "      <td>2.0</td>\n",
       "      <td>Yes</td>\n",
       "      <td>0</td>\n",
       "    </tr>\n",
       "    <tr>\n",
       "      <th>2</th>\n",
       "      <td>26</td>\n",
       "      <td>Male</td>\n",
       "      <td>31.0</td>\n",
       "      <td>Srinagar</td>\n",
       "      <td>Student</td>\n",
       "      <td>3.0</td>\n",
       "      <td>0.0</td>\n",
       "      <td>7.03</td>\n",
       "      <td>5.0</td>\n",
       "      <td>0.0</td>\n",
       "      <td>'Less than 5 hours'</td>\n",
       "      <td>Healthy</td>\n",
       "      <td>BA</td>\n",
       "      <td>No</td>\n",
       "      <td>9.0</td>\n",
       "      <td>1.0</td>\n",
       "      <td>Yes</td>\n",
       "      <td>0</td>\n",
       "    </tr>\n",
       "    <tr>\n",
       "      <th>3</th>\n",
       "      <td>30</td>\n",
       "      <td>Female</td>\n",
       "      <td>28.0</td>\n",
       "      <td>Varanasi</td>\n",
       "      <td>Student</td>\n",
       "      <td>3.0</td>\n",
       "      <td>0.0</td>\n",
       "      <td>5.59</td>\n",
       "      <td>2.0</td>\n",
       "      <td>0.0</td>\n",
       "      <td>'7-8 hours'</td>\n",
       "      <td>Moderate</td>\n",
       "      <td>BCA</td>\n",
       "      <td>Yes</td>\n",
       "      <td>4.0</td>\n",
       "      <td>5.0</td>\n",
       "      <td>Yes</td>\n",
       "      <td>1</td>\n",
       "    </tr>\n",
       "    <tr>\n",
       "      <th>4</th>\n",
       "      <td>32</td>\n",
       "      <td>Female</td>\n",
       "      <td>25.0</td>\n",
       "      <td>Jaipur</td>\n",
       "      <td>Student</td>\n",
       "      <td>4.0</td>\n",
       "      <td>0.0</td>\n",
       "      <td>8.13</td>\n",
       "      <td>3.0</td>\n",
       "      <td>0.0</td>\n",
       "      <td>'5-6 hours'</td>\n",
       "      <td>Moderate</td>\n",
       "      <td>M.Tech</td>\n",
       "      <td>Yes</td>\n",
       "      <td>1.0</td>\n",
       "      <td>1.0</td>\n",
       "      <td>No</td>\n",
       "      <td>0</td>\n",
       "    </tr>\n",
       "  </tbody>\n",
       "</table>\n",
       "</div>"
      ],
      "text/plain": [
       "   id  Gender   Age           City Profession  Academic Pressure  \\\n",
       "0   2    Male  33.0  Visakhapatnam    Student                5.0   \n",
       "1   8  Female  24.0      Bangalore    Student                2.0   \n",
       "2  26    Male  31.0       Srinagar    Student                3.0   \n",
       "3  30  Female  28.0       Varanasi    Student                3.0   \n",
       "4  32  Female  25.0         Jaipur    Student                4.0   \n",
       "\n",
       "   Work Pressure  CGPA  Study Satisfaction  Job Satisfaction  \\\n",
       "0            0.0  8.97                 2.0               0.0   \n",
       "1            0.0  5.90                 5.0               0.0   \n",
       "2            0.0  7.03                 5.0               0.0   \n",
       "3            0.0  5.59                 2.0               0.0   \n",
       "4            0.0  8.13                 3.0               0.0   \n",
       "\n",
       "        Sleep Duration Dietary Habits   Degree  \\\n",
       "0          '5-6 hours'        Healthy  B.Pharm   \n",
       "1          '5-6 hours'       Moderate      BSc   \n",
       "2  'Less than 5 hours'        Healthy       BA   \n",
       "3          '7-8 hours'       Moderate      BCA   \n",
       "4          '5-6 hours'       Moderate   M.Tech   \n",
       "\n",
       "  Have you ever had suicidal thoughts ?  Work/Study Hours Financial Stress  \\\n",
       "0                                   Yes               3.0              1.0   \n",
       "1                                    No               3.0              2.0   \n",
       "2                                    No               9.0              1.0   \n",
       "3                                   Yes               4.0              5.0   \n",
       "4                                   Yes               1.0              1.0   \n",
       "\n",
       "  Family History of Mental Illness  Depression  \n",
       "0                               No           1  \n",
       "1                              Yes           0  \n",
       "2                              Yes           0  \n",
       "3                              Yes           1  \n",
       "4                               No           0  "
      ]
     },
     "execution_count": 60,
     "metadata": {},
     "output_type": "execute_result"
    }
   ],
   "source": [
    "#Preview the data\n",
    "df.head()"
   ]
  },
  {
   "cell_type": "markdown",
   "id": "44e0389e",
   "metadata": {},
   "source": [
    "***3.Inspect the Dataset***"
   ]
  },
  {
   "cell_type": "code",
   "execution_count": 61,
   "id": "e07132ea",
   "metadata": {},
   "outputs": [
    {
     "name": "stdout",
     "output_type": "stream",
     "text": [
      "   Information of the raw dataset \n",
      " -------------------------------------------\n",
      "\n",
      "<class 'pandas.core.frame.DataFrame'>\n",
      "RangeIndex: 27901 entries, 0 to 27900\n",
      "Data columns (total 18 columns):\n",
      " #   Column                                 Non-Null Count  Dtype  \n",
      "---  ------                                 --------------  -----  \n",
      " 0   id                                     27901 non-null  int64  \n",
      " 1   Gender                                 27901 non-null  object \n",
      " 2   Age                                    27901 non-null  float64\n",
      " 3   City                                   27901 non-null  object \n",
      " 4   Profession                             27901 non-null  object \n",
      " 5   Academic Pressure                      27901 non-null  float64\n",
      " 6   Work Pressure                          27901 non-null  float64\n",
      " 7   CGPA                                   27901 non-null  float64\n",
      " 8   Study Satisfaction                     27901 non-null  float64\n",
      " 9   Job Satisfaction                       27901 non-null  float64\n",
      " 10  Sleep Duration                         27901 non-null  object \n",
      " 11  Dietary Habits                         27901 non-null  object \n",
      " 12  Degree                                 27901 non-null  object \n",
      " 13  Have you ever had suicidal thoughts ?  27901 non-null  object \n",
      " 14  Work/Study Hours                       27901 non-null  float64\n",
      " 15  Financial Stress                       27901 non-null  object \n",
      " 16  Family History of Mental Illness       27901 non-null  object \n",
      " 17  Depression                             27901 non-null  int64  \n",
      "dtypes: float64(7), int64(2), object(9)\n",
      "memory usage: 3.8+ MB\n"
     ]
    }
   ],
   "source": [
    "# Print basic info about the dataset\n",
    "print(f\"   Information of the raw dataset \\n -------------------------------------------\\n\")\n",
    "df.info()"
   ]
  },
  {
   "cell_type": "markdown",
   "id": "098e9e3a",
   "metadata": {},
   "source": [
    "***4.Check whether there are missing values in the dataset***"
   ]
  },
  {
   "cell_type": "code",
   "execution_count": 62,
   "id": "82aa888d-3a4a-4f91-af59-79e608200cf0",
   "metadata": {},
   "outputs": [
    {
     "name": "stdout",
     "output_type": "stream",
     "text": [
      "Missing values in each Column:\n",
      "\n",
      "id                                       0\n",
      "Gender                                   0\n",
      "Age                                      0\n",
      "City                                     0\n",
      "Profession                               0\n",
      "Academic Pressure                        0\n",
      "Work Pressure                            0\n",
      "CGPA                                     0\n",
      "Study Satisfaction                       0\n",
      "Job Satisfaction                         0\n",
      "Sleep Duration                           0\n",
      "Dietary Habits                           0\n",
      "Degree                                   0\n",
      "Have you ever had suicidal thoughts ?    0\n",
      "Work/Study Hours                         0\n",
      "Financial Stress                         0\n",
      "Family History of Mental Illness         0\n",
      "Depression                               0\n",
      "dtype: int64\n"
     ]
    }
   ],
   "source": [
    "#Check missing values\n",
    "print(\"Missing values in each Column:\\n\")\n",
    "print(df.isnull().sum())"
   ]
  },
  {
   "cell_type": "markdown",
   "id": "ef647922",
   "metadata": {},
   "source": [
    "***5.Check whether there are duplicates in the dataset***"
   ]
  },
  {
   "cell_type": "code",
   "execution_count": 66,
   "id": "a63d6bd1",
   "metadata": {},
   "outputs": [
    {
     "name": "stdout",
     "output_type": "stream",
     "text": [
      "Number of Duplicate Rows:/n\n",
      "0\n"
     ]
    }
   ],
   "source": [
    "#Check for duplicate rows\n",
    "print(\"Number of Duplicate Rows:/n\")\n",
    "print(df.duplicated().sum())"
   ]
  },
  {
   "cell_type": "markdown",
   "id": "1c7f4f3c",
   "metadata": {},
   "source": [
    "***6.Drop Irrelevant Columns***"
   ]
  },
  {
   "cell_type": "code",
   "execution_count": 64,
   "id": "b81c69ad",
   "metadata": {},
   "outputs": [],
   "source": [
    "#Drop the 'id' column as it is not useful for prediction\n",
    "df.drop(columns=['id'],inplace=True)"
   ]
  },
  {
   "cell_type": "markdown",
   "id": "07919663",
   "metadata": {},
   "source": [
    "***7.Identify Feature Types***"
   ]
  },
  {
   "cell_type": "code",
   "execution_count": 65,
   "id": "254d59bf",
   "metadata": {},
   "outputs": [
    {
     "name": "stdout",
     "output_type": "stream",
     "text": [
      "Categorical: ['Gender', 'City', 'Profession', 'Sleep Duration', 'Dietary Habits', 'Degree', 'Have you ever had suicidal thoughts ?', 'Financial Stress', 'Family History of Mental Illness']\n",
      "Numerical: ['Age', 'Academic Pressure', 'Work Pressure', 'CGPA', 'Study Satisfaction', 'Job Satisfaction', 'Work/Study Hours']\n"
     ]
    }
   ],
   "source": [
    "#Target Variable/column\n",
    "target='Depression'\n",
    "\n",
    "#Feature columns(excluding target)\n",
    "features=df.drop(columns=[target])\n",
    "\n",
    "#Categorical Features\n",
    "categorical_cols=features.select_dtypes(include='object').columns.tolist()\n",
    "\n",
    "#Numerical Features\n",
    "numerical_cols=features.select_dtypes(exclude='object').columns.tolist()\n",
    "\n",
    "print(\"Categorical:\",categorical_cols)\n",
    "print(\"Numerical:\",numerical_cols)"
   ]
  },
  {
   "cell_type": "markdown",
   "id": "01666f71",
   "metadata": {},
   "source": [
    "***8.Encode Categorical Variables***"
   ]
  },
  {
   "cell_type": "markdown",
   "id": "f81a71f4",
   "metadata": {},
   "source": [
    "SVM only works with numerical data. So need to encode categorical data."
   ]
  },
  {
   "cell_type": "markdown",
   "id": "c7d7f3ef",
   "metadata": {},
   "source": [
    "*8.1.Label Encode Binary Categorical Columns*"
   ]
  },
  {
   "cell_type": "code",
   "execution_count": 50,
   "id": "57e94a21",
   "metadata": {},
   "outputs": [],
   "source": [
    "le = LabelEncoder()\n",
    "\n",
    "\n",
    "#List of binary categorical columns\n",
    "binary_cols=['Gender','Academic Pressure','Work Pressure',\n",
    "               'Study Satisfaction','Job Satisfaction',\n",
    "               'Dietary Habits','Have you ever had suicidal thoughts ?',\n",
    "               'Financial Stress','Family History of Mental Illness']\n",
    "\n",
    "#Apply Label Encoding\n",
    "for col in binary_cols:\n",
    "    df[col] =le.fit_transform(df[col])"
   ]
  },
  {
   "cell_type": "markdown",
   "id": "e55a8c9e",
   "metadata": {},
   "source": [
    "*8.2.One-Hot encode nominal categorical Columns*"
   ]
  },
  {
   "cell_type": "code",
   "execution_count": 51,
   "id": "bf03090d",
   "metadata": {},
   "outputs": [],
   "source": [
    "#Apply One-Hot Encoding to niminal(multi-categorical) columns\n",
    "df=pd.get_dummies(df,columns=['City','Profession','Degree'],drop_first=True)"
   ]
  },
  {
   "cell_type": "markdown",
   "id": "fcc82ba1",
   "metadata": {},
   "source": [
    "*8.3.Encode the Target Variable*"
   ]
  },
  {
   "cell_type": "code",
   "execution_count": 52,
   "id": "19ae5e8d",
   "metadata": {},
   "outputs": [],
   "source": [
    "#Convert the target variable(Depression) to numeric\n",
    "df['Depression']=le.fit_transform(df['Depression'])"
   ]
  },
  {
   "cell_type": "markdown",
   "id": "ddae9f22",
   "metadata": {},
   "source": [
    "***9.Convert Original Range columns to Numeric***"
   ]
  },
  {
   "cell_type": "markdown",
   "id": "3d6accba",
   "metadata": {},
   "source": [
    "Columns like 'Sleep Duration' and 'Work/Study Hours' contain rages which are strings. So, we need to map them to numerical values."
   ]
  },
  {
   "cell_type": "code",
   "execution_count": 53,
   "id": "5e647126",
   "metadata": {},
   "outputs": [],
   "source": [
    "# Convert 'Sleep Duration' and 'Work/Study Hours' to numeric\n",
    "sleep_map={\n",
    "    'less than 4 hours':3,\n",
    "    '4-5 hours':4.5,\n",
    "    '5-6 hours':5.5,\n",
    "    '6-7 hours':6.5,\n",
    "    '7-8 hours':7.5,\n",
    "    'more than 8 hours':9\n",
    "}\n",
    "\n",
    "work_study_map={\n",
    "    'less than 4 hours':3,\n",
    "    '4-6 hours':5,\n",
    "    '6-8 hours':7,\n",
    "    'more than 8 hours':9\n",
    "}\n",
    "\n",
    "#Apply the mappings\n",
    "df['Sleep Duration']=df['Sleep Duration'].map(sleep_map)\n",
    "df['Work/Study Hours']=df['Work/Study Hours'].map(work_study_map)\n"
   ]
  },
  {
   "cell_type": "markdown",
   "id": "77a2a230",
   "metadata": {},
   "source": [
    "***10.Feature Scaling***"
   ]
  },
  {
   "cell_type": "code",
   "execution_count": 54,
   "id": "f5df82e4",
   "metadata": {},
   "outputs": [
    {
     "name": "stderr",
     "output_type": "stream",
     "text": [
      "/usr/local/lib/python3.10/site-packages/sklearn/utils/extmath.py:1144: RuntimeWarning: invalid value encountered in divide\n",
      "  updated_mean = (last_sum + new_sum) / updated_sample_count\n",
      "/usr/local/lib/python3.10/site-packages/sklearn/utils/extmath.py:1149: RuntimeWarning: invalid value encountered in divide\n",
      "  T = new_sum / new_sample_count\n",
      "/usr/local/lib/python3.10/site-packages/sklearn/utils/extmath.py:1169: RuntimeWarning: invalid value encountered in divide\n",
      "  new_unnormalized_variance -= correction**2 / new_sample_count\n"
     ]
    }
   ],
   "source": [
    "# Separate features and target\n",
    "X=df.drop('Depression',axis=1)\n",
    "y=df['Depression']\n",
    "\n",
    "# Scale the features\n",
    "scaler=StandardScaler()\n",
    "X_scaled=scaler.fit_transform(X)\n"
   ]
  },
  {
   "cell_type": "code",
   "execution_count": null,
   "id": "67962aa3",
   "metadata": {},
   "outputs": [
    {
     "data": {
      "text/html": [
       "<div>\n",
       "<style scoped>\n",
       "    .dataframe tbody tr th:only-of-type {\n",
       "        vertical-align: middle;\n",
       "    }\n",
       "\n",
       "    .dataframe tbody tr th {\n",
       "        vertical-align: top;\n",
       "    }\n",
       "\n",
       "    .dataframe thead th {\n",
       "        text-align: right;\n",
       "    }\n",
       "</style>\n",
       "<table border=\"1\" class=\"dataframe\">\n",
       "  <thead>\n",
       "    <tr style=\"text-align: right;\">\n",
       "      <th></th>\n",
       "      <th>Gender</th>\n",
       "      <th>Age</th>\n",
       "      <th>Academic Pressure</th>\n",
       "      <th>Work Pressure</th>\n",
       "      <th>CGPA</th>\n",
       "      <th>Study Satisfaction</th>\n",
       "      <th>Job Satisfaction</th>\n",
       "      <th>Sleep Duration</th>\n",
       "      <th>Dietary Habits</th>\n",
       "      <th>Have you ever had suicidal thoughts ?</th>\n",
       "      <th>...</th>\n",
       "      <th>Degree_MA</th>\n",
       "      <th>Degree_MBA</th>\n",
       "      <th>Degree_MBBS</th>\n",
       "      <th>Degree_MCA</th>\n",
       "      <th>Degree_MD</th>\n",
       "      <th>Degree_ME</th>\n",
       "      <th>Degree_MHM</th>\n",
       "      <th>Degree_MSc</th>\n",
       "      <th>Degree_Others</th>\n",
       "      <th>Degree_PhD</th>\n",
       "    </tr>\n",
       "  </thead>\n",
       "  <tbody>\n",
       "    <tr>\n",
       "      <th>0</th>\n",
       "      <td>0.891416</td>\n",
       "      <td>1.463165</td>\n",
       "      <td>1.345543</td>\n",
       "      <td>-0.009978</td>\n",
       "      <td>0.893393</td>\n",
       "      <td>-0.693425</td>\n",
       "      <td>-0.01534</td>\n",
       "      <td>NaN</td>\n",
       "      <td>-1.182363</td>\n",
       "      <td>0.761745</td>\n",
       "      <td>...</td>\n",
       "      <td>-0.141015</td>\n",
       "      <td>-0.143376</td>\n",
       "      <td>-0.159949</td>\n",
       "      <td>-0.197161</td>\n",
       "      <td>-0.144673</td>\n",
       "      <td>-0.0817</td>\n",
       "      <td>-0.083023</td>\n",
       "      <td>-0.211071</td>\n",
       "      <td>-0.03544</td>\n",
       "      <td>-0.138079</td>\n",
       "    </tr>\n",
       "    <tr>\n",
       "      <th>1</th>\n",
       "      <td>-1.121811</td>\n",
       "      <td>-0.371474</td>\n",
       "      <td>-0.826104</td>\n",
       "      <td>-0.009978</td>\n",
       "      <td>-1.194076</td>\n",
       "      <td>1.510636</td>\n",
       "      <td>-0.01534</td>\n",
       "      <td>NaN</td>\n",
       "      <td>-0.375705</td>\n",
       "      <td>-1.312775</td>\n",
       "      <td>...</td>\n",
       "      <td>-0.141015</td>\n",
       "      <td>-0.143376</td>\n",
       "      <td>-0.159949</td>\n",
       "      <td>-0.197161</td>\n",
       "      <td>-0.144673</td>\n",
       "      <td>-0.0817</td>\n",
       "      <td>-0.083023</td>\n",
       "      <td>-0.211071</td>\n",
       "      <td>-0.03544</td>\n",
       "      <td>-0.138079</td>\n",
       "    </tr>\n",
       "    <tr>\n",
       "      <th>2</th>\n",
       "      <td>0.891416</td>\n",
       "      <td>1.055467</td>\n",
       "      <td>-0.102222</td>\n",
       "      <td>-0.009978</td>\n",
       "      <td>-0.425724</td>\n",
       "      <td>1.510636</td>\n",
       "      <td>-0.01534</td>\n",
       "      <td>NaN</td>\n",
       "      <td>-1.182363</td>\n",
       "      <td>-1.312775</td>\n",
       "      <td>...</td>\n",
       "      <td>-0.141015</td>\n",
       "      <td>-0.143376</td>\n",
       "      <td>-0.159949</td>\n",
       "      <td>-0.197161</td>\n",
       "      <td>-0.144673</td>\n",
       "      <td>-0.0817</td>\n",
       "      <td>-0.083023</td>\n",
       "      <td>-0.211071</td>\n",
       "      <td>-0.03544</td>\n",
       "      <td>-0.138079</td>\n",
       "    </tr>\n",
       "    <tr>\n",
       "      <th>3</th>\n",
       "      <td>-1.121811</td>\n",
       "      <td>0.443921</td>\n",
       "      <td>-0.102222</td>\n",
       "      <td>-0.009978</td>\n",
       "      <td>-1.404862</td>\n",
       "      <td>-0.693425</td>\n",
       "      <td>-0.01534</td>\n",
       "      <td>NaN</td>\n",
       "      <td>-0.375705</td>\n",
       "      <td>0.761745</td>\n",
       "      <td>...</td>\n",
       "      <td>-0.141015</td>\n",
       "      <td>-0.143376</td>\n",
       "      <td>-0.159949</td>\n",
       "      <td>-0.197161</td>\n",
       "      <td>-0.144673</td>\n",
       "      <td>-0.0817</td>\n",
       "      <td>-0.083023</td>\n",
       "      <td>-0.211071</td>\n",
       "      <td>-0.03544</td>\n",
       "      <td>-0.138079</td>\n",
       "    </tr>\n",
       "    <tr>\n",
       "      <th>4</th>\n",
       "      <td>-1.121811</td>\n",
       "      <td>-0.167625</td>\n",
       "      <td>0.621660</td>\n",
       "      <td>-0.009978</td>\n",
       "      <td>0.322229</td>\n",
       "      <td>0.041262</td>\n",
       "      <td>-0.01534</td>\n",
       "      <td>NaN</td>\n",
       "      <td>-0.375705</td>\n",
       "      <td>0.761745</td>\n",
       "      <td>...</td>\n",
       "      <td>-0.141015</td>\n",
       "      <td>-0.143376</td>\n",
       "      <td>-0.159949</td>\n",
       "      <td>-0.197161</td>\n",
       "      <td>-0.144673</td>\n",
       "      <td>-0.0817</td>\n",
       "      <td>-0.083023</td>\n",
       "      <td>-0.211071</td>\n",
       "      <td>-0.03544</td>\n",
       "      <td>-0.138079</td>\n",
       "    </tr>\n",
       "  </tbody>\n",
       "</table>\n",
       "<p>5 rows × 104 columns</p>\n",
       "</div>"
      ],
      "text/plain": [
       "     Gender       Age  Academic Pressure  Work Pressure      CGPA  \\\n",
       "0  0.891416  1.463165           1.345543      -0.009978  0.893393   \n",
       "1 -1.121811 -0.371474          -0.826104      -0.009978 -1.194076   \n",
       "2  0.891416  1.055467          -0.102222      -0.009978 -0.425724   \n",
       "3 -1.121811  0.443921          -0.102222      -0.009978 -1.404862   \n",
       "4 -1.121811 -0.167625           0.621660      -0.009978  0.322229   \n",
       "\n",
       "   Study Satisfaction  Job Satisfaction  Sleep Duration  Dietary Habits  \\\n",
       "0           -0.693425          -0.01534             NaN       -1.182363   \n",
       "1            1.510636          -0.01534             NaN       -0.375705   \n",
       "2            1.510636          -0.01534             NaN       -1.182363   \n",
       "3           -0.693425          -0.01534             NaN       -0.375705   \n",
       "4            0.041262          -0.01534             NaN       -0.375705   \n",
       "\n",
       "   Have you ever had suicidal thoughts ?  ...  Degree_MA  Degree_MBA  \\\n",
       "0                               0.761745  ...  -0.141015   -0.143376   \n",
       "1                              -1.312775  ...  -0.141015   -0.143376   \n",
       "2                              -1.312775  ...  -0.141015   -0.143376   \n",
       "3                               0.761745  ...  -0.141015   -0.143376   \n",
       "4                               0.761745  ...  -0.141015   -0.143376   \n",
       "\n",
       "   Degree_MBBS  Degree_MCA  Degree_MD  Degree_ME  Degree_MHM  Degree_MSc  \\\n",
       "0    -0.159949   -0.197161  -0.144673    -0.0817   -0.083023   -0.211071   \n",
       "1    -0.159949   -0.197161  -0.144673    -0.0817   -0.083023   -0.211071   \n",
       "2    -0.159949   -0.197161  -0.144673    -0.0817   -0.083023   -0.211071   \n",
       "3    -0.159949   -0.197161  -0.144673    -0.0817   -0.083023   -0.211071   \n",
       "4    -0.159949   -0.197161  -0.144673    -0.0817   -0.083023   -0.211071   \n",
       "\n",
       "   Degree_Others  Degree_PhD  \n",
       "0       -0.03544   -0.138079  \n",
       "1       -0.03544   -0.138079  \n",
       "2       -0.03544   -0.138079  \n",
       "3       -0.03544   -0.138079  \n",
       "4       -0.03544   -0.138079  \n",
       "\n",
       "[5 rows x 104 columns]"
      ]
     },
     "execution_count": 68,
     "metadata": {},
     "output_type": "execute_result"
    }
   ],
   "source": [
    "# Convert to DataFrame to see the scaled values with column names\n",
    "X_scaled_df=pd.DataFrame(X_scaled, columns=X.columns)\n",
    "\n",
    "# Display first 5 rows\n",
    "X_scaled_df.head()"
   ]
  },
  {
   "cell_type": "markdown",
   "id": "ffebe379",
   "metadata": {},
   "source": [
    "***11.Split Data into Train and Test Sets**"
   ]
  },
  {
   "cell_type": "code",
   "execution_count": null,
   "id": "ded766bb",
   "metadata": {},
   "outputs": [
    {
     "name": "stdout",
     "output_type": "stream",
     "text": [
      "Training set shape: (22320, 104)\n",
      "Testing set shape: (5581, 104)\n"
     ]
    }
   ],
   "source": [
    "X_train,X_test,y_train,y_test=train_test_split(\n",
    "    X_scaled,y,test_size=0.2,random_state=42,stratify=y\n",
    ")\n",
    "\n",
    "# Show shapes\n",
    "print(\"Training set shape:\",X_train.shape)\n",
    "print(\"Testing set shape:\",X_test.shape)"
   ]
  }
 ],
 "metadata": {
  "kernelspec": {
   "display_name": "Python 3 (ipykernel)",
   "language": "python",
   "name": "python3"
  },
  "language_info": {
   "codemirror_mode": {
    "name": "ipython",
    "version": 3
   },
   "file_extension": ".py",
   "mimetype": "text/x-python",
   "name": "python",
   "nbconvert_exporter": "python",
   "pygments_lexer": "ipython3",
   "version": "3.10.18"
  }
 },
 "nbformat": 4,
 "nbformat_minor": 5
}
