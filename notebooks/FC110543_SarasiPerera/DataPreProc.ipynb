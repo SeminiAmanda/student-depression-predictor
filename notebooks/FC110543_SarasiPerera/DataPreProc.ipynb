{
 "cells": [
  {
   "cell_type": "code",
   "execution_count": 1,
   "id": "dfeacd7a-91f6-4901-920f-ffa35da7915d",
   "metadata": {},
   "outputs": [],
   "source": [
    "import pandas as pd\n",
    "import numpy as np"
   ]
  },
  {
   "cell_type": "code",
   "execution_count": null,
   "id": "a0810ecf-dfc6-4ccd-ba32-39e0debdf5bb",
   "metadata": {},
   "outputs": [],
   "source": [
    "#Load the dataset\n",
    "df=pd.read_csv(\"\")"
   ]
  },
  {
   "cell_type": "code",
   "execution_count": null,
   "id": "ec9eed04-ee07-4efe-90f4-f0e36fcbc9ba",
   "metadata": {},
   "outputs": [],
   "source": [
    "df.head()"
   ]
  },
  {
   "cell_type": "markdown",
   "id": "44e0389e",
   "metadata": {},
   "source": [
    "Check the overall details about the dataset"
   ]
  },
  {
   "cell_type": "code",
   "execution_count": null,
   "id": "e07132ea",
   "metadata": {},
   "outputs": [],
   "source": [
    "df.info()"
   ]
  },
  {
   "cell_type": "markdown",
   "id": "098e9e3a",
   "metadata": {},
   "source": [
    "Check whether there are missing values in the dataset"
   ]
  },
  {
   "cell_type": "code",
   "execution_count": null,
   "id": "82aa888d-3a4a-4f91-af59-79e608200cf0",
   "metadata": {},
   "outputs": [],
   "source": [
    "#Check missing values\n",
    "df.isnull().sum()"
   ]
  },
  {
   "cell_type": "markdown",
   "id": "ef647922",
   "metadata": {},
   "source": [
    "Check whether there are duplicates in the dataset"
   ]
  },
  {
   "cell_type": "code",
   "execution_count": null,
   "id": "a63d6bd1",
   "metadata": {},
   "outputs": [],
   "source": [
    "#Check for duplicate rows\n",
    "df.duplicated().sum()"
   ]
  }
 ],
 "metadata": {
  "kernelspec": {
   "display_name": "Python 3 (ipykernel)",
   "language": "python",
   "name": "python3"
  },
  "language_info": {
   "codemirror_mode": {
    "name": "ipython",
    "version": 3
   },
   "file_extension": ".py",
   "mimetype": "text/x-python",
   "name": "python",
   "nbconvert_exporter": "python",
   "pygments_lexer": "ipython3",
   "version": "3.10.18"
  }
 },
 "nbformat": 4,
 "nbformat_minor": 5
}
