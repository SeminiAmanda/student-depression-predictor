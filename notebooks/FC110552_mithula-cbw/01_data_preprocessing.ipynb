{
  "cells": [
    {
      "cell_type": "markdown",
      "metadata": {
        "id": "1YAbzpdXEVx6"
      },
      "source": [
        "# 01 – Data Preprocessing\n",
        "### Student Depression Prediction: Preparing Data for XGBoost Model\n",
        "\n",
        "---"
      ]
    },
    {
      "cell_type": "markdown",
      "metadata": {
        "id": "6fEGWj6uFiIB"
      },
      "source": [
        "## 📌 Objective\n",
        "Prepare and clean the student depression dataset for machine learning analysis using XGBoost classification.\n",
        "\n",
        "**Key Tasks:**\n",
        "- Load and explore raw data\n",
        "- Handle missing values and outliers\n",
        "- Encode categorical variables\n",
        "- Scale numerical features\n",
        "- Export clean dataset for modeling\n",
        "\n",
        "---"
      ]
    },
    {
      "cell_type": "markdown",
      "metadata": {},
      "source": [
        "### 📂 Input  \n",
        " - `student_depression_dataset.csv` saved in `Data/raw/`  \n",
        "\n",
        "\n",
        "### 📦 Output  \n",
        "- `clean_data.csv` saved in `Data/processed/FC110552_mithula-cbw/`\n",
        "\n",
        "---"
      ]
    },
    {
      "cell_type": "markdown",
      "metadata": {
        "id": "C8c7kbLJG2j9"
      },
      "source": [
        "### 📊 Dataset Overview\n",
        "\n",
        "| **Attribute** | **Details** |\n",
        "|---------------|-------------|\n",
        "| **Dataset Size** | 27,901 records × 18 features |\n",
        "| **Data Type** | Structured tabular data (CSV format) |\n",
        "| **Target Variable** | `Depression_Status` (Binary: 0/1 or Yes/No) |\n",
        "| **Problem Type** | Binary Classification |\n",
        "| **Data Source** | [Student Depression Dataset](www.kaggle.com/datasets/adilshamim8/student-depression-dataset) |"
      ]
    },
    {
      "cell_type": "markdown",
      "metadata": {},
      "source": [
        "### 📈 Expected Outcomes\n",
        "- Clean, processed dataset ready for machine learning"
      ]
    },
    {
      "cell_type": "markdown",
      "metadata": {},
      "source": [
        "## Step 1: Data Loading & Exploration"
      ]
    },
    {
      "cell_type": "code",
      "execution_count": 290,
      "metadata": {
        "id": "dE3S8z3JHgm7"
      },
      "outputs": [],
      "source": [
        "# =====================================\n",
        "# STEP 1: DATA LOADING & EXPLORATION\n",
        "# =====================================\n",
        "\n",
        "\n",
        "# Load libraries and suppress warnings\n",
        "import pandas as pd\n",
        "import numpy as np\n",
        "import matplotlib.pyplot as plt\n",
        "import seaborn as sns\n",
        "import warnings\n",
        "from prettytable import PrettyTable\n",
        "warnings.filterwarnings('ignore')\n",
        "\n",
        "# Set display options\n",
        "pd.set_option('display.max_columns', None)\n",
        "pd.set_option('display.width', 1000)"
      ]
    },
    {
      "cell_type": "code",
      "execution_count": 291,
      "metadata": {
        "collapsed": true,
        "id": "FnW_3Mz4HyDW"
      },
      "outputs": [],
      "source": [
        "\n",
        "# Load the dataset\n",
        "raw_df = pd.read_csv(\"./Data/raw/student_depression_dataset.csv\")"
      ]
    },
    {
      "cell_type": "code",
      "execution_count": 292,
      "metadata": {
        "id": "3QD3LBaHHykN"
      },
      "outputs": [],
      "source": [
        "# Reusable function definitions\n",
        "\n",
        "# Function to Print Shape of DataFrame\n",
        "def get_data_shape(data: pd.DataFrame) -> None:\n",
        "    if data.empty:\n",
        "        print(\"DataFrame is empty.\")\n",
        "    else:\n",
        "        # Print the shape of the DataFrame\n",
        "        print(\"DataFrame Dimensions\")\n",
        "        print(\"------------------------\")\n",
        "        print(f\"Rows   : {data.shape[0]}\")\n",
        "        print(f\"Columns: {data.shape[1]}\\n\")\n",
        "\n",
        "# Function to prints the first `n` rows of the given DataFrame.\n",
        "def print_head(data: pd.DataFrame, n: int = 5) -> None:\n",
        "    print(f\"\\nFirst {n} rows:\")\n",
        "    display(data.head(n))\n",
        "\n",
        "# A function to format value counts into a table. For more elegant and readable notebook.\n",
        "def value_counts_pretty(series, column_name=\"Value\", n=None, head=True):\n",
        "    value_counts = series.value_counts(dropna=False)\n",
        "    percentages = series.value_counts(dropna=False, normalize=True) * 100\n",
        "    \n",
        "    # Apply head/tail filtering if n is specified\n",
        "    if n is not None:\n",
        "        if head:\n",
        "            value_counts = value_counts.head(n)\n",
        "            percentages = percentages.head(n)\n",
        "        else:\n",
        "            value_counts = value_counts.tail(n)\n",
        "            percentages = percentages.tail(n)\n",
        "    \n",
        "    table = PrettyTable()        \n",
        "    table.field_names = [column_name, \"Count\", \"Percentage\"]\n",
        "    \n",
        "    # Set alignment\n",
        "    table.align[column_name] = \"c\"\n",
        "    table.align[\"Count\"] = \"r\"\n",
        "    table.align[\"Percentage\"] = \"r\"\n",
        "    \n",
        "    # Add rows\n",
        "    for rank, (value, count) in enumerate(value_counts.items(), 1):\n",
        "        display_value = \"NaN/Missing\" if pd.isna(value) else str(value)\n",
        "        pct = percentages[value]\n",
        "        \n",
        "        table.add_row([display_value, count, f\"{pct:.2f}%\"])\n",
        "    \n",
        "    return table"
      ]
    },
    {
      "cell_type": "code",
      "execution_count": 293,
      "metadata": {},
      "outputs": [
        {
          "name": "stdout",
          "output_type": "stream",
          "text": [
            "DataFrame Dimensions\n",
            "------------------------\n",
            "Rows   : 27901\n",
            "Columns: 18\n",
            "\n"
          ]
        }
      ],
      "source": [
        "# Find the dimensions of the dataset\n",
        "get_data_shape(raw_df)"
      ]
    },
    {
      "cell_type": "code",
      "execution_count": 294,
      "metadata": {},
      "outputs": [
        {
          "name": "stdout",
          "output_type": "stream",
          "text": [
            "\n",
            "🔹 Dataset Summary:\n",
            "+---------------------------------------+----------------+---------+\n",
            "|                 Column                | Non-Null Count |  Dtype  |\n",
            "+---------------------------------------+----------------+---------+\n",
            "|                   id                  |     27901      |  int64  |\n",
            "|                 Gender                |     27901      |  object |\n",
            "|                  Age                  |     27901      | float64 |\n",
            "|                  City                 |     27901      |  object |\n",
            "|               Profession              |     27901      |  object |\n",
            "|           Academic Pressure           |     27901      | float64 |\n",
            "|             Work Pressure             |     27901      | float64 |\n",
            "|                  CGPA                 |     27901      | float64 |\n",
            "|           Study Satisfaction          |     27901      | float64 |\n",
            "|            Job Satisfaction           |     27901      | float64 |\n",
            "|             Sleep Duration            |     27901      |  object |\n",
            "|             Dietary Habits            |     27901      |  object |\n",
            "|                 Degree                |     27901      |  object |\n",
            "| Have you ever had suicidal thoughts ? |     27901      |  object |\n",
            "|            Work/Study Hours           |     27901      | float64 |\n",
            "|            Financial Stress           |     27901      |  object |\n",
            "|    Family History of Mental Illness   |     27901      |  object |\n",
            "|               Depression              |     27901      |  int64  |\n",
            "+---------------------------------------+----------------+---------+\n"
          ]
        }
      ],
      "source": [
        "# Check data structure and datatypes of each column\n",
        "table = PrettyTable()\n",
        "table.field_names = [\"Column\", \"Non-Null Count\", \"Dtype\"]\n",
        "\n",
        "for col in raw_df.columns:\n",
        "    non_null_count = raw_df[col].count()\n",
        "    dtype = raw_df[col].dtype\n",
        "    table.add_row([col, non_null_count, dtype])\n",
        "\n",
        "print(\"\\n🔹 Dataset Summary:\")\n",
        "print(table)"
      ]
    },
    {
      "cell_type": "code",
      "execution_count": 295,
      "metadata": {},
      "outputs": [
        {
          "name": "stdout",
          "output_type": "stream",
          "text": [
            "\n",
            "First 5 rows:\n"
          ]
        },
        {
          "data": {
            "text/html": [
              "<div>\n",
              "<style scoped>\n",
              "    .dataframe tbody tr th:only-of-type {\n",
              "        vertical-align: middle;\n",
              "    }\n",
              "\n",
              "    .dataframe tbody tr th {\n",
              "        vertical-align: top;\n",
              "    }\n",
              "\n",
              "    .dataframe thead th {\n",
              "        text-align: right;\n",
              "    }\n",
              "</style>\n",
              "<table border=\"1\" class=\"dataframe\">\n",
              "  <thead>\n",
              "    <tr style=\"text-align: right;\">\n",
              "      <th></th>\n",
              "      <th>id</th>\n",
              "      <th>Gender</th>\n",
              "      <th>Age</th>\n",
              "      <th>City</th>\n",
              "      <th>Profession</th>\n",
              "      <th>Academic Pressure</th>\n",
              "      <th>Work Pressure</th>\n",
              "      <th>CGPA</th>\n",
              "      <th>Study Satisfaction</th>\n",
              "      <th>Job Satisfaction</th>\n",
              "      <th>Sleep Duration</th>\n",
              "      <th>Dietary Habits</th>\n",
              "      <th>Degree</th>\n",
              "      <th>Have you ever had suicidal thoughts ?</th>\n",
              "      <th>Work/Study Hours</th>\n",
              "      <th>Financial Stress</th>\n",
              "      <th>Family History of Mental Illness</th>\n",
              "      <th>Depression</th>\n",
              "    </tr>\n",
              "  </thead>\n",
              "  <tbody>\n",
              "    <tr>\n",
              "      <th>0</th>\n",
              "      <td>2</td>\n",
              "      <td>Male</td>\n",
              "      <td>33.0</td>\n",
              "      <td>Visakhapatnam</td>\n",
              "      <td>Student</td>\n",
              "      <td>5.0</td>\n",
              "      <td>0.0</td>\n",
              "      <td>8.97</td>\n",
              "      <td>2.0</td>\n",
              "      <td>0.0</td>\n",
              "      <td>'5-6 hours'</td>\n",
              "      <td>Healthy</td>\n",
              "      <td>B.Pharm</td>\n",
              "      <td>Yes</td>\n",
              "      <td>3.0</td>\n",
              "      <td>1.0</td>\n",
              "      <td>No</td>\n",
              "      <td>1</td>\n",
              "    </tr>\n",
              "    <tr>\n",
              "      <th>1</th>\n",
              "      <td>8</td>\n",
              "      <td>Female</td>\n",
              "      <td>24.0</td>\n",
              "      <td>Bangalore</td>\n",
              "      <td>Student</td>\n",
              "      <td>2.0</td>\n",
              "      <td>0.0</td>\n",
              "      <td>5.90</td>\n",
              "      <td>5.0</td>\n",
              "      <td>0.0</td>\n",
              "      <td>'5-6 hours'</td>\n",
              "      <td>Moderate</td>\n",
              "      <td>BSc</td>\n",
              "      <td>No</td>\n",
              "      <td>3.0</td>\n",
              "      <td>2.0</td>\n",
              "      <td>Yes</td>\n",
              "      <td>0</td>\n",
              "    </tr>\n",
              "    <tr>\n",
              "      <th>2</th>\n",
              "      <td>26</td>\n",
              "      <td>Male</td>\n",
              "      <td>31.0</td>\n",
              "      <td>Srinagar</td>\n",
              "      <td>Student</td>\n",
              "      <td>3.0</td>\n",
              "      <td>0.0</td>\n",
              "      <td>7.03</td>\n",
              "      <td>5.0</td>\n",
              "      <td>0.0</td>\n",
              "      <td>'Less than 5 hours'</td>\n",
              "      <td>Healthy</td>\n",
              "      <td>BA</td>\n",
              "      <td>No</td>\n",
              "      <td>9.0</td>\n",
              "      <td>1.0</td>\n",
              "      <td>Yes</td>\n",
              "      <td>0</td>\n",
              "    </tr>\n",
              "    <tr>\n",
              "      <th>3</th>\n",
              "      <td>30</td>\n",
              "      <td>Female</td>\n",
              "      <td>28.0</td>\n",
              "      <td>Varanasi</td>\n",
              "      <td>Student</td>\n",
              "      <td>3.0</td>\n",
              "      <td>0.0</td>\n",
              "      <td>5.59</td>\n",
              "      <td>2.0</td>\n",
              "      <td>0.0</td>\n",
              "      <td>'7-8 hours'</td>\n",
              "      <td>Moderate</td>\n",
              "      <td>BCA</td>\n",
              "      <td>Yes</td>\n",
              "      <td>4.0</td>\n",
              "      <td>5.0</td>\n",
              "      <td>Yes</td>\n",
              "      <td>1</td>\n",
              "    </tr>\n",
              "    <tr>\n",
              "      <th>4</th>\n",
              "      <td>32</td>\n",
              "      <td>Female</td>\n",
              "      <td>25.0</td>\n",
              "      <td>Jaipur</td>\n",
              "      <td>Student</td>\n",
              "      <td>4.0</td>\n",
              "      <td>0.0</td>\n",
              "      <td>8.13</td>\n",
              "      <td>3.0</td>\n",
              "      <td>0.0</td>\n",
              "      <td>'5-6 hours'</td>\n",
              "      <td>Moderate</td>\n",
              "      <td>M.Tech</td>\n",
              "      <td>Yes</td>\n",
              "      <td>1.0</td>\n",
              "      <td>1.0</td>\n",
              "      <td>No</td>\n",
              "      <td>0</td>\n",
              "    </tr>\n",
              "  </tbody>\n",
              "</table>\n",
              "</div>"
            ],
            "text/plain": [
              "   id  Gender   Age           City Profession  Academic Pressure  Work Pressure  CGPA  Study Satisfaction  Job Satisfaction       Sleep Duration Dietary Habits   Degree Have you ever had suicidal thoughts ?  Work/Study Hours Financial Stress Family History of Mental Illness  Depression\n",
              "0   2    Male  33.0  Visakhapatnam    Student                5.0            0.0  8.97                 2.0               0.0          '5-6 hours'        Healthy  B.Pharm                                   Yes               3.0              1.0                               No           1\n",
              "1   8  Female  24.0      Bangalore    Student                2.0            0.0  5.90                 5.0               0.0          '5-6 hours'       Moderate      BSc                                    No               3.0              2.0                              Yes           0\n",
              "2  26    Male  31.0       Srinagar    Student                3.0            0.0  7.03                 5.0               0.0  'Less than 5 hours'        Healthy       BA                                    No               9.0              1.0                              Yes           0\n",
              "3  30  Female  28.0       Varanasi    Student                3.0            0.0  5.59                 2.0               0.0          '7-8 hours'       Moderate      BCA                                   Yes               4.0              5.0                              Yes           1\n",
              "4  32  Female  25.0         Jaipur    Student                4.0            0.0  8.13                 3.0               0.0          '5-6 hours'       Moderate   M.Tech                                   Yes               1.0              1.0                               No           0"
            ]
          },
          "metadata": {},
          "output_type": "display_data"
        }
      ],
      "source": [
        "# Display first few rows (Provides a quick look at the dataset's content).\n",
        "print_head(raw_df)"
      ]
    },
    {
      "cell_type": "markdown",
      "metadata": {},
      "source": [
        "💡 **Observations:**  \n",
        "- All columns seems to be having `27901` Non-Null counts suggesting no missing values.\n",
        "- All column names are readable and appear to be semantically meaningful.\n",
        "- The `id` column does not increment sequentially\n",
        "- `Work Pressure` and `Job Satisfaction` have only 0.0 values in the initial rows.\n",
        "- The `Profession` column appears to contain only \"Student\" values so far.\n",
        "\n",
        "> *🧠 Some column names contain spaces, which can cause issues in processing, let's fix them up.*"
      ]
    },
    {
      "cell_type": "code",
      "execution_count": 296,
      "metadata": {},
      "outputs": [
        {
          "name": "stdout",
          "output_type": "stream",
          "text": [
            "\n",
            "Column names:\n",
            "['id', 'gender', 'age', 'city', 'profession', 'academic_pressure', 'work_pressure', 'cgpa', 'study_satisfaction', 'job_satisfaction', 'sleep_duration', 'dietary_habits', 'degree', 'have_you_ever_had_suicidal_thoughts', 'work_study_hours', 'financial_stress', 'family_history_of_mental_illness', 'depression']\n"
          ]
        }
      ],
      "source": [
        "# Clean column names\n",
        "# Remove leading/trailing spaces, convert to lowercase, replace spaces and question marks\n",
        "# 🍀 Return a new dataframe\n",
        "df = raw_df.copy()      \n",
        "df.columns = [col.strip().lower().replace(\" \", \"_\").replace(\"/\", \"_\").replace(\"?\", \"\").rstrip(\"_\") for col in raw_df.columns]\n",
        "print(\"\\nColumn names:\")\n",
        "print(df.columns.tolist())"
      ]
    },
    {
      "cell_type": "code",
      "execution_count": 297,
      "metadata": {},
      "outputs": [
        {
          "data": {
            "text/html": [
              "<div>\n",
              "<style scoped>\n",
              "    .dataframe tbody tr th:only-of-type {\n",
              "        vertical-align: middle;\n",
              "    }\n",
              "\n",
              "    .dataframe tbody tr th {\n",
              "        vertical-align: top;\n",
              "    }\n",
              "\n",
              "    .dataframe thead th {\n",
              "        text-align: right;\n",
              "    }\n",
              "</style>\n",
              "<table border=\"1\" class=\"dataframe\">\n",
              "  <thead>\n",
              "    <tr style=\"text-align: right;\">\n",
              "      <th></th>\n",
              "      <th>age</th>\n",
              "      <th>academic_pressure</th>\n",
              "      <th>work_pressure</th>\n",
              "      <th>cgpa</th>\n",
              "      <th>study_satisfaction</th>\n",
              "      <th>job_satisfaction</th>\n",
              "      <th>work_study_hours</th>\n",
              "      <th>depression</th>\n",
              "    </tr>\n",
              "  </thead>\n",
              "  <tbody>\n",
              "    <tr>\n",
              "      <th>count</th>\n",
              "      <td>27901.000000</td>\n",
              "      <td>27901.000000</td>\n",
              "      <td>27901.000000</td>\n",
              "      <td>27901.000000</td>\n",
              "      <td>27901.000000</td>\n",
              "      <td>27901.000000</td>\n",
              "      <td>27901.000000</td>\n",
              "      <td>27901.000000</td>\n",
              "    </tr>\n",
              "    <tr>\n",
              "      <th>mean</th>\n",
              "      <td>25.822300</td>\n",
              "      <td>3.141214</td>\n",
              "      <td>0.000430</td>\n",
              "      <td>7.656104</td>\n",
              "      <td>2.943837</td>\n",
              "      <td>0.000681</td>\n",
              "      <td>7.156984</td>\n",
              "      <td>0.585499</td>\n",
              "    </tr>\n",
              "    <tr>\n",
              "      <th>std</th>\n",
              "      <td>4.905687</td>\n",
              "      <td>1.381465</td>\n",
              "      <td>0.043992</td>\n",
              "      <td>1.470707</td>\n",
              "      <td>1.361148</td>\n",
              "      <td>0.044394</td>\n",
              "      <td>3.707642</td>\n",
              "      <td>0.492645</td>\n",
              "    </tr>\n",
              "    <tr>\n",
              "      <th>min</th>\n",
              "      <td>18.000000</td>\n",
              "      <td>0.000000</td>\n",
              "      <td>0.000000</td>\n",
              "      <td>0.000000</td>\n",
              "      <td>0.000000</td>\n",
              "      <td>0.000000</td>\n",
              "      <td>0.000000</td>\n",
              "      <td>0.000000</td>\n",
              "    </tr>\n",
              "    <tr>\n",
              "      <th>25%</th>\n",
              "      <td>21.000000</td>\n",
              "      <td>2.000000</td>\n",
              "      <td>0.000000</td>\n",
              "      <td>6.290000</td>\n",
              "      <td>2.000000</td>\n",
              "      <td>0.000000</td>\n",
              "      <td>4.000000</td>\n",
              "      <td>0.000000</td>\n",
              "    </tr>\n",
              "    <tr>\n",
              "      <th>50%</th>\n",
              "      <td>25.000000</td>\n",
              "      <td>3.000000</td>\n",
              "      <td>0.000000</td>\n",
              "      <td>7.770000</td>\n",
              "      <td>3.000000</td>\n",
              "      <td>0.000000</td>\n",
              "      <td>8.000000</td>\n",
              "      <td>1.000000</td>\n",
              "    </tr>\n",
              "    <tr>\n",
              "      <th>75%</th>\n",
              "      <td>30.000000</td>\n",
              "      <td>4.000000</td>\n",
              "      <td>0.000000</td>\n",
              "      <td>8.920000</td>\n",
              "      <td>4.000000</td>\n",
              "      <td>0.000000</td>\n",
              "      <td>10.000000</td>\n",
              "      <td>1.000000</td>\n",
              "    </tr>\n",
              "    <tr>\n",
              "      <th>max</th>\n",
              "      <td>59.000000</td>\n",
              "      <td>5.000000</td>\n",
              "      <td>5.000000</td>\n",
              "      <td>10.000000</td>\n",
              "      <td>5.000000</td>\n",
              "      <td>4.000000</td>\n",
              "      <td>12.000000</td>\n",
              "      <td>1.000000</td>\n",
              "    </tr>\n",
              "  </tbody>\n",
              "</table>\n",
              "</div>"
            ],
            "text/plain": [
              "                age  academic_pressure  work_pressure          cgpa  study_satisfaction  job_satisfaction  work_study_hours    depression\n",
              "count  27901.000000       27901.000000   27901.000000  27901.000000        27901.000000      27901.000000      27901.000000  27901.000000\n",
              "mean      25.822300           3.141214       0.000430      7.656104            2.943837          0.000681          7.156984      0.585499\n",
              "std        4.905687           1.381465       0.043992      1.470707            1.361148          0.044394          3.707642      0.492645\n",
              "min       18.000000           0.000000       0.000000      0.000000            0.000000          0.000000          0.000000      0.000000\n",
              "25%       21.000000           2.000000       0.000000      6.290000            2.000000          0.000000          4.000000      0.000000\n",
              "50%       25.000000           3.000000       0.000000      7.770000            3.000000          0.000000          8.000000      1.000000\n",
              "75%       30.000000           4.000000       0.000000      8.920000            4.000000          0.000000         10.000000      1.000000\n",
              "max       59.000000           5.000000       5.000000     10.000000            5.000000          4.000000         12.000000      1.000000"
            ]
          },
          "metadata": {},
          "output_type": "display_data"
        }
      ],
      "source": [
        "# Prints basic statistics (mean, standard deviation, min, max, etc.)\n",
        "numeric_cols = df.select_dtypes(include=[np.number]).columns.drop('id', errors='ignore')  # For  numeric data types\n",
        "display(df[numeric_cols].describe())   "
      ]
    },
    {
      "cell_type": "markdown",
      "metadata": {},
      "source": [
        "💡 **Observations:**  \n",
        "- `Age` mostly ranges between 21 to 30, aligning with student demographics ,though the max age is 59, which may be an outlier or non-student entry.\n",
        "- `Work Pressure` and `Job Satisfaction` values appear to be very close to 0, suggesting missing data, poor scaling, or inactive features. \n",
        "\n",
        "> *🧠 First, let's examine the behavior of `Work Pressure` and `Job Satisfaction` to understand their distribution better*\n"
      ]
    },
    {
      "cell_type": "code",
      "execution_count": 298,
      "metadata": {},
      "outputs": [
        {
          "name": "stdout",
          "output_type": "stream",
          "text": [
            "\n",
            "🔍 Value counts for 'work_pressure':\n",
            "+---------------+-------+------------+\n",
            "| work_pressure | Count | Percentage |\n",
            "+---------------+-------+------------+\n",
            "|      0.0      | 27898 |     99.99% |\n",
            "|      5.0      |     2 |      0.01% |\n",
            "|      2.0      |     1 |      0.00% |\n",
            "+---------------+-------+------------+\n",
            "\n",
            "🔍 Value counts for 'job_satisfaction':\n",
            "+------------------+-------+------------+\n",
            "| job_satisfaction | Count | Percentage |\n",
            "+------------------+-------+------------+\n",
            "|       0.0        | 27893 |     99.97% |\n",
            "|       2.0        |     3 |      0.01% |\n",
            "|       4.0        |     2 |      0.01% |\n",
            "+------------------+-------+------------+\n"
          ]
        }
      ],
      "source": [
        "# Analyze Selected Columns: `Work Pressure` and `Job Satisfaction`\n",
        "colsJob = ['work_pressure', 'job_satisfaction']\n",
        "for col in colsJob:\n",
        "    print(f\"\\n🔍 Value counts for '{col}':\")\n",
        "    print(value_counts_pretty(df[col], col , n=3))"
      ]
    },
    {
      "cell_type": "markdown",
      "metadata": {},
      "source": [
        "💡 **Observations:**  \n",
        "- Work Pressure: 99.99% of the values are 0.0\n",
        "- Job Satisfaction: Also dominated by 0.0 values 99.97%.\n",
        "\n",
        "> *🧠 Work Pressure and Job Satisfaction show extreme class imbalance (>99% zero). These features likely carry no predictive value and may be excluded from training.*\n",
        "\n"
      ]
    },
    {
      "cell_type": "code",
      "execution_count": 299,
      "metadata": {},
      "outputs": [
        {
          "data": {
            "image/png": "[encoded data removed]",
            "text/plain": [
              "<Figure size 1200x400 with 2 Axes>"
            ]
          },
          "metadata": {},
          "output_type": "display_data"
        }
      ],
      "source": [
        "# Visualize distributions of selected job-related columns\n",
        "plt.figure(figsize=(12, 4))\n",
        "\n",
        "for i, col in enumerate(colsJob, 1):\n",
        "    plt.subplot(1, 2, i)\n",
        "    sns.boxplot(data=df, x='depression', y=col, palette='Set2')\n",
        "    plt.title(f'{col} vs Target')\n",
        "    plt.xlabel('depression')\n",
        "    plt.ylabel(col)\n",
        "\n",
        "plt.tight_layout()\n",
        "plt.show()\n"
      ]
    },
    {
      "cell_type": "markdown",
      "metadata": {},
      "source": [
        "💡 **Observations:**  \n",
        "- The few non-zero values are rare outliers, and they're randomly scattered, not concentrated in any one class.\n",
        "\n",
        "> *🧠 This pattern strongly suggests these features offer no meaningful separation between the target classes.*\n"
      ]
    },
    {
      "cell_type": "markdown",
      "metadata": {},
      "source": [
        "> 🔻 So we drop `Work Pressure` and `Job Satisfaction` : highly skewed, not predictive."
      ]
    },
    {
      "cell_type": "code",
      "execution_count": 300,
      "metadata": {},
      "outputs": [],
      "source": [
        "# 📌 Drop the columns in place\n",
        "df.drop(['work_pressure', 'job_satisfaction'], axis=1, inplace=True)"
      ]
    },
    {
      "cell_type": "markdown",
      "metadata": {},
      "source": [
        "> *🧠 Next we can focus on the `Profession` column.*"
      ]
    },
    {
      "cell_type": "code",
      "execution_count": 301,
      "metadata": {},
      "outputs": [
        {
          "name": "stdout",
          "output_type": "stream",
          "text": [
            "\n",
            "# Value counts for 'Profession':\n",
            "profession\n",
            "Student                     27870\n",
            "Architect                       8\n",
            "Teacher                         6\n",
            "'Digital Marketer'              3\n",
            "Chef                            2\n",
            "'Content Writer'                2\n",
            "Pharmacist                      2\n",
            "Doctor                          2\n",
            "'UX/UI Designer'                1\n",
            "'Civil Engineer'                1\n",
            "Manager                         1\n",
            "'Educational Consultant'        1\n",
            "Lawyer                          1\n",
            "Entrepreneur                    1\n",
            "Name: count, dtype: int64\n"
          ]
        }
      ],
      "source": [
        "# Analyze Profession value counts.\n",
        "print(f\"\\n# Value counts for 'Profession':\")\n",
        "print(df['profession'].value_counts(dropna=False))"
      ]
    },
    {
      "cell_type": "code",
      "execution_count": 302,
      "metadata": {},
      "outputs": [
        {
          "name": "stdout",
          "output_type": "stream",
          "text": [
            "\n",
            "# Summery of value counts 'Profession':\n",
            "Student count: 27870\n",
            "Other count: 31 (0.11%)\n"
          ]
        }
      ],
      "source": [
        "# Summary of value counts for better readability\n",
        "print(f\"\\n# Summery of value counts 'Profession':\")\n",
        "\n",
        "student_count = df[df['profession'] == 'Student'].shape[0]\n",
        "print(f\"Student count: {student_count}\")\n",
        "\n",
        "non_student_count = df.shape[0] - student_count\n",
        "print(f\"Other count: {non_student_count} ({(non_student_count/df.shape[0])*100:.2f}%)\")"
      ]
    },
    {
      "cell_type": "markdown",
      "metadata": {},
      "source": [
        "💡 **Observations:**  \n",
        "- The column `Profession` is heavily imbalanced, with \"Student\" making up 99.89% of the data.\n",
        "- The remaining values represent non-student professions and occur in very small numbers. \n",
        "\n",
        "> *🧠 Since our project focuses on students, and the presence of other professions is minimal and irrelevant, these entries can be safely excluded.*"
      ]
    },
    {
      "cell_type": "markdown",
      "metadata": {},
      "source": [
        "> 🔻 So we drop `Profession` : not needed after filtering to only student data."
      ]
    },
    {
      "cell_type": "code",
      "execution_count": 303,
      "metadata": {},
      "outputs": [],
      "source": [
        "# 📌 Drop the column in place\n",
        "df.drop(['profession'], axis=1, inplace=True)"
      ]
    },
    {
      "cell_type": "code",
      "execution_count": 304,
      "metadata": {},
      "outputs": [
        {
          "name": "stdout",
          "output_type": "stream",
          "text": [
            "\n",
            "First 5 rows:\n"
          ]
        },
        {
          "data": {
            "text/html": [
              "<div>\n",
              "<style scoped>\n",
              "    .dataframe tbody tr th:only-of-type {\n",
              "        vertical-align: middle;\n",
              "    }\n",
              "\n",
              "    .dataframe tbody tr th {\n",
              "        vertical-align: top;\n",
              "    }\n",
              "\n",
              "    .dataframe thead th {\n",
              "        text-align: right;\n",
              "    }\n",
              "</style>\n",
              "<table border=\"1\" class=\"dataframe\">\n",
              "  <thead>\n",
              "    <tr style=\"text-align: right;\">\n",
              "      <th></th>\n",
              "      <th>id</th>\n",
              "      <th>gender</th>\n",
              "      <th>age</th>\n",
              "      <th>city</th>\n",
              "      <th>academic_pressure</th>\n",
              "      <th>cgpa</th>\n",
              "      <th>study_satisfaction</th>\n",
              "      <th>sleep_duration</th>\n",
              "      <th>dietary_habits</th>\n",
              "      <th>degree</th>\n",
              "      <th>have_you_ever_had_suicidal_thoughts</th>\n",
              "      <th>work_study_hours</th>\n",
              "      <th>financial_stress</th>\n",
              "      <th>family_history_of_mental_illness</th>\n",
              "      <th>depression</th>\n",
              "    </tr>\n",
              "  </thead>\n",
              "  <tbody>\n",
              "    <tr>\n",
              "      <th>0</th>\n",
              "      <td>2</td>\n",
              "      <td>Male</td>\n",
              "      <td>33.0</td>\n",
              "      <td>Visakhapatnam</td>\n",
              "      <td>5.0</td>\n",
              "      <td>8.97</td>\n",
              "      <td>2.0</td>\n",
              "      <td>'5-6 hours'</td>\n",
              "      <td>Healthy</td>\n",
              "      <td>B.Pharm</td>\n",
              "      <td>Yes</td>\n",
              "      <td>3.0</td>\n",
              "      <td>1.0</td>\n",
              "      <td>No</td>\n",
              "      <td>1</td>\n",
              "    </tr>\n",
              "    <tr>\n",
              "      <th>1</th>\n",
              "      <td>8</td>\n",
              "      <td>Female</td>\n",
              "      <td>24.0</td>\n",
              "      <td>Bangalore</td>\n",
              "      <td>2.0</td>\n",
              "      <td>5.90</td>\n",
              "      <td>5.0</td>\n",
              "      <td>'5-6 hours'</td>\n",
              "      <td>Moderate</td>\n",
              "      <td>BSc</td>\n",
              "      <td>No</td>\n",
              "      <td>3.0</td>\n",
              "      <td>2.0</td>\n",
              "      <td>Yes</td>\n",
              "      <td>0</td>\n",
              "    </tr>\n",
              "    <tr>\n",
              "      <th>2</th>\n",
              "      <td>26</td>\n",
              "      <td>Male</td>\n",
              "      <td>31.0</td>\n",
              "      <td>Srinagar</td>\n",
              "      <td>3.0</td>\n",
              "      <td>7.03</td>\n",
              "      <td>5.0</td>\n",
              "      <td>'Less than 5 hours'</td>\n",
              "      <td>Healthy</td>\n",
              "      <td>BA</td>\n",
              "      <td>No</td>\n",
              "      <td>9.0</td>\n",
              "      <td>1.0</td>\n",
              "      <td>Yes</td>\n",
              "      <td>0</td>\n",
              "    </tr>\n",
              "    <tr>\n",
              "      <th>3</th>\n",
              "      <td>30</td>\n",
              "      <td>Female</td>\n",
              "      <td>28.0</td>\n",
              "      <td>Varanasi</td>\n",
              "      <td>3.0</td>\n",
              "      <td>5.59</td>\n",
              "      <td>2.0</td>\n",
              "      <td>'7-8 hours'</td>\n",
              "      <td>Moderate</td>\n",
              "      <td>BCA</td>\n",
              "      <td>Yes</td>\n",
              "      <td>4.0</td>\n",
              "      <td>5.0</td>\n",
              "      <td>Yes</td>\n",
              "      <td>1</td>\n",
              "    </tr>\n",
              "    <tr>\n",
              "      <th>4</th>\n",
              "      <td>32</td>\n",
              "      <td>Female</td>\n",
              "      <td>25.0</td>\n",
              "      <td>Jaipur</td>\n",
              "      <td>4.0</td>\n",
              "      <td>8.13</td>\n",
              "      <td>3.0</td>\n",
              "      <td>'5-6 hours'</td>\n",
              "      <td>Moderate</td>\n",
              "      <td>M.Tech</td>\n",
              "      <td>Yes</td>\n",
              "      <td>1.0</td>\n",
              "      <td>1.0</td>\n",
              "      <td>No</td>\n",
              "      <td>0</td>\n",
              "    </tr>\n",
              "  </tbody>\n",
              "</table>\n",
              "</div>"
            ],
            "text/plain": [
              "   id  gender   age           city  academic_pressure  cgpa  study_satisfaction       sleep_duration dietary_habits   degree have_you_ever_had_suicidal_thoughts  work_study_hours financial_stress family_history_of_mental_illness  depression\n",
              "0   2    Male  33.0  Visakhapatnam                5.0  8.97                 2.0          '5-6 hours'        Healthy  B.Pharm                                 Yes               3.0              1.0                               No           1\n",
              "1   8  Female  24.0      Bangalore                2.0  5.90                 5.0          '5-6 hours'       Moderate      BSc                                  No               3.0              2.0                              Yes           0\n",
              "2  26    Male  31.0       Srinagar                3.0  7.03                 5.0  'Less than 5 hours'        Healthy       BA                                  No               9.0              1.0                              Yes           0\n",
              "3  30  Female  28.0       Varanasi                3.0  5.59                 2.0          '7-8 hours'       Moderate      BCA                                 Yes               4.0              5.0                              Yes           1\n",
              "4  32  Female  25.0         Jaipur                4.0  8.13                 3.0          '5-6 hours'       Moderate   M.Tech                                 Yes               1.0              1.0                               No           0"
            ]
          },
          "metadata": {},
          "output_type": "display_data"
        }
      ],
      "source": [
        "# A quick look at the data frame after the changes\n",
        "print_head(df)"
      ]
    },
    {
      "cell_type": "code",
      "execution_count": 305,
      "metadata": {},
      "outputs": [
        {
          "name": "stdout",
          "output_type": "stream",
          "text": [
            "DataFrame Dimensions\n",
            "------------------------\n",
            "Rows   : 27901\n",
            "Columns: 15\n",
            "\n"
          ]
        }
      ],
      "source": [
        "# new dimensions of the dataset\n",
        "get_data_shape(df)"
      ]
    },
    {
      "cell_type": "markdown",
      "metadata": {},
      "source": [
        "> *🧠 Next we can focus on the `City` column.*\n",
        "- Since our project focuses on **student depression**, and the dataset is sourced from **India**, we need to evaluate whether `City` contributes meaningful information or if it introduces noise due to geographic mismatch or imbalance."
      ]
    },
    {
      "cell_type": "code",
      "execution_count": 306,
      "metadata": {},
      "outputs": [
        {
          "name": "stdout",
          "output_type": "stream",
          "text": [
            "Unique cities: 52\n",
            "\n",
            "🔍Top 5 Most Frequent Cities:\n",
            "+-------------+-------+------------+\n",
            "|     City    | Count | Percentage |\n",
            "+-------------+-------+------------+\n",
            "|    Kalyan   |  1570 |      5.63% |\n",
            "|   Srinagar  |  1372 |      4.92% |\n",
            "|  Hyderabad  |  1340 |      4.80% |\n",
            "| Vasai-Virar |  1290 |      4.62% |\n",
            "|   Lucknow   |  1155 |      4.14% |\n",
            "+-------------+-------+------------+\n",
            "\n",
            "🔍Top 5 Least Frequent Cities:\n",
            "+-----------+-------+------------+\n",
            "|    City   | Count | Percentage |\n",
            "+-----------+-------+------------+\n",
            "|   Nalyan  |     1 |      0.00% |\n",
            "|   Mihir   |     1 |      0.00% |\n",
            "|   Nalini  |     1 |      0.00% |\n",
            "|  Nandini  |     1 |      0.00% |\n",
            "| Khaziabad |     1 |      0.00% |\n",
            "+-----------+-------+------------+\n"
          ]
        }
      ],
      "source": [
        "# Check Basic Distribution of 'City' Column\n",
        "\n",
        "# Count of unique cities\n",
        "print(f\"Unique cities: {df['city'].nunique()}\")\n",
        "\n",
        "# Top 5 most frequent cities\n",
        "print(\"\\n🔍Top 5 Most Frequent Cities:\")\n",
        "print(value_counts_pretty(df['city'], \"City\", n=5))\n",
        "\n",
        "# Top 5 least frequent cities\n",
        "print(\"\\n🔍Top 5 Least Frequent Cities:\")\n",
        "print(value_counts_pretty(df['city'], \"City\", n=5, head=False))\n"
      ]
    },
    {
      "cell_type": "markdown",
      "metadata": {},
      "source": [
        "💡 **Observations:**  \n",
        "- The top 5 cities each have ~1000 or more entries.\n",
        "- The bottom 5 cities have only 1 record each, suggesting they're rare or outliers.\n",
        "\n",
        "> *🧠 Let's visualize the city distribution for a clearer understanding of its skewness.*"
      ]
    },
    {
      "cell_type": "code",
      "execution_count": 307,
      "metadata": {},
      "outputs": [
        {
          "data": {
            "image/png": "[encoded data removed]",
            "text/plain": [
              "<Figure size 1400x600 with 1 Axes>"
            ]
          },
          "metadata": {},
          "output_type": "display_data"
        }
      ],
      "source": [
        "# Data visualization for `City` column\n",
        "\n",
        "plt.figure(figsize=(14, 6))\n",
        "sns.countplot(data=df, x='city', hue='depression', order=df['city'].value_counts().index[:])\n",
        "plt.title(\"Cities by Target Distribution\")\n",
        "plt.xlabel(\"City\")\n",
        "plt.ylabel(\"Count\")\n",
        "plt.xticks(rotation=45)\n",
        "plt.tight_layout()\n",
        "plt.show()"
      ]
    },
    {
      "cell_type": "markdown",
      "metadata": {},
      "source": [
        "💡 **Observations:**  \n",
        "- `City` column shows a long-tail distribution with top cities highly represented\n",
        "- There are clear data quality issues, as some entries in the City column are invalid or noisy, `e.g., 'Less than 5', 'M.Tech', 'M.Com', Nayra, Mini, etc.`  \n",
        "\n",
        ".\n",
        "> *🔻 City column will be dropped because:*\n",
        "- The dataset contains Indian cities, not relevant and may introduce regional bias.\n",
        "- The column has significant skewness, with a few cities dominating the data\n",
        "- There are clear data quality issues."
      ]
    },
    {
      "cell_type": "code",
      "execution_count": 308,
      "metadata": {},
      "outputs": [],
      "source": [
        "# 📌 Drop the column in place\n",
        "df.drop(['city'], axis=1, inplace=True)"
      ]
    },
    {
      "cell_type": "code",
      "execution_count": 309,
      "metadata": {},
      "outputs": [
        {
          "name": "stdout",
          "output_type": "stream",
          "text": [
            "DataFrame Dimensions\n",
            "------------------------\n",
            "Rows   : 27901\n",
            "Columns: 14\n",
            "\n",
            "\n",
            "Column names:\n",
            "['id', 'gender', 'age', 'academic_pressure', 'cgpa', 'study_satisfaction', 'sleep_duration', 'dietary_habits', 'degree', 'have_you_ever_had_suicidal_thoughts', 'work_study_hours', 'financial_stress', 'family_history_of_mental_illness', 'depression']\n",
            "\n",
            "First five rows of edited dataset:\n"
          ]
        },
        {
          "data": {
            "text/html": [
              "<div>\n",
              "<style scoped>\n",
              "    .dataframe tbody tr th:only-of-type {\n",
              "        vertical-align: middle;\n",
              "    }\n",
              "\n",
              "    .dataframe tbody tr th {\n",
              "        vertical-align: top;\n",
              "    }\n",
              "\n",
              "    .dataframe thead th {\n",
              "        text-align: right;\n",
              "    }\n",
              "</style>\n",
              "<table border=\"1\" class=\"dataframe\">\n",
              "  <thead>\n",
              "    <tr style=\"text-align: right;\">\n",
              "      <th></th>\n",
              "      <th>id</th>\n",
              "      <th>gender</th>\n",
              "      <th>age</th>\n",
              "      <th>academic_pressure</th>\n",
              "      <th>cgpa</th>\n",
              "      <th>study_satisfaction</th>\n",
              "      <th>sleep_duration</th>\n",
              "      <th>dietary_habits</th>\n",
              "      <th>degree</th>\n",
              "      <th>have_you_ever_had_suicidal_thoughts</th>\n",
              "      <th>work_study_hours</th>\n",
              "      <th>financial_stress</th>\n",
              "      <th>family_history_of_mental_illness</th>\n",
              "      <th>depression</th>\n",
              "    </tr>\n",
              "  </thead>\n",
              "  <tbody>\n",
              "    <tr>\n",
              "      <th>0</th>\n",
              "      <td>2</td>\n",
              "      <td>Male</td>\n",
              "      <td>33.0</td>\n",
              "      <td>5.0</td>\n",
              "      <td>8.97</td>\n",
              "      <td>2.0</td>\n",
              "      <td>'5-6 hours'</td>\n",
              "      <td>Healthy</td>\n",
              "      <td>B.Pharm</td>\n",
              "      <td>Yes</td>\n",
              "      <td>3.0</td>\n",
              "      <td>1.0</td>\n",
              "      <td>No</td>\n",
              "      <td>1</td>\n",
              "    </tr>\n",
              "    <tr>\n",
              "      <th>1</th>\n",
              "      <td>8</td>\n",
              "      <td>Female</td>\n",
              "      <td>24.0</td>\n",
              "      <td>2.0</td>\n",
              "      <td>5.90</td>\n",
              "      <td>5.0</td>\n",
              "      <td>'5-6 hours'</td>\n",
              "      <td>Moderate</td>\n",
              "      <td>BSc</td>\n",
              "      <td>No</td>\n",
              "      <td>3.0</td>\n",
              "      <td>2.0</td>\n",
              "      <td>Yes</td>\n",
              "      <td>0</td>\n",
              "    </tr>\n",
              "    <tr>\n",
              "      <th>2</th>\n",
              "      <td>26</td>\n",
              "      <td>Male</td>\n",
              "      <td>31.0</td>\n",
              "      <td>3.0</td>\n",
              "      <td>7.03</td>\n",
              "      <td>5.0</td>\n",
              "      <td>'Less than 5 hours'</td>\n",
              "      <td>Healthy</td>\n",
              "      <td>BA</td>\n",
              "      <td>No</td>\n",
              "      <td>9.0</td>\n",
              "      <td>1.0</td>\n",
              "      <td>Yes</td>\n",
              "      <td>0</td>\n",
              "    </tr>\n",
              "    <tr>\n",
              "      <th>3</th>\n",
              "      <td>30</td>\n",
              "      <td>Female</td>\n",
              "      <td>28.0</td>\n",
              "      <td>3.0</td>\n",
              "      <td>5.59</td>\n",
              "      <td>2.0</td>\n",
              "      <td>'7-8 hours'</td>\n",
              "      <td>Moderate</td>\n",
              "      <td>BCA</td>\n",
              "      <td>Yes</td>\n",
              "      <td>4.0</td>\n",
              "      <td>5.0</td>\n",
              "      <td>Yes</td>\n",
              "      <td>1</td>\n",
              "    </tr>\n",
              "    <tr>\n",
              "      <th>4</th>\n",
              "      <td>32</td>\n",
              "      <td>Female</td>\n",
              "      <td>25.0</td>\n",
              "      <td>4.0</td>\n",
              "      <td>8.13</td>\n",
              "      <td>3.0</td>\n",
              "      <td>'5-6 hours'</td>\n",
              "      <td>Moderate</td>\n",
              "      <td>M.Tech</td>\n",
              "      <td>Yes</td>\n",
              "      <td>1.0</td>\n",
              "      <td>1.0</td>\n",
              "      <td>No</td>\n",
              "      <td>0</td>\n",
              "    </tr>\n",
              "  </tbody>\n",
              "</table>\n",
              "</div>"
            ],
            "text/plain": [
              "   id  gender   age  academic_pressure  cgpa  study_satisfaction       sleep_duration dietary_habits   degree have_you_ever_had_suicidal_thoughts  work_study_hours financial_stress family_history_of_mental_illness  depression\n",
              "0   2    Male  33.0                5.0  8.97                 2.0          '5-6 hours'        Healthy  B.Pharm                                 Yes               3.0              1.0                               No           1\n",
              "1   8  Female  24.0                2.0  5.90                 5.0          '5-6 hours'       Moderate      BSc                                  No               3.0              2.0                              Yes           0\n",
              "2  26    Male  31.0                3.0  7.03                 5.0  'Less than 5 hours'        Healthy       BA                                  No               9.0              1.0                              Yes           0\n",
              "3  30  Female  28.0                3.0  5.59                 2.0          '7-8 hours'       Moderate      BCA                                 Yes               4.0              5.0                              Yes           1\n",
              "4  32  Female  25.0                4.0  8.13                 3.0          '5-6 hours'       Moderate   M.Tech                                 Yes               1.0              1.0                               No           0"
            ]
          },
          "execution_count": 309,
          "metadata": {},
          "output_type": "execute_result"
        }
      ],
      "source": [
        "# Overview of the dataset after column drops\n",
        "# new dimensions of the dataset\n",
        "get_data_shape(df)\n",
        "# Let's take a look at remaining columns\n",
        "\n",
        "print(\"\\nColumn names:\")\n",
        "print(df.columns.tolist())\n",
        "\n",
        "# Print first five rows \n",
        "print(f\"\\nFirst five rows of edited dataset:\")\n",
        "df.head()"
      ]
    },
    {
      "cell_type": "code",
      "execution_count": 310,
      "metadata": {},
      "outputs": [
        {
          "name": "stdout",
          "output_type": "stream",
          "text": [
            "Statistical Summary for Numerical Columns:\n",
            "                  id           age  academic_pressure          cgpa  study_satisfaction  work_study_hours    depression\n",
            "count   27901.000000  27901.000000       27901.000000  27901.000000        27901.000000      27901.000000  27901.000000\n",
            "mean    70442.149421     25.822300           3.141214      7.656104            2.943837          7.156984      0.585499\n",
            "std     40641.175216      4.905687           1.381465      1.470707            1.361148          3.707642      0.492645\n",
            "min         2.000000     18.000000           0.000000      0.000000            0.000000          0.000000      0.000000\n",
            "25%     35039.000000     21.000000           2.000000      6.290000            2.000000          4.000000      0.000000\n",
            "50%     70684.000000     25.000000           3.000000      7.770000            3.000000          8.000000      1.000000\n",
            "75%    105818.000000     30.000000           4.000000      8.920000            4.000000         10.000000      1.000000\n",
            "max    140699.000000     59.000000           5.000000     10.000000            5.000000         12.000000      1.000000\n",
            "\n",
            "Statistical Summary for Categorical Columns:\n",
            "+-------------------------------------+-------+--------+---------------------+-------+\n",
            "|                Column               | Count | Unique |         Top         |  Freq |\n",
            "+-------------------------------------+-------+--------+---------------------+-------+\n",
            "|                gender               | 27901 |   2    |         Male        | 15547 |\n",
            "|            sleep_duration           | 27901 |   5    | 'Less than 5 hours' |  8310 |\n",
            "|            dietary_habits           | 27901 |   4    |      Unhealthy      | 10317 |\n",
            "|                degree               | 27901 |   28   |      'Class 12'     |  6080 |\n",
            "| have_you_ever_had_suicidal_thoughts | 27901 |   2    |         Yes         | 17656 |\n",
            "|           financial_stress          | 27901 |   6    |         5.0         |  6715 |\n",
            "|   family_history_of_mental_illness  | 27901 |   2    |          No         | 14398 |\n",
            "+-------------------------------------+-------+--------+---------------------+-------+\n"
          ]
        }
      ],
      "source": [
        "# Statistical Summary of the dataset after column drops\n",
        "# Statistical Summary for Numerical Columns (excluding 'id' if needed)\n",
        "print(\"Statistical Summary for Numerical Columns:\")\n",
        "print(df.describe())\n",
        "\n",
        "# Statistical Summary for Categorical Column\n",
        "print(\"\\nStatistical Summary for Categorical Columns:\")\n",
        "cat_describe = df.describe(include=['object']).transpose()\n",
        "\n",
        "table = PrettyTable()\n",
        "table.field_names = ['Column', 'Count', 'Unique', 'Top', 'Freq']\n",
        "\n",
        "for col_name, row in cat_describe.iterrows():\n",
        "    table.add_row([\n",
        "        col_name,\n",
        "        row['count'],\n",
        "        row['unique'],\n",
        "        row['top'],\n",
        "        row['freq']\n",
        "    ])\n",
        "\n",
        "print(table)"
      ]
    },
    {
      "cell_type": "markdown",
      "metadata": {},
      "source": [
        "💡 **Observations:**  \n",
        "- All the remaining columns appear to be relevant to the analysis.\n",
        "- Most categorical features seem to be already encoded as numerical ranges.\n",
        "\n",
        "> *🧠 Some categorical columns (e.g., sleep time) may require custom handling*"
      ]
    },
    {
      "cell_type": "markdown",
      "metadata": {},
      "source": [
        "## Step 2: Data Type Casting"
      ]
    },
    {
      "cell_type": "code",
      "execution_count": 311,
      "metadata": {},
      "outputs": [
        {
          "name": "stdout",
          "output_type": "stream",
          "text": [
            "\n",
            "🔹 New Dataset Summary:\n",
            "+-------------------------------------+----------------+---------+\n",
            "|                Column               | Non-Null Count |  Dtype  |\n",
            "+-------------------------------------+----------------+---------+\n",
            "|                  id                 |     27901      |  int64  |\n",
            "|                gender               |     27901      |  object |\n",
            "|                 age                 |     27901      | float64 |\n",
            "|          academic_pressure          |     27901      | float64 |\n",
            "|                 cgpa                |     27901      | float64 |\n",
            "|          study_satisfaction         |     27901      | float64 |\n",
            "|            sleep_duration           |     27901      |  object |\n",
            "|            dietary_habits           |     27901      |  object |\n",
            "|                degree               |     27901      |  object |\n",
            "| have_you_ever_had_suicidal_thoughts |     27901      |  object |\n",
            "|           work_study_hours          |     27901      | float64 |\n",
            "|           financial_stress          |     27901      |  object |\n",
            "|   family_history_of_mental_illness  |     27901      |  object |\n",
            "|              depression             |     27901      |  int64  |\n",
            "+-------------------------------------+----------------+---------+\n"
          ]
        }
      ],
      "source": [
        "# Check new data structure and datatypes of each column\n",
        "table = PrettyTable()\n",
        "table.field_names = [\"Column\", \"Non-Null Count\", \"Dtype\"]\n",
        "\n",
        "for col in df.columns:\n",
        "    non_null_count = df[col].count()\n",
        "    dtype = df[col].dtype\n",
        "    table.add_row([col, non_null_count, dtype])\n",
        "\n",
        "print(\"\\n🔹 New Dataset Summary:\")\n",
        "print(table)"
      ]
    },
    {
      "cell_type": "markdown",
      "metadata": {},
      "source": [
        "### Column Type Categorization\n",
        "\n",
        "- **Numerical Columns:** Continuous or discrete numeric variables, including already ordinal numeric features.\n",
        "  - `age`, `academic_pressure`, `cgpa`, `study_satisfaction`, `work_study_hours`, `financial_stress`\n",
        "\n",
        "- **Ordinal Categorical Columns:** Categorical variables with meaningful order, to be mapped to ordered integers.\n",
        "  - `degree`, `sleep_duration`\n",
        "\n",
        "- **Nominal Categorical Columns:** Categorical variables without inherent order.\n",
        "  - `gender`, `dietary_habits`, `have_you_ever_had_suicidal_thoughts`, `family_history_of_mental_illness`\n"
      ]
    },
    {
      "cell_type": "code",
      "execution_count": 312,
      "metadata": {},
      "outputs": [],
      "source": [
        "# Numerical columns\n",
        "num_cols = ['age', 'academic_pressure', 'cgpa', 'financial_stress',\n",
        "            'study_satisfaction', 'work_study_hours']\n",
        "\n",
        "# List of nominal categorical columns\n",
        "nominal_cat_cols = ['gender', 'dietary_habits',\n",
        "                    'have_you_ever_had_suicidal_thoughts',\n",
        "                    'family_history_of_mental_illness']\n",
        "\n",
        "# List of ordinal categorical columns\n",
        "ordinal_cols = ['degree', 'sleep_duration'] \n",
        "\n",
        "\n",
        "# Converts the nominal categorical columns defined above to 'category' data type.\n",
        "for col in nominal_cat_cols:\n",
        "    df[col] = df[col].astype('category')"
      ]
    },
    {
      "cell_type": "markdown",
      "metadata": {},
      "source": [
        "> *🧠 Let's understand the content of the following columns to determining cleaning strategies.*"
      ]
    },
    {
      "cell_type": "code",
      "execution_count": 313,
      "metadata": {},
      "outputs": [
        {
          "name": "stdout",
          "output_type": "stream",
          "text": [
            "\n",
            "🔍 Count of values in 'sleep_duration': object\n",
            "+---------------------+-------+------------+\n",
            "|        Value        | Count | Percentage |\n",
            "+---------------------+-------+------------+\n",
            "| 'Less than 5 hours' |  8310 |     29.78% |\n",
            "|     '7-8 hours'     |  7346 |     26.33% |\n",
            "|     '5-6 hours'     |  6183 |     22.16% |\n",
            "| 'More than 8 hours' |  6044 |     21.66% |\n",
            "|        Others       |    18 |      0.06% |\n",
            "+---------------------+-------+------------+\n",
            "\n",
            "🔍 Count of values in 'financial_stress': object\n",
            "+-------+-------+------------+\n",
            "| Value | Count | Percentage |\n",
            "+-------+-------+------------+\n",
            "|  5.0  |  6715 |     24.07% |\n",
            "|  4.0  |  5775 |     20.70% |\n",
            "|  3.0  |  5226 |     18.73% |\n",
            "|  1.0  |  5121 |     18.35% |\n",
            "|  2.0  |  5061 |     18.14% |\n",
            "|   ?   |     3 |      0.01% |\n",
            "+-------+-------+------------+\n"
          ]
        }
      ],
      "source": [
        "# Prints the unique values in the categorical columns.\n",
        "print(f\"\\n🔍 Count of values in 'sleep_duration':\", df['sleep_duration'].dtype)\n",
        "print(value_counts_pretty(df['sleep_duration']))\n",
        "print(f\"\\n🔍 Count of values in 'financial_stress':\", df['financial_stress'].dtype)\n",
        "print(value_counts_pretty(df['financial_stress']))"
      ]
    },
    {
      "cell_type": "markdown",
      "metadata": {},
      "source": [
        "### 💡 Observations\n",
        "\n",
        "- Sleep Duration:\n",
        "  Contains values that have surrounding single quotes (e.g., `'5-6 hours'`).\n",
        "  The `'Others'` category can be missing data and may require removal.\n",
        "\n",
        "- Financial Stress:\n",
        "  Mostly ordinal ordinal numeric values (1.0 to 5.0).  \n",
        "  Contains a few invalid entries (`'?'`) that should be treated as missing data and handled accordingly.\n"
      ]
    },
    {
      "cell_type": "code",
      "execution_count": 314,
      "metadata": {},
      "outputs": [
        {
          "name": "stdout",
          "output_type": "stream",
          "text": [
            "Financial Stress datatype:  float64\n"
          ]
        }
      ],
      "source": [
        "# Replace 'Others' with NaN in Sleep Duration\n",
        "df['sleep_duration'] = df['sleep_duration'].replace('Others', np.nan)\n",
        "\n",
        "# Replace '?' with NaN in Financial Stress\n",
        "df['financial_stress'] = df['financial_stress'].replace('?', np.nan)\n",
        "# Convert Financial Stress to numeric\n",
        "df['financial_stress'] = pd.to_numeric(df['financial_stress'], errors='coerce')\n",
        "print(f\"Financial Stress datatype: \", df['financial_stress'].dtype)"
      ]
    },
    {
      "cell_type": "markdown",
      "metadata": {},
      "source": [
        "## Step 3: Data Cleaning"
      ]
    },
    {
      "cell_type": "code",
      "execution_count": 315,
      "metadata": {},
      "outputs": [
        {
          "name": "stdout",
          "output_type": "stream",
          "text": [
            "\n",
            "Duplicate rows: 0\n"
          ]
        }
      ],
      "source": [
        "# ============================\n",
        "# STEP 3: DATA CLEANING \n",
        "# ============================\n",
        "\n",
        "# Duplicates analysis\n",
        "print(f\"\\nDuplicate rows: {df.duplicated().sum()}\")"
      ]
    },
    {
      "cell_type": "markdown",
      "metadata": {},
      "source": [
        "💡 **Observations:**  \n",
        "- No duplicates found at first glance.\n",
        "\n",
        "> *🧠 Let’s remove the unique id and check again*  \n",
        "> *🔻 `id` column will be dropped because:*\n",
        "> - The `id` column has no predictive value.  \n",
        "> - Hidden duplicates might exist except for the unique `id`."
      ]
    },
    {
      "cell_type": "code",
      "execution_count": 316,
      "metadata": {},
      "outputs": [
        {
          "name": "stdout",
          "output_type": "stream",
          "text": [
            "\n",
            "Duplicate rows: 0\n"
          ]
        }
      ],
      "source": [
        "# 📌 Drop the `id` column in place\n",
        "df.drop(['id'], axis=1, inplace=True)\n",
        "\n",
        "# Check for duplicates again after dropped `id`\n",
        "print(f\"\\nDuplicate rows: {df.duplicated().sum()}\")\n"
      ]
    },
    {
      "cell_type": "markdown",
      "metadata": {},
      "source": [
        "💡 **Observations:**  \n",
        "- No duplicates found."
      ]
    },
    {
      "cell_type": "code",
      "execution_count": 317,
      "metadata": {},
      "outputs": [
        {
          "data": {
            "text/plain": [
              "gender                                  0\n",
              "age                                     0\n",
              "academic_pressure                       0\n",
              "cgpa                                    0\n",
              "study_satisfaction                      0\n",
              "sleep_duration                         18\n",
              "dietary_habits                          0\n",
              "degree                                  0\n",
              "have_you_ever_had_suicidal_thoughts     0\n",
              "work_study_hours                        0\n",
              "financial_stress                        3\n",
              "family_history_of_mental_illness        0\n",
              "depression                              0\n",
              "dtype: int64"
            ]
          },
          "execution_count": 317,
          "metadata": {},
          "output_type": "execute_result"
        }
      ],
      "source": [
        "# Missing values analysis\n",
        "df.isnull().sum()\n"
      ]
    },
    {
      "cell_type": "markdown",
      "metadata": {},
      "source": [
        "### 💡 Observations\n",
        "\n",
        "- The dataset contains missing values in two columns: `sleep_duration` and `financial_stress`.  \n",
        "> 🧠 Since the number of missing entries is very small, it's reasonable to drop those rows.\n"
      ]
    },
    {
      "cell_type": "code",
      "execution_count": 318,
      "metadata": {},
      "outputs": [
        {
          "name": "stdout",
          "output_type": "stream",
          "text": [
            "Original shape: (27901, 13)\n",
            "Cleaned shape : (27880, 13)\n",
            "🗑️ Rows deleted: 21\n"
          ]
        }
      ],
      "source": [
        "# 🍀 Drop rows with any missing values and create a new DataFrame\n",
        "df_cleaned = df.dropna()\n",
        "\n",
        "# Optional: Check shape to confirm rows were removed\n",
        "print(\"Original shape:\", df.shape)\n",
        "print(\"Cleaned shape :\", df_cleaned.shape)\n",
        "print(f\"🗑️ Rows deleted: {(df.shape[0] - df_cleaned.shape[0])}\")"
      ]
    },
    {
      "cell_type": "markdown",
      "metadata": {},
      "source": [
        "## Step 4: Exploratory Data Analysis (EDA)"
      ]
    },
    {
      "cell_type": "code",
      "execution_count": 319,
      "metadata": {},
      "outputs": [
        {
          "data": {
            "image/png": "[encoded data removed]",
            "text/plain": [
              "<Figure size 640x480 with 1 Axes>"
            ]
          },
          "metadata": {},
          "output_type": "display_data"
        },
        {
          "name": "stdout",
          "output_type": "stream",
          "text": [
            "ℹ️ Target variable 'depression' distribution:\n",
            "+-------+-------+------------+\n",
            "| Value | Count | Percentage |\n",
            "+-------+-------+------------+\n",
            "|   1   | 16326 |     58.56% |\n",
            "|   0   | 11554 |     41.44% |\n",
            "+-------+-------+------------+\n"
          ]
        }
      ],
      "source": [
        "# ===============================================\n",
        "# STEP 3: Exploratory Data Analysis (EDA)\n",
        "# ===============================================\n",
        "\n",
        "# Check the distribution of the target variable to identify any class imbalance\n",
        "sns.countplot(data=df_cleaned, x='depression', palette=\"viridis\")  \n",
        "plt.title(\"Class Distribution\")\n",
        "plt.xlabel(\"Depression (0 = Yes, 1 = No)\")\n",
        "plt.ylabel(\"Count\")\n",
        "plt.show()\n",
        "\n",
        "print(\"ℹ️ Target variable 'depression' distribution:\")\n",
        "print(value_counts_pretty(df_cleaned['depression']))"
      ]
    },
    {
      "cell_type": "markdown",
      "metadata": {},
      "source": [
        "💡 **Observations:**  \n",
        "- The dataset has a moderate class imbalance ratio is approximately 43% to 57%.\n",
        "- XGBoost is relatively robust to class imbalance. We'll revisit imbalance handling if initial model performance is unsatisfactory."
      ]
    },
    {
      "cell_type": "markdown",
      "metadata": {},
      "source": [
        "### Feature Distributions analyse"
      ]
    },
    {
      "cell_type": "markdown",
      "metadata": {},
      "source": [
        "3.2 Analysis of Numerical feature:"
      ]
    },
    {
      "cell_type": "code",
      "execution_count": 323,
      "metadata": {},
      "outputs": [
        {
          "name": "stdout",
          "output_type": "stream",
          "text": [
            "Numerical feature:\n"
          ]
        },
        {
          "data": {
            "text/plain": [
              "['age',\n",
              " 'academic_pressure',\n",
              " 'cgpa',\n",
              " 'financial_stress',\n",
              " 'study_satisfaction',\n",
              " 'work_study_hours']"
            ]
          },
          "execution_count": 323,
          "metadata": {},
          "output_type": "execute_result"
        }
      ],
      "source": [
        "# print the Numerical feature\n",
        "print(\"Numerical feature:\")\n",
        "num_cols"
      ]
    },
    {
      "cell_type": "code",
      "execution_count": 321,
      "metadata": {},
      "outputs": [
        {
          "data": {
            "image/png": "[encoded data removed]",
            "text/plain": [
              "<Figure size 1600x1200 with 6 Axes>"
            ]
          },
          "metadata": {},
          "output_type": "display_data"
        }
      ],
      "source": [
        "# Creates histograms for each of the specified numerical columns. To understand the distribution of each variable.\n",
        "import math\n",
        "\n",
        "# Define grid size\n",
        "cols = 2\n",
        "rows = math.ceil(len(num_cols) / cols)\n",
        "\n",
        "# Create subplots\n",
        "fig, axes = plt.subplots(rows, cols, figsize=(16, rows * 4))\n",
        "axes = axes.flatten()\n",
        "\n",
        "# Plot each numerical column\n",
        "for i, col in enumerate(num_cols):\n",
        "    sns.histplot(data=df_cleaned, x=col, kde=False, bins=20, ax=axes[i], color='indigo')\n",
        "    axes[i].set_title(f\"Distribution of {col}\")\n",
        "    axes[i].set_xlabel(col)\n",
        "    axes[i].set_ylabel(\"Count\")\n",
        "\n",
        "# Hide any extra subplots\n",
        "for j in range(i + 1, len(axes)):\n",
        "    fig.delaxes(axes[j])\n",
        "\n",
        "plt.tight_layout()\n",
        "plt.show()\n"
      ]
    },
    {
      "cell_type": "markdown",
      "metadata": {},
      "source": [
        "💡 **Overall Assessment**  \n",
        "- Variables like `age`, `cgpa`, `study_satisfaction`, and `work_study_hours` carry enough information to contribute to modeling."
      ]
    },
    {
      "cell_type": "markdown",
      "metadata": {},
      "source": [
        "3.3 Analysis of Categorical feature:"
      ]
    },
    {
      "cell_type": "code",
      "execution_count": 325,
      "metadata": {},
      "outputs": [
        {
          "name": "stdout",
          "output_type": "stream",
          "text": [
            "Categorical feature:\n"
          ]
        },
        {
          "data": {
            "text/plain": [
              "['gender',\n",
              " 'dietary_habits',\n",
              " 'have_you_ever_had_suicidal_thoughts',\n",
              " 'family_history_of_mental_illness']"
            ]
          },
          "execution_count": 325,
          "metadata": {},
          "output_type": "execute_result"
        }
      ],
      "source": [
        "# print the Categorical feature:\n",
        "print(\"Categorical feature:\")\n",
        "nominal_cat_cols"
      ]
    }
  ],
  "metadata": {
    "colab": {
      "provenance": []
    },
    "kernelspec": {
      "display_name": "Python 3 (ipykernel)",
      "language": "python",
      "name": "python3"
    },
    "language_info": {
      "codemirror_mode": {
        "name": "ipython",
        "version": 3
      },
      "file_extension": ".py",
      "mimetype": "text/x-python",
      "name": "python",
      "nbconvert_exporter": "python",
      "pygments_lexer": "ipython3",
      "version": "3.10.18"
    }
  },
  "nbformat": 4,
  "nbformat_minor": 0
}
