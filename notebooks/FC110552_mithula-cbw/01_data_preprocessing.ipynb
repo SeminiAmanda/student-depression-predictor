{
  "cells": [
    {
      "cell_type": "markdown",
      "metadata": {
        "id": "1YAbzpdXEVx6"
      },
      "source": [
        "# 01 – Data Preprocessing\n",
        "### Student Depression Prediction: Preparing Data for XGBoost Model\n",
        "\n",
        "---"
      ]
    },
    {
      "cell_type": "markdown",
      "metadata": {
        "id": "6fEGWj6uFiIB"
      },
      "source": [
        "## 📌 Objective\n",
        "Prepare and clean the student depression dataset for machine learning analysis using XGBoost classification.\n",
        "\n",
        "**Key Tasks:**\n",
        "- Load and explore raw data\n",
        "- Handle missing values and outliers\n",
        "- Encode categorical variables\n",
        "- Scale numerical features\n",
        "- Export clean dataset for modeling\n",
        "\n",
        "---"
      ]
    },
    {
      "cell_type": "markdown",
      "metadata": {},
      "source": [
        "### 📂 Input  \n",
        " - `student_depression_dataset.csv` saved in `Data/raw/`  \n",
        "\n",
        "\n",
        "### 📦 Output  \n",
        "- `clean_data.csv` saved in `Data/processed/FC110552_mithula-cbw/`\n",
        "\n",
        "---"
      ]
    },
    {
      "cell_type": "markdown",
      "metadata": {
        "id": "C8c7kbLJG2j9"
      },
      "source": [
        "### 📊 Dataset Overview\n",
        "\n",
        "| **Attribute** | **Details** |\n",
        "|---------------|-------------|\n",
        "| **Dataset Size** | 27,901 records × 18 features |\n",
        "| **Data Type** | Structured tabular data (CSV format) |\n",
        "| **Target Variable** | `Depression_Status` (Binary: 0/1 or Yes/No) |\n",
        "| **Problem Type** | Binary Classification |\n",
        "| **Data Source** | [Student Depression Dataset](www.kaggle.com/datasets/adilshamim8/student-depression-dataset) |"
      ]
    },
    {
      "cell_type": "markdown",
      "metadata": {},
      "source": [
        "### 📈 Expected Outcomes\n",
        "- Clean, processed dataset ready for machine learning"
      ]
    },
    {
      "cell_type": "code",
      "execution_count": 5,
      "metadata": {
        "id": "dE3S8z3JHgm7"
      },
      "outputs": [],
      "source": [
        "# =====================================\n",
        "# STEP 1: DATA LOADING & EXPLORATION\n",
        "# =====================================\n",
        "\n",
        "\n",
        "# 1.1 - Load libraries and suppress warnings\n",
        "import pandas as pd\n",
        "import numpy as np\n",
        "import matplotlib.pyplot as plt\n",
        "import seaborn as sns\n",
        "import warnings\n",
        "warnings.filterwarnings('ignore')\n",
        "\n",
        "# Set display options\n",
        "pd.set_option('display.max_columns', None)\n",
        "pd.set_option('display.width', 1000)"
      ]
    },
    {
      "cell_type": "code",
      "execution_count": null,
      "metadata": {
        "collapsed": true,
        "id": "FnW_3Mz4HyDW"
      },
      "outputs": [],
      "source": [
        "\n",
        "# 1.2 - Load the dataset\n",
        "    # Assign the CSV file to a Pandas DataFrame.\n",
        "\n",
        "df = pd.read_csv(\"./Data/raw/student_depression_dataset.csv\")"
      ]
    },
    {
      "cell_type": "code",
      "execution_count": null,
      "metadata": {
        "id": "3QD3LBaHHykN"
      },
      "outputs": [],
      "source": [
        "# Reusable function definitions\n",
        "    # Function to Print Shape of DataFrame\n",
        "def get_data_shape(data: pd.DataFrame) -> None:\n",
        "    if data.empty:\n",
        "        print(\"DataFrame is empty.\")\n",
        "    else:\n",
        "        # Print the shape of the DataFrame\n",
        "        print(\"DataFrame Dimensions\")\n",
        "        print(\"------------------------\")\n",
        "        print(f\"Rows   : {data.shape[0]}\")\n",
        "        print(f\"Columns: {data.shape[1]}\")"
      ]
    },
    {
      "cell_type": "code",
      "execution_count": 18,
      "metadata": {},
      "outputs": [
        {
          "name": "stdout",
          "output_type": "stream",
          "text": [
            "DataFrame Dimensions\n",
            "------------------------\n",
            "Rows   : 27901\n",
            "Columns: 18\n"
          ]
        }
      ],
      "source": [
        "get_data_shape(df)"
      ]
    },
    {
      "cell_type": "code",
      "execution_count": null,
      "metadata": {},
      "outputs": [
        {
          "name": "stdout",
          "output_type": "stream",
          "text": [
            "\n",
            " First 5 rows:\n"
          ]
        },
        {
          "data": {
            "text/html": [
              "<div>\n",
              "<style scoped>\n",
              "    .dataframe tbody tr th:only-of-type {\n",
              "        vertical-align: middle;\n",
              "    }\n",
              "\n",
              "    .dataframe tbody tr th {\n",
              "        vertical-align: top;\n",
              "    }\n",
              "\n",
              "    .dataframe thead th {\n",
              "        text-align: right;\n",
              "    }\n",
              "</style>\n",
              "<table border=\"1\" class=\"dataframe\">\n",
              "  <thead>\n",
              "    <tr style=\"text-align: right;\">\n",
              "      <th></th>\n",
              "      <th>id</th>\n",
              "      <th>Gender</th>\n",
              "      <th>Age</th>\n",
              "      <th>City</th>\n",
              "      <th>Profession</th>\n",
              "      <th>Academic Pressure</th>\n",
              "      <th>Work Pressure</th>\n",
              "      <th>CGPA</th>\n",
              "      <th>Study Satisfaction</th>\n",
              "      <th>Job Satisfaction</th>\n",
              "      <th>Sleep Duration</th>\n",
              "      <th>Dietary Habits</th>\n",
              "      <th>Degree</th>\n",
              "      <th>Have you ever had suicidal thoughts ?</th>\n",
              "      <th>Work/Study Hours</th>\n",
              "      <th>Financial Stress</th>\n",
              "      <th>Family History of Mental Illness</th>\n",
              "      <th>Depression</th>\n",
              "    </tr>\n",
              "  </thead>\n",
              "  <tbody>\n",
              "    <tr>\n",
              "      <th>0</th>\n",
              "      <td>2</td>\n",
              "      <td>Male</td>\n",
              "      <td>33.0</td>\n",
              "      <td>Visakhapatnam</td>\n",
              "      <td>Student</td>\n",
              "      <td>5.0</td>\n",
              "      <td>0.0</td>\n",
              "      <td>8.97</td>\n",
              "      <td>2.0</td>\n",
              "      <td>0.0</td>\n",
              "      <td>'5-6 hours'</td>\n",
              "      <td>Healthy</td>\n",
              "      <td>B.Pharm</td>\n",
              "      <td>Yes</td>\n",
              "      <td>3.0</td>\n",
              "      <td>1.0</td>\n",
              "      <td>No</td>\n",
              "      <td>1</td>\n",
              "    </tr>\n",
              "    <tr>\n",
              "      <th>1</th>\n",
              "      <td>8</td>\n",
              "      <td>Female</td>\n",
              "      <td>24.0</td>\n",
              "      <td>Bangalore</td>\n",
              "      <td>Student</td>\n",
              "      <td>2.0</td>\n",
              "      <td>0.0</td>\n",
              "      <td>5.90</td>\n",
              "      <td>5.0</td>\n",
              "      <td>0.0</td>\n",
              "      <td>'5-6 hours'</td>\n",
              "      <td>Moderate</td>\n",
              "      <td>BSc</td>\n",
              "      <td>No</td>\n",
              "      <td>3.0</td>\n",
              "      <td>2.0</td>\n",
              "      <td>Yes</td>\n",
              "      <td>0</td>\n",
              "    </tr>\n",
              "    <tr>\n",
              "      <th>2</th>\n",
              "      <td>26</td>\n",
              "      <td>Male</td>\n",
              "      <td>31.0</td>\n",
              "      <td>Srinagar</td>\n",
              "      <td>Student</td>\n",
              "      <td>3.0</td>\n",
              "      <td>0.0</td>\n",
              "      <td>7.03</td>\n",
              "      <td>5.0</td>\n",
              "      <td>0.0</td>\n",
              "      <td>'Less than 5 hours'</td>\n",
              "      <td>Healthy</td>\n",
              "      <td>BA</td>\n",
              "      <td>No</td>\n",
              "      <td>9.0</td>\n",
              "      <td>1.0</td>\n",
              "      <td>Yes</td>\n",
              "      <td>0</td>\n",
              "    </tr>\n",
              "    <tr>\n",
              "      <th>3</th>\n",
              "      <td>30</td>\n",
              "      <td>Female</td>\n",
              "      <td>28.0</td>\n",
              "      <td>Varanasi</td>\n",
              "      <td>Student</td>\n",
              "      <td>3.0</td>\n",
              "      <td>0.0</td>\n",
              "      <td>5.59</td>\n",
              "      <td>2.0</td>\n",
              "      <td>0.0</td>\n",
              "      <td>'7-8 hours'</td>\n",
              "      <td>Moderate</td>\n",
              "      <td>BCA</td>\n",
              "      <td>Yes</td>\n",
              "      <td>4.0</td>\n",
              "      <td>5.0</td>\n",
              "      <td>Yes</td>\n",
              "      <td>1</td>\n",
              "    </tr>\n",
              "    <tr>\n",
              "      <th>4</th>\n",
              "      <td>32</td>\n",
              "      <td>Female</td>\n",
              "      <td>25.0</td>\n",
              "      <td>Jaipur</td>\n",
              "      <td>Student</td>\n",
              "      <td>4.0</td>\n",
              "      <td>0.0</td>\n",
              "      <td>8.13</td>\n",
              "      <td>3.0</td>\n",
              "      <td>0.0</td>\n",
              "      <td>'5-6 hours'</td>\n",
              "      <td>Moderate</td>\n",
              "      <td>M.Tech</td>\n",
              "      <td>Yes</td>\n",
              "      <td>1.0</td>\n",
              "      <td>1.0</td>\n",
              "      <td>No</td>\n",
              "      <td>0</td>\n",
              "    </tr>\n",
              "  </tbody>\n",
              "</table>\n",
              "</div>"
            ],
            "text/plain": [
              "   id  Gender   Age           City Profession  Academic Pressure  Work Pressure  CGPA  Study Satisfaction  Job Satisfaction       Sleep Duration Dietary Habits   Degree Have you ever had suicidal thoughts ?  Work/Study Hours Financial Stress Family History of Mental Illness  Depression\n",
              "0   2    Male  33.0  Visakhapatnam    Student                5.0            0.0  8.97                 2.0               0.0          '5-6 hours'        Healthy  B.Pharm                                   Yes               3.0              1.0                               No           1\n",
              "1   8  Female  24.0      Bangalore    Student                2.0            0.0  5.90                 5.0               0.0          '5-6 hours'       Moderate      BSc                                    No               3.0              2.0                              Yes           0\n",
              "2  26    Male  31.0       Srinagar    Student                3.0            0.0  7.03                 5.0               0.0  'Less than 5 hours'        Healthy       BA                                    No               9.0              1.0                              Yes           0\n",
              "3  30  Female  28.0       Varanasi    Student                3.0            0.0  5.59                 2.0               0.0          '7-8 hours'       Moderate      BCA                                   Yes               4.0              5.0                              Yes           1\n",
              "4  32  Female  25.0         Jaipur    Student                4.0            0.0  8.13                 3.0               0.0          '5-6 hours'       Moderate   M.Tech                                   Yes               1.0              1.0                               No           0"
            ]
          },
          "metadata": {},
          "output_type": "display_data"
        }
      ],
      "source": [
        "# 1.3 - Display first few rows (Provides a quick look at the dataset's content).\n",
        "print(\"\\n First 5 rows:\")\n",
        "display(df.head())"
      ]
    },
    {
      "cell_type": "markdown",
      "metadata": {},
      "source": [
        "💡 **Observations:**  \n",
        "- All column names are readable and appear to be semantically meaningful.\n",
        "- The `id` column does not increment sequentially\n",
        "- `Work Pressure` and `Job Satisfaction` have only 0.0 values in the initial rows.\n",
        "- The `Profession` column appears to contain only \"Student\" values so far.\n"
      ]
    },
    {
      "cell_type": "code",
      "execution_count": 24,
      "metadata": {},
      "outputs": [
        {
          "data": {
            "text/html": [
              "<div>\n",
              "<style scoped>\n",
              "    .dataframe tbody tr th:only-of-type {\n",
              "        vertical-align: middle;\n",
              "    }\n",
              "\n",
              "    .dataframe tbody tr th {\n",
              "        vertical-align: top;\n",
              "    }\n",
              "\n",
              "    .dataframe thead th {\n",
              "        text-align: right;\n",
              "    }\n",
              "</style>\n",
              "<table border=\"1\" class=\"dataframe\">\n",
              "  <thead>\n",
              "    <tr style=\"text-align: right;\">\n",
              "      <th></th>\n",
              "      <th>Age</th>\n",
              "      <th>Academic Pressure</th>\n",
              "      <th>Work Pressure</th>\n",
              "      <th>CGPA</th>\n",
              "      <th>Study Satisfaction</th>\n",
              "      <th>Job Satisfaction</th>\n",
              "      <th>Work/Study Hours</th>\n",
              "      <th>Depression</th>\n",
              "    </tr>\n",
              "  </thead>\n",
              "  <tbody>\n",
              "    <tr>\n",
              "      <th>count</th>\n",
              "      <td>27901.000000</td>\n",
              "      <td>27901.000000</td>\n",
              "      <td>27901.000000</td>\n",
              "      <td>27901.000000</td>\n",
              "      <td>27901.000000</td>\n",
              "      <td>27901.000000</td>\n",
              "      <td>27901.000000</td>\n",
              "      <td>27901.000000</td>\n",
              "    </tr>\n",
              "    <tr>\n",
              "      <th>mean</th>\n",
              "      <td>25.822300</td>\n",
              "      <td>3.141214</td>\n",
              "      <td>0.000430</td>\n",
              "      <td>7.656104</td>\n",
              "      <td>2.943837</td>\n",
              "      <td>0.000681</td>\n",
              "      <td>7.156984</td>\n",
              "      <td>0.585499</td>\n",
              "    </tr>\n",
              "    <tr>\n",
              "      <th>std</th>\n",
              "      <td>4.905687</td>\n",
              "      <td>1.381465</td>\n",
              "      <td>0.043992</td>\n",
              "      <td>1.470707</td>\n",
              "      <td>1.361148</td>\n",
              "      <td>0.044394</td>\n",
              "      <td>3.707642</td>\n",
              "      <td>0.492645</td>\n",
              "    </tr>\n",
              "    <tr>\n",
              "      <th>min</th>\n",
              "      <td>18.000000</td>\n",
              "      <td>0.000000</td>\n",
              "      <td>0.000000</td>\n",
              "      <td>0.000000</td>\n",
              "      <td>0.000000</td>\n",
              "      <td>0.000000</td>\n",
              "      <td>0.000000</td>\n",
              "      <td>0.000000</td>\n",
              "    </tr>\n",
              "    <tr>\n",
              "      <th>25%</th>\n",
              "      <td>21.000000</td>\n",
              "      <td>2.000000</td>\n",
              "      <td>0.000000</td>\n",
              "      <td>6.290000</td>\n",
              "      <td>2.000000</td>\n",
              "      <td>0.000000</td>\n",
              "      <td>4.000000</td>\n",
              "      <td>0.000000</td>\n",
              "    </tr>\n",
              "    <tr>\n",
              "      <th>50%</th>\n",
              "      <td>25.000000</td>\n",
              "      <td>3.000000</td>\n",
              "      <td>0.000000</td>\n",
              "      <td>7.770000</td>\n",
              "      <td>3.000000</td>\n",
              "      <td>0.000000</td>\n",
              "      <td>8.000000</td>\n",
              "      <td>1.000000</td>\n",
              "    </tr>\n",
              "    <tr>\n",
              "      <th>75%</th>\n",
              "      <td>30.000000</td>\n",
              "      <td>4.000000</td>\n",
              "      <td>0.000000</td>\n",
              "      <td>8.920000</td>\n",
              "      <td>4.000000</td>\n",
              "      <td>0.000000</td>\n",
              "      <td>10.000000</td>\n",
              "      <td>1.000000</td>\n",
              "    </tr>\n",
              "    <tr>\n",
              "      <th>max</th>\n",
              "      <td>59.000000</td>\n",
              "      <td>5.000000</td>\n",
              "      <td>5.000000</td>\n",
              "      <td>10.000000</td>\n",
              "      <td>5.000000</td>\n",
              "      <td>4.000000</td>\n",
              "      <td>12.000000</td>\n",
              "      <td>1.000000</td>\n",
              "    </tr>\n",
              "  </tbody>\n",
              "</table>\n",
              "</div>"
            ],
            "text/plain": [
              "                Age  Academic Pressure  Work Pressure          CGPA  Study Satisfaction  Job Satisfaction  Work/Study Hours    Depression\n",
              "count  27901.000000       27901.000000   27901.000000  27901.000000        27901.000000      27901.000000      27901.000000  27901.000000\n",
              "mean      25.822300           3.141214       0.000430      7.656104            2.943837          0.000681          7.156984      0.585499\n",
              "std        4.905687           1.381465       0.043992      1.470707            1.361148          0.044394          3.707642      0.492645\n",
              "min       18.000000           0.000000       0.000000      0.000000            0.000000          0.000000          0.000000      0.000000\n",
              "25%       21.000000           2.000000       0.000000      6.290000            2.000000          0.000000          4.000000      0.000000\n",
              "50%       25.000000           3.000000       0.000000      7.770000            3.000000          0.000000          8.000000      1.000000\n",
              "75%       30.000000           4.000000       0.000000      8.920000            4.000000          0.000000         10.000000      1.000000\n",
              "max       59.000000           5.000000       5.000000     10.000000            5.000000          4.000000         12.000000      1.000000"
            ]
          },
          "metadata": {},
          "output_type": "display_data"
        }
      ],
      "source": [
        "# Prints basic statistics (mean, standard deviation, min, max, etc.)\n",
        "numeric_cols = df.select_dtypes(include=[np.number]).columns.drop('id', errors='ignore')  # For  numeric data types\n",
        "display(df[numeric_cols].describe())   "
      ]
    },
    {
      "cell_type": "markdown",
      "metadata": {},
      "source": [
        "💡 **Observations:**  \n",
        "- `Age` mostly ranges between 21 to 30, aligning with student demographics ,though the max age is 59, which may be an outlier or non-student entry.\n",
        "- `Work Pressure` and `Job Satisfaction` values appear to be very close to 0, suggesting missing data, poor scaling, or inactive features. \n"
      ]
    },
    {
      "cell_type": "markdown",
      "metadata": {},
      "source": []
    }
  ],
  "metadata": {
    "colab": {
      "provenance": []
    },
    "kernelspec": {
      "display_name": "Python 3 (ipykernel)",
      "language": "python",
      "name": "python3"
    },
    "language_info": {
      "codemirror_mode": {
        "name": "ipython",
        "version": 3
      },
      "file_extension": ".py",
      "mimetype": "text/x-python",
      "name": "python",
      "nbconvert_exporter": "python",
      "pygments_lexer": "ipython3",
      "version": "3.10.18"
    }
  },
  "nbformat": 4,
  "nbformat_minor": 0
}
