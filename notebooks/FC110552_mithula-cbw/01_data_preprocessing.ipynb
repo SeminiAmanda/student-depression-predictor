{
  "cells": [
    {
      "cell_type": "markdown",
      "metadata": {
        "id": "1YAbzpdXEVx6"
      },
      "source": [
        "# 01 – Data Preprocessing\n",
        "---"
      ]
    },
    {
      "cell_type": "markdown",
      "metadata": {
        "id": "6fEGWj6uFiIB"
      },
      "source": [
        "### 📌   **Objective summery**\n",
        " - Loading raw data\n",
        " - Exploring data types, missing values, and distributions\n",
        " - Handling missing or inconsistent values\n",
        " - Encoding categorical variables\n",
        " - Scaling numerical features\n",
        " - Saving the clean dataset for the next stage\n",
        "\n",
        "---"
      ]
    },
    {
      "cell_type": "markdown",
      "metadata": {},
      "source": [
        ">📂 Input  \n",
        " - `student_depression_dataset.csv` saved in `Data/raw/`  \n",
        "\n",
        "\n",
        ">📦 Output  \n",
        "- `clean_data.csv` saved in `Data/processed/FC110552_mithula-cbw/`\n",
        "\n",
        "---"
      ]
    },
    {
      "cell_type": "markdown",
      "metadata": {
        "id": "C8c7kbLJG2j9"
      },
      "source": [
        ">📁 Dataset Characteristics:\n",
        "- **Data Format:** CSV (each row contains information about one student) - **Identifier:** Student ID (unique for each individual)\n",
        "- **Demographic Information:** Age, Gender, City of Residence\n",
        "- **Academic Information:** Cumulative Grade Point Average (CGPA), Academic Pressure, Study Method\n",
        "- **Lifestyle Factors:** Sleep duration, eating habits, working hours, job satisfaction\n",
        "- **Psychological and Social Factors:** Family history of mental illness, financial stress, history of suicidal thoughts"
      ]
    },
    {
      "cell_type": "markdown",
      "metadata": {
        "id": "L_yPafQQHbTb"
      },
      "source": [
        ">Target Variable:\n",
        "- Depression_Status: A binary indicator showing whether a student experiences depression (0/1 or Yes/No)\n",
        "\n",
        "---"
      ]
    },
    {
      "cell_type": "code",
      "execution_count": 10,
      "metadata": {
        "id": "dE3S8z3JHgm7"
      },
      "outputs": [],
      "source": [
        "# importing necessary libraries.\n",
        "import pandas as pd\n",
        "import numpy as np\n",
        "import matplotlib.pyplot as plt\n",
        "import seaborn as sns\n",
        "\n",
        "# Standard Libraries\n",
        "import warnings"
      ]
    },
    {
      "cell_type": "code",
      "execution_count": 11,
      "metadata": {
        "collapsed": true,
        "id": "FnW_3Mz4HyDW"
      },
      "outputs": [],
      "source": [
        "# Assign the CSV file to a Pandas DataFrame.\n",
        "df = pd.read_csv(\"./Data/raw/student_depression_dataset.csv\")"
      ]
    },
    {
      "cell_type": "code",
      "execution_count": null,
      "metadata": {
        "id": "3QD3LBaHHykN"
      },
      "outputs": [],
      "source": []
    }
  ],
  "metadata": {
    "colab": {
      "provenance": []
    },
    "kernelspec": {
      "display_name": "Python 3",
      "name": "python3"
    },
    "language_info": {
      "name": "python"
    }
  },
  "nbformat": 4,
  "nbformat_minor": 0
}
