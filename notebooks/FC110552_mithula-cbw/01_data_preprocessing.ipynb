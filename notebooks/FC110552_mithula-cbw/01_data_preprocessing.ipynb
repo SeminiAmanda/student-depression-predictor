{
  "cells": [
    {
      "cell_type": "markdown",
      "metadata": {
        "id": "1YAbzpdXEVx6"
      },
      "source": [
        "# 01 – Data Preprocessing\n",
        "### Student Depression Prediction: Preparing Data for XGBoost Model\n",
        "\n",
        "---"
      ]
    },
    {
      "cell_type": "markdown",
      "metadata": {
        "id": "6fEGWj6uFiIB"
      },
      "source": [
        "## 📌 Objective\n",
        "Prepare and clean the student depression dataset for machine learning analysis using XGBoost classification.\n",
        "\n",
        "**Key Tasks:**\n",
        "- Load and explore raw data\n",
        "- Handle missing values and outliers\n",
        "- Encode categorical variables\n",
        "- Scale numerical features\n",
        "- Export clean dataset for modeling\n",
        "\n",
        "---"
      ]
    },
    {
      "cell_type": "markdown",
      "metadata": {},
      "source": [
        "### 📂 Input  \n",
        " - `student_depression_dataset.csv` saved in `Data/raw/`  \n",
        "\n",
        "\n",
        "### 📦 Output  \n",
        "- `clean_data.csv` saved in `Data/processed/FC110552_mithula-cbw/`\n",
        "\n",
        "---"
      ]
    },
    {
      "cell_type": "markdown",
      "metadata": {
        "id": "C8c7kbLJG2j9"
      },
      "source": [
        "### 📊 Dataset Overview\n",
        "\n",
        "| **Attribute** | **Details** |\n",
        "|---------------|-------------|\n",
        "| **Dataset Size** | 27,901 records × 18 features |\n",
        "| **Data Type** | Structured tabular data (CSV format) |\n",
        "| **Target Variable** | `Depression_Status` (Binary: 0/1 or Yes/No) |\n",
        "| **Problem Type** | Binary Classification |\n",
        "| **Data Source** | [Student Depression Dataset](www.kaggle.com/datasets/adilshamim8/student-depression-dataset) |"
      ]
    },
    {
      "cell_type": "markdown",
      "metadata": {},
      "source": [
        "### 📈 Expected Outcomes\n",
        "- Clean, processed dataset ready for machine learning"
      ]
    },
    {
      "cell_type": "code",
      "execution_count": 60,
      "metadata": {
        "id": "dE3S8z3JHgm7"
      },
      "outputs": [],
      "source": [
        "# =====================================\n",
        "# STEP 1: DATA LOADING & EXPLORATION\n",
        "# =====================================\n",
        "\n",
        "\n",
        "# 1.1 - Load libraries and suppress warnings\n",
        "import pandas as pd\n",
        "import numpy as np\n",
        "import matplotlib.pyplot as plt\n",
        "import seaborn as sns\n",
        "import warnings\n",
        "warnings.filterwarnings('ignore')\n",
        "\n",
        "# Set display options\n",
        "pd.set_option('display.max_columns', None)\n",
        "pd.set_option('display.width', 1000)"
      ]
    },
    {
      "cell_type": "code",
      "execution_count": 61,
      "metadata": {
        "collapsed": true,
        "id": "FnW_3Mz4HyDW"
      },
      "outputs": [],
      "source": [
        "\n",
        "# 1.2 - Load the dataset\n",
        "\n",
        "df = pd.read_csv(\"./Data/raw/student_depression_dataset.csv\")"
      ]
    },
    {
      "cell_type": "code",
      "execution_count": 62,
      "metadata": {
        "id": "3QD3LBaHHykN"
      },
      "outputs": [],
      "source": [
        "# Reusable function definitions\n",
        "\n",
        "# Function to Print Shape of DataFrame\n",
        "def get_data_shape(data: pd.DataFrame) -> None:\n",
        "    if data.empty:\n",
        "        print(\"DataFrame is empty.\")\n",
        "    else:\n",
        "        # Print the shape of the DataFrame\n",
        "        print(\"DataFrame Dimensions\")\n",
        "        print(\"------------------------\")\n",
        "        print(f\"Rows   : {data.shape[0]}\")\n",
        "        print(f\"Columns: {data.shape[1]}\\n\")\n",
        "\n",
        "# Function to prints the first `n` rows of the given DataFrame.\n",
        "def print_head(data: pd.DataFrame, n: int = 5) -> None:\n",
        "   print(f\"\\nFirst {n} rows:\")\n",
        "   display(data.head(n))"
      ]
    },
    {
      "cell_type": "code",
      "execution_count": 63,
      "metadata": {},
      "outputs": [
        {
          "name": "stdout",
          "output_type": "stream",
          "text": [
            "DataFrame Dimensions\n",
            "------------------------\n",
            "Rows   : 27901\n",
            "Columns: 18\n",
            "\n"
          ]
        }
      ],
      "source": [
        "# 1.3 - Find the dimensions of the dataset\n",
        "get_data_shape(df)"
      ]
    },
    {
      "cell_type": "code",
      "execution_count": 64,
      "metadata": {},
      "outputs": [
        {
          "name": "stdout",
          "output_type": "stream",
          "text": [
            "\n",
            "First 5 rows:\n"
          ]
        },
        {
          "data": {
            "text/html": [
              "<div>\n",
              "<style scoped>\n",
              "    .dataframe tbody tr th:only-of-type {\n",
              "        vertical-align: middle;\n",
              "    }\n",
              "\n",
              "    .dataframe tbody tr th {\n",
              "        vertical-align: top;\n",
              "    }\n",
              "\n",
              "    .dataframe thead th {\n",
              "        text-align: right;\n",
              "    }\n",
              "</style>\n",
              "<table border=\"1\" class=\"dataframe\">\n",
              "  <thead>\n",
              "    <tr style=\"text-align: right;\">\n",
              "      <th></th>\n",
              "      <th>id</th>\n",
              "      <th>Gender</th>\n",
              "      <th>Age</th>\n",
              "      <th>City</th>\n",
              "      <th>Profession</th>\n",
              "      <th>Academic Pressure</th>\n",
              "      <th>Work Pressure</th>\n",
              "      <th>CGPA</th>\n",
              "      <th>Study Satisfaction</th>\n",
              "      <th>Job Satisfaction</th>\n",
              "      <th>Sleep Duration</th>\n",
              "      <th>Dietary Habits</th>\n",
              "      <th>Degree</th>\n",
              "      <th>Have you ever had suicidal thoughts ?</th>\n",
              "      <th>Work/Study Hours</th>\n",
              "      <th>Financial Stress</th>\n",
              "      <th>Family History of Mental Illness</th>\n",
              "      <th>Depression</th>\n",
              "    </tr>\n",
              "  </thead>\n",
              "  <tbody>\n",
              "    <tr>\n",
              "      <th>0</th>\n",
              "      <td>2</td>\n",
              "      <td>Male</td>\n",
              "      <td>33.0</td>\n",
              "      <td>Visakhapatnam</td>\n",
              "      <td>Student</td>\n",
              "      <td>5.0</td>\n",
              "      <td>0.0</td>\n",
              "      <td>8.97</td>\n",
              "      <td>2.0</td>\n",
              "      <td>0.0</td>\n",
              "      <td>'5-6 hours'</td>\n",
              "      <td>Healthy</td>\n",
              "      <td>B.Pharm</td>\n",
              "      <td>Yes</td>\n",
              "      <td>3.0</td>\n",
              "      <td>1.0</td>\n",
              "      <td>No</td>\n",
              "      <td>1</td>\n",
              "    </tr>\n",
              "    <tr>\n",
              "      <th>1</th>\n",
              "      <td>8</td>\n",
              "      <td>Female</td>\n",
              "      <td>24.0</td>\n",
              "      <td>Bangalore</td>\n",
              "      <td>Student</td>\n",
              "      <td>2.0</td>\n",
              "      <td>0.0</td>\n",
              "      <td>5.90</td>\n",
              "      <td>5.0</td>\n",
              "      <td>0.0</td>\n",
              "      <td>'5-6 hours'</td>\n",
              "      <td>Moderate</td>\n",
              "      <td>BSc</td>\n",
              "      <td>No</td>\n",
              "      <td>3.0</td>\n",
              "      <td>2.0</td>\n",
              "      <td>Yes</td>\n",
              "      <td>0</td>\n",
              "    </tr>\n",
              "    <tr>\n",
              "      <th>2</th>\n",
              "      <td>26</td>\n",
              "      <td>Male</td>\n",
              "      <td>31.0</td>\n",
              "      <td>Srinagar</td>\n",
              "      <td>Student</td>\n",
              "      <td>3.0</td>\n",
              "      <td>0.0</td>\n",
              "      <td>7.03</td>\n",
              "      <td>5.0</td>\n",
              "      <td>0.0</td>\n",
              "      <td>'Less than 5 hours'</td>\n",
              "      <td>Healthy</td>\n",
              "      <td>BA</td>\n",
              "      <td>No</td>\n",
              "      <td>9.0</td>\n",
              "      <td>1.0</td>\n",
              "      <td>Yes</td>\n",
              "      <td>0</td>\n",
              "    </tr>\n",
              "    <tr>\n",
              "      <th>3</th>\n",
              "      <td>30</td>\n",
              "      <td>Female</td>\n",
              "      <td>28.0</td>\n",
              "      <td>Varanasi</td>\n",
              "      <td>Student</td>\n",
              "      <td>3.0</td>\n",
              "      <td>0.0</td>\n",
              "      <td>5.59</td>\n",
              "      <td>2.0</td>\n",
              "      <td>0.0</td>\n",
              "      <td>'7-8 hours'</td>\n",
              "      <td>Moderate</td>\n",
              "      <td>BCA</td>\n",
              "      <td>Yes</td>\n",
              "      <td>4.0</td>\n",
              "      <td>5.0</td>\n",
              "      <td>Yes</td>\n",
              "      <td>1</td>\n",
              "    </tr>\n",
              "    <tr>\n",
              "      <th>4</th>\n",
              "      <td>32</td>\n",
              "      <td>Female</td>\n",
              "      <td>25.0</td>\n",
              "      <td>Jaipur</td>\n",
              "      <td>Student</td>\n",
              "      <td>4.0</td>\n",
              "      <td>0.0</td>\n",
              "      <td>8.13</td>\n",
              "      <td>3.0</td>\n",
              "      <td>0.0</td>\n",
              "      <td>'5-6 hours'</td>\n",
              "      <td>Moderate</td>\n",
              "      <td>M.Tech</td>\n",
              "      <td>Yes</td>\n",
              "      <td>1.0</td>\n",
              "      <td>1.0</td>\n",
              "      <td>No</td>\n",
              "      <td>0</td>\n",
              "    </tr>\n",
              "  </tbody>\n",
              "</table>\n",
              "</div>"
            ],
            "text/plain": [
              "   id  Gender   Age           City Profession  Academic Pressure  Work Pressure  CGPA  Study Satisfaction  Job Satisfaction       Sleep Duration Dietary Habits   Degree Have you ever had suicidal thoughts ?  Work/Study Hours Financial Stress Family History of Mental Illness  Depression\n",
              "0   2    Male  33.0  Visakhapatnam    Student                5.0            0.0  8.97                 2.0               0.0          '5-6 hours'        Healthy  B.Pharm                                   Yes               3.0              1.0                               No           1\n",
              "1   8  Female  24.0      Bangalore    Student                2.0            0.0  5.90                 5.0               0.0          '5-6 hours'       Moderate      BSc                                    No               3.0              2.0                              Yes           0\n",
              "2  26    Male  31.0       Srinagar    Student                3.0            0.0  7.03                 5.0               0.0  'Less than 5 hours'        Healthy       BA                                    No               9.0              1.0                              Yes           0\n",
              "3  30  Female  28.0       Varanasi    Student                3.0            0.0  5.59                 2.0               0.0          '7-8 hours'       Moderate      BCA                                   Yes               4.0              5.0                              Yes           1\n",
              "4  32  Female  25.0         Jaipur    Student                4.0            0.0  8.13                 3.0               0.0          '5-6 hours'       Moderate   M.Tech                                   Yes               1.0              1.0                               No           0"
            ]
          },
          "metadata": {},
          "output_type": "display_data"
        }
      ],
      "source": [
        "# 1.4 - Display first few rows (Provides a quick look at the dataset's content).\n",
        "print_head(df)"
      ]
    },
    {
      "cell_type": "markdown",
      "metadata": {},
      "source": [
        "💡 **Observations:**  \n",
        "- All column names are readable and appear to be semantically meaningful.\n",
        "- The `id` column does not increment sequentially\n",
        "- `Work Pressure` and `Job Satisfaction` have only 0.0 values in the initial rows.\n",
        "- The `Profession` column appears to contain only \"Student\" values so far.\n"
      ]
    },
    {
      "cell_type": "code",
      "execution_count": 65,
      "metadata": {},
      "outputs": [
        {
          "data": {
            "text/html": [
              "<div>\n",
              "<style scoped>\n",
              "    .dataframe tbody tr th:only-of-type {\n",
              "        vertical-align: middle;\n",
              "    }\n",
              "\n",
              "    .dataframe tbody tr th {\n",
              "        vertical-align: top;\n",
              "    }\n",
              "\n",
              "    .dataframe thead th {\n",
              "        text-align: right;\n",
              "    }\n",
              "</style>\n",
              "<table border=\"1\" class=\"dataframe\">\n",
              "  <thead>\n",
              "    <tr style=\"text-align: right;\">\n",
              "      <th></th>\n",
              "      <th>Age</th>\n",
              "      <th>Academic Pressure</th>\n",
              "      <th>Work Pressure</th>\n",
              "      <th>CGPA</th>\n",
              "      <th>Study Satisfaction</th>\n",
              "      <th>Job Satisfaction</th>\n",
              "      <th>Work/Study Hours</th>\n",
              "      <th>Depression</th>\n",
              "    </tr>\n",
              "  </thead>\n",
              "  <tbody>\n",
              "    <tr>\n",
              "      <th>count</th>\n",
              "      <td>27901.000000</td>\n",
              "      <td>27901.000000</td>\n",
              "      <td>27901.000000</td>\n",
              "      <td>27901.000000</td>\n",
              "      <td>27901.000000</td>\n",
              "      <td>27901.000000</td>\n",
              "      <td>27901.000000</td>\n",
              "      <td>27901.000000</td>\n",
              "    </tr>\n",
              "    <tr>\n",
              "      <th>mean</th>\n",
              "      <td>25.822300</td>\n",
              "      <td>3.141214</td>\n",
              "      <td>0.000430</td>\n",
              "      <td>7.656104</td>\n",
              "      <td>2.943837</td>\n",
              "      <td>0.000681</td>\n",
              "      <td>7.156984</td>\n",
              "      <td>0.585499</td>\n",
              "    </tr>\n",
              "    <tr>\n",
              "      <th>std</th>\n",
              "      <td>4.905687</td>\n",
              "      <td>1.381465</td>\n",
              "      <td>0.043992</td>\n",
              "      <td>1.470707</td>\n",
              "      <td>1.361148</td>\n",
              "      <td>0.044394</td>\n",
              "      <td>3.707642</td>\n",
              "      <td>0.492645</td>\n",
              "    </tr>\n",
              "    <tr>\n",
              "      <th>min</th>\n",
              "      <td>18.000000</td>\n",
              "      <td>0.000000</td>\n",
              "      <td>0.000000</td>\n",
              "      <td>0.000000</td>\n",
              "      <td>0.000000</td>\n",
              "      <td>0.000000</td>\n",
              "      <td>0.000000</td>\n",
              "      <td>0.000000</td>\n",
              "    </tr>\n",
              "    <tr>\n",
              "      <th>25%</th>\n",
              "      <td>21.000000</td>\n",
              "      <td>2.000000</td>\n",
              "      <td>0.000000</td>\n",
              "      <td>6.290000</td>\n",
              "      <td>2.000000</td>\n",
              "      <td>0.000000</td>\n",
              "      <td>4.000000</td>\n",
              "      <td>0.000000</td>\n",
              "    </tr>\n",
              "    <tr>\n",
              "      <th>50%</th>\n",
              "      <td>25.000000</td>\n",
              "      <td>3.000000</td>\n",
              "      <td>0.000000</td>\n",
              "      <td>7.770000</td>\n",
              "      <td>3.000000</td>\n",
              "      <td>0.000000</td>\n",
              "      <td>8.000000</td>\n",
              "      <td>1.000000</td>\n",
              "    </tr>\n",
              "    <tr>\n",
              "      <th>75%</th>\n",
              "      <td>30.000000</td>\n",
              "      <td>4.000000</td>\n",
              "      <td>0.000000</td>\n",
              "      <td>8.920000</td>\n",
              "      <td>4.000000</td>\n",
              "      <td>0.000000</td>\n",
              "      <td>10.000000</td>\n",
              "      <td>1.000000</td>\n",
              "    </tr>\n",
              "    <tr>\n",
              "      <th>max</th>\n",
              "      <td>59.000000</td>\n",
              "      <td>5.000000</td>\n",
              "      <td>5.000000</td>\n",
              "      <td>10.000000</td>\n",
              "      <td>5.000000</td>\n",
              "      <td>4.000000</td>\n",
              "      <td>12.000000</td>\n",
              "      <td>1.000000</td>\n",
              "    </tr>\n",
              "  </tbody>\n",
              "</table>\n",
              "</div>"
            ],
            "text/plain": [
              "                Age  Academic Pressure  Work Pressure          CGPA  Study Satisfaction  Job Satisfaction  Work/Study Hours    Depression\n",
              "count  27901.000000       27901.000000   27901.000000  27901.000000        27901.000000      27901.000000      27901.000000  27901.000000\n",
              "mean      25.822300           3.141214       0.000430      7.656104            2.943837          0.000681          7.156984      0.585499\n",
              "std        4.905687           1.381465       0.043992      1.470707            1.361148          0.044394          3.707642      0.492645\n",
              "min       18.000000           0.000000       0.000000      0.000000            0.000000          0.000000          0.000000      0.000000\n",
              "25%       21.000000           2.000000       0.000000      6.290000            2.000000          0.000000          4.000000      0.000000\n",
              "50%       25.000000           3.000000       0.000000      7.770000            3.000000          0.000000          8.000000      1.000000\n",
              "75%       30.000000           4.000000       0.000000      8.920000            4.000000          0.000000         10.000000      1.000000\n",
              "max       59.000000           5.000000       5.000000     10.000000            5.000000          4.000000         12.000000      1.000000"
            ]
          },
          "metadata": {},
          "output_type": "display_data"
        }
      ],
      "source": [
        "# 1.5 - Prints basic statistics (mean, standard deviation, min, max, etc.)\n",
        "numeric_cols = df.select_dtypes(include=[np.number]).columns.drop('id', errors='ignore')  # For  numeric data types\n",
        "display(df[numeric_cols].describe())   "
      ]
    },
    {
      "cell_type": "markdown",
      "metadata": {},
      "source": [
        "💡 **Observations:**  \n",
        "- `Age` mostly ranges between 21 to 30, aligning with student demographics ,though the max age is 59, which may be an outlier or non-student entry.\n",
        "- `Work Pressure` and `Job Satisfaction` values appear to be very close to 0, suggesting missing data, poor scaling, or inactive features. \n",
        "\n",
        "> *🧠 First, let's examine the behavior of `Work Pressure` and `Job Satisfaction` to understand their distribution better*\n"
      ]
    },
    {
      "cell_type": "code",
      "execution_count": 66,
      "metadata": {},
      "outputs": [
        {
          "name": "stdout",
          "output_type": "stream",
          "text": [
            "\n",
            "# Value counts for 'Work Pressure':\n",
            "Work Pressure\n",
            "0.0    27898\n",
            "5.0        2\n",
            "2.0        1\n",
            "Name: count, dtype: int64\n",
            "\n",
            "# Value counts for 'Job Satisfaction':\n",
            "Job Satisfaction\n",
            "0.0    27893\n",
            "2.0        3\n",
            "4.0        2\n",
            "1.0        2\n",
            "3.0        1\n",
            "Name: count, dtype: int64\n"
          ]
        }
      ],
      "source": [
        "# 1.6 - Analyze Selected Columns: `Work Pressure` and `Job Satisfaction`\n",
        "colsJob = ['Work Pressure', 'Job Satisfaction']\n",
        "for col in colsJob:\n",
        "    print(f\"\\n# Value counts for '{col}':\")\n",
        "    print(df[col].value_counts(dropna=False))"
      ]
    },
    {
      "cell_type": "markdown",
      "metadata": {},
      "source": [
        "💡 **Observations:**  \n",
        "- `Work Pressure:`99.98% of the values are 0.0\n",
        "- `Job Satisfaction:`Also dominated by 0.0 values 99.97%.\n",
        "\n",
        "> *🧠 Work Pressure and Job Satisfaction show extreme class imbalance (>99% zero). These features likely carry no predictive value and may be excluded from training.*\n",
        "\n"
      ]
    },
    {
      "cell_type": "code",
      "execution_count": 67,
      "metadata": {},
      "outputs": [
        {
          "data": {
            "image/png": "[encoded data removed]",
            "text/plain": [
              "<Figure size 1200x400 with 2 Axes>"
            ]
          },
          "metadata": {},
          "output_type": "display_data"
        }
      ],
      "source": [
        "# 1.7 - Visualize distributions of selected job-related columns\n",
        "plt.figure(figsize=(12, 4))\n",
        "\n",
        "for i, col in enumerate(colsJob, 1):\n",
        "    plt.subplot(1, 2, i)\n",
        "    sns.boxplot(data=df, x='Depression', y=col, palette='Set2')\n",
        "    plt.title(f'{col} vs Target')\n",
        "    plt.xlabel('Target')\n",
        "    plt.ylabel(col)\n",
        "\n",
        "plt.tight_layout()\n",
        "plt.show()\n"
      ]
    },
    {
      "cell_type": "markdown",
      "metadata": {},
      "source": [
        "💡 **Observations:**  \n",
        "- The few non-zero values are rare outliers, and they're randomly scattered — not concentrated in any one class.\n",
        "\n",
        "> *🧠 This pattern strongly suggests these features offer no meaningful separation between the target classes.*\n"
      ]
    },
    {
      "cell_type": "markdown",
      "metadata": {},
      "source": [
        "> 🔻 So we drop `Work Pressure` and `Job Satisfaction` : highly skewed, not predictive."
      ]
    },
    {
      "cell_type": "code",
      "execution_count": 68,
      "metadata": {},
      "outputs": [],
      "source": [
        "# 📌 1.8 - Drop the columns in place\n",
        "df.drop(['Work Pressure', 'Job Satisfaction'], axis=1, inplace=True)"
      ]
    },
    {
      "cell_type": "code",
      "execution_count": 69,
      "metadata": {},
      "outputs": [
        {
          "name": "stdout",
          "output_type": "stream",
          "text": [
            "\n",
            "First 5 rows:\n"
          ]
        },
        {
          "data": {
            "text/html": [
              "<div>\n",
              "<style scoped>\n",
              "    .dataframe tbody tr th:only-of-type {\n",
              "        vertical-align: middle;\n",
              "    }\n",
              "\n",
              "    .dataframe tbody tr th {\n",
              "        vertical-align: top;\n",
              "    }\n",
              "\n",
              "    .dataframe thead th {\n",
              "        text-align: right;\n",
              "    }\n",
              "</style>\n",
              "<table border=\"1\" class=\"dataframe\">\n",
              "  <thead>\n",
              "    <tr style=\"text-align: right;\">\n",
              "      <th></th>\n",
              "      <th>id</th>\n",
              "      <th>Gender</th>\n",
              "      <th>Age</th>\n",
              "      <th>City</th>\n",
              "      <th>Profession</th>\n",
              "      <th>Academic Pressure</th>\n",
              "      <th>CGPA</th>\n",
              "      <th>Study Satisfaction</th>\n",
              "      <th>Sleep Duration</th>\n",
              "      <th>Dietary Habits</th>\n",
              "      <th>Degree</th>\n",
              "      <th>Have you ever had suicidal thoughts ?</th>\n",
              "      <th>Work/Study Hours</th>\n",
              "      <th>Financial Stress</th>\n",
              "      <th>Family History of Mental Illness</th>\n",
              "      <th>Depression</th>\n",
              "    </tr>\n",
              "  </thead>\n",
              "  <tbody>\n",
              "    <tr>\n",
              "      <th>0</th>\n",
              "      <td>2</td>\n",
              "      <td>Male</td>\n",
              "      <td>33.0</td>\n",
              "      <td>Visakhapatnam</td>\n",
              "      <td>Student</td>\n",
              "      <td>5.0</td>\n",
              "      <td>8.97</td>\n",
              "      <td>2.0</td>\n",
              "      <td>'5-6 hours'</td>\n",
              "      <td>Healthy</td>\n",
              "      <td>B.Pharm</td>\n",
              "      <td>Yes</td>\n",
              "      <td>3.0</td>\n",
              "      <td>1.0</td>\n",
              "      <td>No</td>\n",
              "      <td>1</td>\n",
              "    </tr>\n",
              "    <tr>\n",
              "      <th>1</th>\n",
              "      <td>8</td>\n",
              "      <td>Female</td>\n",
              "      <td>24.0</td>\n",
              "      <td>Bangalore</td>\n",
              "      <td>Student</td>\n",
              "      <td>2.0</td>\n",
              "      <td>5.90</td>\n",
              "      <td>5.0</td>\n",
              "      <td>'5-6 hours'</td>\n",
              "      <td>Moderate</td>\n",
              "      <td>BSc</td>\n",
              "      <td>No</td>\n",
              "      <td>3.0</td>\n",
              "      <td>2.0</td>\n",
              "      <td>Yes</td>\n",
              "      <td>0</td>\n",
              "    </tr>\n",
              "    <tr>\n",
              "      <th>2</th>\n",
              "      <td>26</td>\n",
              "      <td>Male</td>\n",
              "      <td>31.0</td>\n",
              "      <td>Srinagar</td>\n",
              "      <td>Student</td>\n",
              "      <td>3.0</td>\n",
              "      <td>7.03</td>\n",
              "      <td>5.0</td>\n",
              "      <td>'Less than 5 hours'</td>\n",
              "      <td>Healthy</td>\n",
              "      <td>BA</td>\n",
              "      <td>No</td>\n",
              "      <td>9.0</td>\n",
              "      <td>1.0</td>\n",
              "      <td>Yes</td>\n",
              "      <td>0</td>\n",
              "    </tr>\n",
              "    <tr>\n",
              "      <th>3</th>\n",
              "      <td>30</td>\n",
              "      <td>Female</td>\n",
              "      <td>28.0</td>\n",
              "      <td>Varanasi</td>\n",
              "      <td>Student</td>\n",
              "      <td>3.0</td>\n",
              "      <td>5.59</td>\n",
              "      <td>2.0</td>\n",
              "      <td>'7-8 hours'</td>\n",
              "      <td>Moderate</td>\n",
              "      <td>BCA</td>\n",
              "      <td>Yes</td>\n",
              "      <td>4.0</td>\n",
              "      <td>5.0</td>\n",
              "      <td>Yes</td>\n",
              "      <td>1</td>\n",
              "    </tr>\n",
              "    <tr>\n",
              "      <th>4</th>\n",
              "      <td>32</td>\n",
              "      <td>Female</td>\n",
              "      <td>25.0</td>\n",
              "      <td>Jaipur</td>\n",
              "      <td>Student</td>\n",
              "      <td>4.0</td>\n",
              "      <td>8.13</td>\n",
              "      <td>3.0</td>\n",
              "      <td>'5-6 hours'</td>\n",
              "      <td>Moderate</td>\n",
              "      <td>M.Tech</td>\n",
              "      <td>Yes</td>\n",
              "      <td>1.0</td>\n",
              "      <td>1.0</td>\n",
              "      <td>No</td>\n",
              "      <td>0</td>\n",
              "    </tr>\n",
              "  </tbody>\n",
              "</table>\n",
              "</div>"
            ],
            "text/plain": [
              "   id  Gender   Age           City Profession  Academic Pressure  CGPA  Study Satisfaction       Sleep Duration Dietary Habits   Degree Have you ever had suicidal thoughts ?  Work/Study Hours Financial Stress Family History of Mental Illness  Depression\n",
              "0   2    Male  33.0  Visakhapatnam    Student                5.0  8.97                 2.0          '5-6 hours'        Healthy  B.Pharm                                   Yes               3.0              1.0                               No           1\n",
              "1   8  Female  24.0      Bangalore    Student                2.0  5.90                 5.0          '5-6 hours'       Moderate      BSc                                    No               3.0              2.0                              Yes           0\n",
              "2  26    Male  31.0       Srinagar    Student                3.0  7.03                 5.0  'Less than 5 hours'        Healthy       BA                                    No               9.0              1.0                              Yes           0\n",
              "3  30  Female  28.0       Varanasi    Student                3.0  5.59                 2.0          '7-8 hours'       Moderate      BCA                                   Yes               4.0              5.0                              Yes           1\n",
              "4  32  Female  25.0         Jaipur    Student                4.0  8.13                 3.0          '5-6 hours'       Moderate   M.Tech                                   Yes               1.0              1.0                               No           0"
            ]
          },
          "metadata": {},
          "output_type": "display_data"
        }
      ],
      "source": [
        "# A quick look at the data frame after the changes\n",
        "print_head(df)"
      ]
    },
    {
      "cell_type": "markdown",
      "metadata": {},
      "source": [
        "> *🧠 Next we can focus on the `Profession` column.*"
      ]
    },
    {
      "cell_type": "code",
      "execution_count": 70,
      "metadata": {},
      "outputs": [
        {
          "name": "stdout",
          "output_type": "stream",
          "text": [
            "\n",
            "# Value counts for 'Profession':\n",
            "Profession\n",
            "Student                     27870\n",
            "Architect                       8\n",
            "Teacher                         6\n",
            "'Digital Marketer'              3\n",
            "Chef                            2\n",
            "'Content Writer'                2\n",
            "Pharmacist                      2\n",
            "Doctor                          2\n",
            "'UX/UI Designer'                1\n",
            "'Civil Engineer'                1\n",
            "Manager                         1\n",
            "'Educational Consultant'        1\n",
            "Lawyer                          1\n",
            "Entrepreneur                    1\n",
            "Name: count, dtype: int64\n"
          ]
        }
      ],
      "source": [
        "\n",
        "# 1.9 - Analyze Profession value counts.\n",
        "print(f\"\\n# Value counts for 'Profession':\")\n",
        "print(df['Profession'].value_counts(dropna=False))"
      ]
    },
    {
      "cell_type": "code",
      "execution_count": 71,
      "metadata": {},
      "outputs": [
        {
          "name": "stdout",
          "output_type": "stream",
          "text": [
            "\n",
            "# Summery of value counts 'Profession':\n",
            "Student count: 27870\n",
            "Other count: 31 (0.11%)\n"
          ]
        }
      ],
      "source": [
        "# 1.10 - Summary of value counts for better readability\n",
        "print(f\"\\n# Summery of value counts 'Profession':\")\n",
        "\n",
        "student_count = df[df['Profession'] == 'Student'].shape[0]\n",
        "print(f\"Student count: {student_count}\")\n",
        "\n",
        "non_student_count = df.shape[0] - student_count\n",
        "print(f\"Other count: {non_student_count} ({(non_student_count/df.shape[0])*100:.2f}%)\")"
      ]
    },
    {
      "cell_type": "markdown",
      "metadata": {},
      "source": [
        "💡 **Observations:**  \n",
        "- The column `Profession` is heavily imbalanced, with \"Student\" making up 99.89% of the data.\n",
        "- The remaining values represent non-student professions and occur in very small numbers. \n",
        "\n",
        "> *🧠 Since our project focuses on students, and the presence of other professions is minimal and irrelevant, these entries can be safely excluded.*"
      ]
    },
    {
      "cell_type": "markdown",
      "metadata": {},
      "source": [
        "> 🔻 So we drop `Profession` : not needed after filtering to only student data."
      ]
    },
    {
      "cell_type": "code",
      "execution_count": 72,
      "metadata": {},
      "outputs": [],
      "source": [
        "# 📌 1.11 - Drop the column in place\n",
        "df.drop(['Profession'], axis=1, inplace=True)"
      ]
    },
    {
      "cell_type": "code",
      "execution_count": 73,
      "metadata": {},
      "outputs": [
        {
          "name": "stdout",
          "output_type": "stream",
          "text": [
            "\n",
            "First 5 rows:\n"
          ]
        },
        {
          "data": {
            "text/html": [
              "<div>\n",
              "<style scoped>\n",
              "    .dataframe tbody tr th:only-of-type {\n",
              "        vertical-align: middle;\n",
              "    }\n",
              "\n",
              "    .dataframe tbody tr th {\n",
              "        vertical-align: top;\n",
              "    }\n",
              "\n",
              "    .dataframe thead th {\n",
              "        text-align: right;\n",
              "    }\n",
              "</style>\n",
              "<table border=\"1\" class=\"dataframe\">\n",
              "  <thead>\n",
              "    <tr style=\"text-align: right;\">\n",
              "      <th></th>\n",
              "      <th>id</th>\n",
              "      <th>Gender</th>\n",
              "      <th>Age</th>\n",
              "      <th>City</th>\n",
              "      <th>Academic Pressure</th>\n",
              "      <th>CGPA</th>\n",
              "      <th>Study Satisfaction</th>\n",
              "      <th>Sleep Duration</th>\n",
              "      <th>Dietary Habits</th>\n",
              "      <th>Degree</th>\n",
              "      <th>Have you ever had suicidal thoughts ?</th>\n",
              "      <th>Work/Study Hours</th>\n",
              "      <th>Financial Stress</th>\n",
              "      <th>Family History of Mental Illness</th>\n",
              "      <th>Depression</th>\n",
              "    </tr>\n",
              "  </thead>\n",
              "  <tbody>\n",
              "    <tr>\n",
              "      <th>0</th>\n",
              "      <td>2</td>\n",
              "      <td>Male</td>\n",
              "      <td>33.0</td>\n",
              "      <td>Visakhapatnam</td>\n",
              "      <td>5.0</td>\n",
              "      <td>8.97</td>\n",
              "      <td>2.0</td>\n",
              "      <td>'5-6 hours'</td>\n",
              "      <td>Healthy</td>\n",
              "      <td>B.Pharm</td>\n",
              "      <td>Yes</td>\n",
              "      <td>3.0</td>\n",
              "      <td>1.0</td>\n",
              "      <td>No</td>\n",
              "      <td>1</td>\n",
              "    </tr>\n",
              "    <tr>\n",
              "      <th>1</th>\n",
              "      <td>8</td>\n",
              "      <td>Female</td>\n",
              "      <td>24.0</td>\n",
              "      <td>Bangalore</td>\n",
              "      <td>2.0</td>\n",
              "      <td>5.90</td>\n",
              "      <td>5.0</td>\n",
              "      <td>'5-6 hours'</td>\n",
              "      <td>Moderate</td>\n",
              "      <td>BSc</td>\n",
              "      <td>No</td>\n",
              "      <td>3.0</td>\n",
              "      <td>2.0</td>\n",
              "      <td>Yes</td>\n",
              "      <td>0</td>\n",
              "    </tr>\n",
              "    <tr>\n",
              "      <th>2</th>\n",
              "      <td>26</td>\n",
              "      <td>Male</td>\n",
              "      <td>31.0</td>\n",
              "      <td>Srinagar</td>\n",
              "      <td>3.0</td>\n",
              "      <td>7.03</td>\n",
              "      <td>5.0</td>\n",
              "      <td>'Less than 5 hours'</td>\n",
              "      <td>Healthy</td>\n",
              "      <td>BA</td>\n",
              "      <td>No</td>\n",
              "      <td>9.0</td>\n",
              "      <td>1.0</td>\n",
              "      <td>Yes</td>\n",
              "      <td>0</td>\n",
              "    </tr>\n",
              "    <tr>\n",
              "      <th>3</th>\n",
              "      <td>30</td>\n",
              "      <td>Female</td>\n",
              "      <td>28.0</td>\n",
              "      <td>Varanasi</td>\n",
              "      <td>3.0</td>\n",
              "      <td>5.59</td>\n",
              "      <td>2.0</td>\n",
              "      <td>'7-8 hours'</td>\n",
              "      <td>Moderate</td>\n",
              "      <td>BCA</td>\n",
              "      <td>Yes</td>\n",
              "      <td>4.0</td>\n",
              "      <td>5.0</td>\n",
              "      <td>Yes</td>\n",
              "      <td>1</td>\n",
              "    </tr>\n",
              "    <tr>\n",
              "      <th>4</th>\n",
              "      <td>32</td>\n",
              "      <td>Female</td>\n",
              "      <td>25.0</td>\n",
              "      <td>Jaipur</td>\n",
              "      <td>4.0</td>\n",
              "      <td>8.13</td>\n",
              "      <td>3.0</td>\n",
              "      <td>'5-6 hours'</td>\n",
              "      <td>Moderate</td>\n",
              "      <td>M.Tech</td>\n",
              "      <td>Yes</td>\n",
              "      <td>1.0</td>\n",
              "      <td>1.0</td>\n",
              "      <td>No</td>\n",
              "      <td>0</td>\n",
              "    </tr>\n",
              "  </tbody>\n",
              "</table>\n",
              "</div>"
            ],
            "text/plain": [
              "   id  Gender   Age           City  Academic Pressure  CGPA  Study Satisfaction       Sleep Duration Dietary Habits   Degree Have you ever had suicidal thoughts ?  Work/Study Hours Financial Stress Family History of Mental Illness  Depression\n",
              "0   2    Male  33.0  Visakhapatnam                5.0  8.97                 2.0          '5-6 hours'        Healthy  B.Pharm                                   Yes               3.0              1.0                               No           1\n",
              "1   8  Female  24.0      Bangalore                2.0  5.90                 5.0          '5-6 hours'       Moderate      BSc                                    No               3.0              2.0                              Yes           0\n",
              "2  26    Male  31.0       Srinagar                3.0  7.03                 5.0  'Less than 5 hours'        Healthy       BA                                    No               9.0              1.0                              Yes           0\n",
              "3  30  Female  28.0       Varanasi                3.0  5.59                 2.0          '7-8 hours'       Moderate      BCA                                   Yes               4.0              5.0                              Yes           1\n",
              "4  32  Female  25.0         Jaipur                4.0  8.13                 3.0          '5-6 hours'       Moderate   M.Tech                                   Yes               1.0              1.0                               No           0"
            ]
          },
          "metadata": {},
          "output_type": "display_data"
        }
      ],
      "source": [
        "# A quick look at the data frame after the changes\n",
        "print_head(df)"
      ]
    },
    {
      "cell_type": "code",
      "execution_count": 74,
      "metadata": {},
      "outputs": [
        {
          "name": "stdout",
          "output_type": "stream",
          "text": [
            "DataFrame Dimensions\n",
            "------------------------\n",
            "Rows   : 27901\n",
            "Columns: 15\n",
            "\n"
          ]
        }
      ],
      "source": [
        "# new dimensions of the dataset\n",
        "get_data_shape(df)"
      ]
    },
    {
      "cell_type": "markdown",
      "metadata": {},
      "source": [
        "> *🧠 Next we can focus on the `City` column.*\n",
        "- Since our project focuses on **student depression**, and the dataset is sourced from **India**, we need to evaluate whether `City` contributes meaningful information or if it introduces noise due to geographic mismatch or imbalance."
      ]
    },
    {
      "cell_type": "code",
      "execution_count": 75,
      "metadata": {},
      "outputs": [
        {
          "name": "stdout",
          "output_type": "stream",
          "text": [
            "🧾 Unique cities: 52\n",
            "\n",
            "🏙 Top 10 Most Frequent Cities:\n"
          ]
        },
        {
          "data": {
            "text/plain": [
              "City\n",
              "Kalyan         1570\n",
              "Srinagar       1372\n",
              "Hyderabad      1340\n",
              "Vasai-Virar    1290\n",
              "Lucknow        1155\n",
              "Name: count, dtype: int64"
            ]
          },
          "metadata": {},
          "output_type": "display_data"
        },
        {
          "name": "stdout",
          "output_type": "stream",
          "text": [
            "\n",
            "🏙 Top 10 Least Frequent Cities:\n"
          ]
        },
        {
          "data": {
            "text/plain": [
              "City\n",
              "Nalyan       1\n",
              "Mihir        1\n",
              "Nalini       1\n",
              "Nandini      1\n",
              "Khaziabad    1\n",
              "Name: count, dtype: int64"
            ]
          },
          "metadata": {},
          "output_type": "display_data"
        }
      ],
      "source": [
        "# 1.12 - Check Basic Distribution of 'City' Column\n",
        "\n",
        "# Count of unique cities\n",
        "print(f\"🧾 Unique cities: {df['City'].nunique()}\")\n",
        "\n",
        "# Top 5 most frequent cities\n",
        "print(\"\\n🏙 Top 10 Most Frequent Cities:\")\n",
        "display(df['City'].value_counts().head(5))\n",
        "\n",
        "# Top 5 least frequent cities\n",
        "print(\"\\n🏙 Top 10 Least Frequent Cities:\")\n",
        "display(df['City'].value_counts().tail(5))\n"
      ]
    },
    {
      "cell_type": "markdown",
      "metadata": {},
      "source": [
        "💡 **Observations:**  \n",
        "- The top 5 cities each have ~1000 or more entries.\n",
        "- The bottom 5 cities have only 1 record each, suggesting they're rare or outliers.\n",
        "\n",
        "> *🧠 Let's visualize the city distribution for a clearer understanding of its skewness.*"
      ]
    },
    {
      "cell_type": "code",
      "execution_count": 76,
      "metadata": {},
      "outputs": [
        {
          "data": {
            "image/png": "[encoded data removed]",
            "text/plain": [
              "<Figure size 1400x600 with 1 Axes>"
            ]
          },
          "metadata": {},
          "output_type": "display_data"
        }
      ],
      "source": [
        "# 1.13 - Data visualization for `City` column\n",
        "\n",
        "plt.figure(figsize=(14, 6))\n",
        "sns.countplot(data=df, x='City', hue='Depression', order=df['City'].value_counts().index[:])\n",
        "plt.title(\"Cities by Target Distribution\")\n",
        "plt.xlabel(\"City\")\n",
        "plt.ylabel(\"Count\")\n",
        "plt.xticks(rotation=45)\n",
        "plt.tight_layout()\n",
        "plt.show()"
      ]
    },
    {
      "cell_type": "markdown",
      "metadata": {},
      "source": [
        "💡 **Observations:**  \n",
        "- `City` column shows a long-tail distribution with top cities highly represented\n",
        "- There are clear data quality issues, as some entries in the City column are invalid or noisy, `e.g., 'Less than 5', 'M.Tech', 'M.Com', Nayra, Mini, etc.`  \n",
        "\n",
        ".\n",
        "> *🔻 City column will be dropped because:*\n",
        "- The dataset contains Indian cities, not relevant and may introduce regional bias.\n",
        "- The column has significant skewness, with a few cities dominating the data\n",
        "- here are clear data quality issues."
      ]
    },
    {
      "cell_type": "code",
      "execution_count": 77,
      "metadata": {},
      "outputs": [],
      "source": [
        "# 📌 1.14 - Drop the column in place\n",
        "df.drop(['City'], axis=1, inplace=True)"
      ]
    },
    {
      "cell_type": "code",
      "execution_count": 78,
      "metadata": {},
      "outputs": [
        {
          "name": "stdout",
          "output_type": "stream",
          "text": [
            "DataFrame Dimensions\n",
            "------------------------\n",
            "Rows   : 27901\n",
            "Columns: 14\n",
            "\n"
          ]
        }
      ],
      "source": [
        "# new dimensions of the dataset\n",
        "get_data_shape(df)"
      ]
    }
  ],
  "metadata": {
    "colab": {
      "provenance": []
    },
    "kernelspec": {
      "display_name": "Python 3 (ipykernel)",
      "language": "python",
      "name": "python3"
    },
    "language_info": {
      "codemirror_mode": {
        "name": "ipython",
        "version": 3
      },
      "file_extension": ".py",
      "mimetype": "text/x-python",
      "name": "python",
      "nbconvert_exporter": "python",
      "pygments_lexer": "ipython3",
      "version": "3.10.18"
    }
  },
  "nbformat": 4,
  "nbformat_minor": 0
}
