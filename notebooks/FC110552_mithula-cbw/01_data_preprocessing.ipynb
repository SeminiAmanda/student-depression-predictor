{
  "cells": [
    {
      "cell_type": "markdown",
      "metadata": {
        "id": "1YAbzpdXEVx6"
      },
      "source": [
        "# 01 – Data Preprocessing\n",
        "### Student Depression Prediction: Preparing Data for XGBoost Model\n",
        "\n",
        "---"
      ]
    },
    {
      "cell_type": "markdown",
      "metadata": {
        "id": "6fEGWj6uFiIB"
      },
      "source": [
        "## 📌 Objective\n",
        "Prepare and clean the student depression dataset for machine learning analysis using XGBoost classification.\n",
        "\n",
        "**Key Tasks:**\n",
        "- Load and explore raw data\n",
        "- Handle missing values and outliers\n",
        "- Encode categorical variables\n",
        "- Scale numerical features\n",
        "- Export clean dataset for modeling\n",
        "\n",
        "---"
      ]
    },
    {
      "cell_type": "markdown",
      "metadata": {},
      "source": [
        "### 📂 Input  \n",
        " - `student_depression_dataset.csv` saved in `Data/raw/`  \n",
        "\n",
        "\n",
        "### 📦 Output  \n",
        "- `clean_data.csv` saved in `Data/processed/FC110552_mithula-cbw/`\n",
        "\n",
        "---"
      ]
    },
    {
      "cell_type": "markdown",
      "metadata": {
        "id": "C8c7kbLJG2j9"
      },
      "source": [
        "### 📊 Dataset Overview\n",
        "\n",
        "| **Attribute** | **Details** |\n",
        "|---------------|-------------|\n",
        "| **Dataset Size** | 27,901 records × 18 features |\n",
        "| **Data Type** | Structured tabular data (CSV format) |\n",
        "| **Target Variable** | `Depression_Status` (Binary: 0/1 or Yes/No) |\n",
        "| **Problem Type** | Binary Classification |\n",
        "| **Data Source** | [Student Depression Dataset](www.kaggle.com/datasets/adilshamim8/student-depression-dataset) |"
      ]
    },
    {
      "cell_type": "markdown",
      "metadata": {},
      "source": [
        "### 📈 Expected Outcomes\n",
        "- Clean, processed dataset ready for machine learning"
      ]
    },
    {
      "cell_type": "code",
      "execution_count": 5,
      "metadata": {
        "id": "dE3S8z3JHgm7"
      },
      "outputs": [],
      "source": [
        "# =====================================\n",
        "# STEP 1: DATA LOADING & EXPLORATION\n",
        "# =====================================\n",
        "\n",
        "\n",
        "# 1.1 - Load libraries and suppress warnings\n",
        "import pandas as pd\n",
        "import numpy as np\n",
        "import matplotlib.pyplot as plt\n",
        "import seaborn as sns\n",
        "import warnings\n",
        "warnings.filterwarnings('ignore')\n",
        "\n",
        "# Set display options\n",
        "pd.set_option('display.max_columns', None)\n",
        "pd.set_option('display.width', 1000)"
      ]
    },
    {
      "cell_type": "code",
      "execution_count": null,
      "metadata": {
        "collapsed": true,
        "id": "FnW_3Mz4HyDW"
      },
      "outputs": [],
      "source": [
        "\n",
        "# 1.2 - Load the dataset\n",
        "    # Assign the CSV file to a Pandas DataFrame.\n",
        "\n",
        "df = pd.read_csv(\"./Data/raw/student_depression_dataset.csv\")"
      ]
    },
    {
      "cell_type": "code",
      "execution_count": null,
      "metadata": {
        "id": "3QD3LBaHHykN"
      },
      "outputs": [],
      "source": [
        "# Function to Print Shape of DataFrame\n",
        "def get_data_shape(data: pd.DataFrame) -> None:\n",
        "    if data.empty:\n",
        "        print(\"⚠️ DataFrame is empty.\")\n",
        "    else:\n",
        "        # Print the shape of the DataFrame\n",
        "        print(\"DataFrame Dimensions\")\n",
        "        print(\"------------------------\")\n",
        "        print(f\"Rows   : {data.shape[0]}\")\n",
        "        print(f\"Columns: {data.shape[1]}\")"
      ]
    },
    {
      "cell_type": "code",
      "execution_count": 18,
      "metadata": {},
      "outputs": [
        {
          "name": "stdout",
          "output_type": "stream",
          "text": [
            "DataFrame Dimensions\n",
            "------------------------\n",
            "Rows   : 27901\n",
            "Columns: 18\n"
          ]
        }
      ],
      "source": [
        "get_data_shape(df)"
      ]
    },
    {
      "cell_type": "code",
      "execution_count": null,
      "metadata": {},
      "outputs": [],
      "source": []
    }
  ],
  "metadata": {
    "colab": {
      "provenance": []
    },
    "kernelspec": {
      "display_name": "Python 3 (ipykernel)",
      "language": "python",
      "name": "python3"
    },
    "language_info": {
      "codemirror_mode": {
        "name": "ipython",
        "version": 3
      },
      "file_extension": ".py",
      "mimetype": "text/x-python",
      "name": "python",
      "nbconvert_exporter": "python",
      "pygments_lexer": "ipython3",
      "version": "3.10.18"
    }
  },
  "nbformat": 4,
  "nbformat_minor": 0
}
