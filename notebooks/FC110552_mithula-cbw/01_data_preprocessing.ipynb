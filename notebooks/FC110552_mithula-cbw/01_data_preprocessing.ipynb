{
 "cells": [
  {
   "cell_type": "markdown",
   "id": "a7745125",
   "metadata": {},
   "source": [
    "# 01 – Data Preprocessing\n",
    "\n",
    "### 📌 Objective  \n",
    "\n",
    " This notebook prepares the raw dataset for machine learning by cleaning, transforming, and structuring the data for downstream modeling.\n",
    "\n",
    "---\n",
    "\n",
    "### 🧱 Tasks Covered\n",
    "- Loading raw data\n",
    "- Exploring data types, missing values, and distributions\n",
    "- Handling missing or inconsistent values\n",
    "- Encoding categorical variables\n",
    "- Scaling numerical features\n",
    "- Saving the clean dataset for the next stage\n",
    "\n",
    "---\n",
    "\n",
    "### 📂 Input\n",
    "- `student_depression_dataset.csv` saved in `Data/raw/`\n",
    "\n",
    "### 📦 Output\n",
    "- `clean_data.csv` saved in `Data/processed/FC110552_mithula-cbw/`\n",
    "\n",
    "---\n"
   ]
  },
  {
   "cell_type": "markdown",
   "id": "d7d26501",
   "metadata": {},
   "source": [
    " ### 📁 Dataset Characteristics:\n",
    "- **Data Format:** CSV (each row contains information about one student) - **Identifier:** Student ID (unique for each individual)\n",
    "- **Demographic Information:** Age, Gender, City of Residence\n",
    "- **Academic Information:** Cumulative Grade Point Average (CGPA), Academic Pressure, Study Method\n",
    "- **Lifestyle Factors:** Sleep duration, eating habits, working hours, job satisfaction\n",
    "- **Psychological and Social Factors:** Family history of mental illness, financial stress, history of suicidal thoughts"
   ]
  },
  {
   "cell_type": "markdown",
   "id": "549ce2d8",
   "metadata": {},
   "source": [
    "### Target Variable:\n",
    "- Depression_Status: A binary indicator showing whether a student experiences depression (0/1 or Yes/No)\n",
    "\n",
    "---"
   ]
  },
  {
   "cell_type": "code",
   "execution_count": 3,
   "id": "95fce076",
   "metadata": {},
   "outputs": [],
   "source": [
    "# importing necessary libraries.\n",
    "import pandas as pd\n",
    "import numpy as np\n",
    "import matplotlib.pyplot as plt\n",
    "import seaborn as sns\n",
    "\n",
    "# Standard Libraries\n",
    "import warnings"
   ]
  },
  {
   "cell_type": "code",
   "execution_count": 9,
   "id": "6c2cd8cb",
   "metadata": {},
   "outputs": [],
   "source": [
    "# Assign the CSV file to a Pandas DataFrame.\n",
    "df = pd.read_csv(\"./Data/raw/student_depression_dataset.csv\")"
   ]
  },
  {
   "cell_type": "code",
   "execution_count": null,
   "id": "d5033b6b",
   "metadata": {},
   "outputs": [],
   "source": []
  }
 ],
 "metadata": {
  "kernelspec": {
   "display_name": "Python 3 (ipykernel)",
   "language": "python",
   "name": "python3"
  },
  "language_info": {
   "codemirror_mode": {
    "name": "ipython",
    "version": 3
   },
   "file_extension": ".py",
   "mimetype": "text/x-python",
   "name": "python",
   "nbconvert_exporter": "python",
   "pygments_lexer": "ipython3",
   "version": "3.10.18"
  }
 },
 "nbformat": 4,
 "nbformat_minor": 5
}
