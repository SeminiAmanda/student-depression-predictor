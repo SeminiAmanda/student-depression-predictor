{
 "cells": [
  {
   "cell_type": "code",
   "execution_count": 1,
   "id": "e3de3806-ff32-4de1-999b-b5ce9f6ace2d",
   "metadata": {},
   "outputs": [],
   "source": [
    "# Test notebook"
   ]
  },
  {
   "cell_type": "code",
   "execution_count": 6,
   "id": "9ac534bd-2a51-41f0-b6ca-921fb0ff8b68",
   "metadata": {},
   "outputs": [],
   "source": [
    "def hello():\n",
    "    print(f\"Hello world!\")"
   ]
  },
  {
   "cell_type": "code",
   "execution_count": 8,
   "id": "5379f982-f41b-496d-88d9-ca83f91dcd8f",
   "metadata": {},
   "outputs": [
    {
     "name": "stdout",
     "output_type": "stream",
     "text": [
      "Hello world!\n"
     ]
    }
   ],
   "source": [
    "hello()"
   ]
  },
  {
   "cell_type": "code",
   "execution_count": null,
   "id": "07370f76-9659-4777-928c-cba4f3484cad",
   "metadata": {},
   "outputs": [],
   "source": []
  }
 ],
 "metadata": {
  "kernelspec": {
   "display_name": "Python 3 (ipykernel)",
   "language": "python",
   "name": "python3"
  },
  "language_info": {
   "codemirror_mode": {
    "name": "ipython",
    "version": 3
   },
   "file_extension": ".py",
   "mimetype": "text/x-python",
   "name": "python",
   "nbconvert_exporter": "python",
   "pygments_lexer": "ipython3",
   "version": "3.10.18"
  }
 },
 "nbformat": 4,
 "nbformat_minor": 5
}
