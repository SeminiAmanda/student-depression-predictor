{
 "cells": [
  {
   "cell_type": "markdown",
   "id": "2c93f660",
   "metadata": {},
   "source": [
    "# 02 – Model Development\n",
    "### Student Depression Prediction: Building and Evaluating the XGBoost Classifier\n",
    "\n",
    "---"
   ]
  },
  {
   "cell_type": "markdown",
   "id": "fb1a4724",
   "metadata": {},
   "source": [
    "## 📌 Objective  \n",
    "Develop an end-to-end XGBoost classification pipeline to predict student depression using the preprocessed dataset.\n",
    "\n",
    "**Key Tasks:**\n",
    "\n",
    " **Model Pipeline**  \n",
    "- Train-test split  \n",
    "- Categorical encoding\n",
    "- Feature scaling/selection  \n",
    "\n",
    " **XGBoost Implementation**  \n",
    "- Baseline model  \n",
    "- Hyperparameter tuning  \n",
    "- Cross-validation  \n",
    "\n",
    " **Model Evaluation**  \n",
    "- Performance metrics (accuracy, precision, recall, F1, ROC-AUC)  \n",
    "- Feature importance analysis  \n",
    "\n",
    "---"
   ]
  },
  {
   "cell_type": "markdown",
   "id": "ae2e6f7c",
   "metadata": {},
   "source": [
    "### 📂 Input  \n",
    " - `clean_data.csv` saved in `Data/processed/FC110552_mithula-cbw/` (preprocessed dataset)\n",
    "\n",
    "\n",
    "### 📦 Output  \n",
    "- `xgb_model.pkl` saved in `models/FC110552_mithula-cbw/`\n",
    "\n",
    "---"
   ]
  },
  {
   "cell_type": "markdown",
   "id": "8b0b587c",
   "metadata": {},
   "source": [
    "### 📈 Expected Outcomes\n",
    "- Trained and validated XGBoost classification model for student depression prediction\n",
    "- Performance evaluation metrics (accuracy, precision, recall, F1-score, ROC-AUC)\n",
    "- Insights from feature importance analysis\n",
    "- Model artifacts saved for future inference and deployment\n"
   ]
  },
  {
   "cell_type": "markdown",
   "id": "467d9a24",
   "metadata": {},
   "source": [
    "## Step 1: Import Libraries & Load Data"
   ]
  },
  {
   "cell_type": "code",
   "execution_count": 1,
   "id": "e53fc3e8",
   "metadata": {},
   "outputs": [],
   "source": [
    "import pandas as pd\n",
    "import numpy as np\n",
    "from sklearn.model_selection import train_test_split, cross_val_score, GridSearchCV\n",
    "from sklearn.preprocessing import LabelEncoder, StandardScaler\n",
    "from sklearn.metrics import accuracy_score, precision_score, recall_score, f1_score, roc_auc_score, confusion_matrix\n",
    "import xgboost as xgb\n",
    "import matplotlib.pyplot as plt\n",
    "import seaborn as sns\n"
   ]
  }
 ],
 "metadata": {
  "kernelspec": {
   "display_name": "Python 3 (ipykernel)",
   "language": "python",
   "name": "python3"
  },
  "language_info": {
   "codemirror_mode": {
    "name": "ipython",
    "version": 3
   },
   "file_extension": ".py",
   "mimetype": "text/x-python",
   "name": "python",
   "nbconvert_exporter": "python",
   "pygments_lexer": "ipython3",
   "version": "3.10.18"
  }
 },
 "nbformat": 4,
 "nbformat_minor": 5
}
