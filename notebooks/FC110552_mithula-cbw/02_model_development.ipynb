{
 "cells": [
  {
   "cell_type": "markdown",
   "id": "2c93f660",
   "metadata": {},
   "source": [
    "# 02 – Model Development\n",
    "### Student Depression Prediction: Building and Evaluating the XGBoost Classifier\n",
    "\n",
    "---"
   ]
  },
  {
   "cell_type": "markdown",
   "id": "fb1a4724",
   "metadata": {},
   "source": [
    "## 📌 Objective  \n",
    "Develop an end-to-end XGBoost classification pipeline to predict student depression using the preprocessed dataset.\n",
    "\n",
    "**Key Tasks:**\n",
    "\n",
    " **Model Pipeline**  \n",
    "- Train-test split  \n",
    "- Categorical encoding\n",
    "- Feature scaling/selection  \n",
    "\n",
    " **XGBoost Implementation**  \n",
    "- Baseline model  \n",
    "- Hyperparameter tuning  \n",
    "- Cross-validation  \n",
    "\n",
    " **Model Evaluation**  \n",
    "- Performance metrics (accuracy, precision, recall, F1, ROC-AUC)  \n",
    "- Feature importance analysis  \n",
    "\n",
    "---"
   ]
  },
  {
   "cell_type": "markdown",
   "id": "ae2e6f7c",
   "metadata": {},
   "source": [
    "### 📂 Input  \n",
    " - `clean_data.csv` saved in `Data/processed/FC110552_mithula-cbw/` (preprocessed dataset)\n",
    "\n",
    "\n",
    "### 📦 Output  \n",
    "- `xgb_model.pkl` saved in `models/FC110552_mithula-cbw/`\n",
    "\n",
    "---"
   ]
  },
  {
   "cell_type": "markdown",
   "id": "8b0b587c",
   "metadata": {},
   "source": [
    "### 📈 Expected Outcomes\n",
    "- Trained and validated XGBoost classification model for student depression prediction\n",
    "- Performance evaluation metrics (accuracy, precision, recall, F1-score, ROC-AUC)\n",
    "- Insights from feature importance analysis\n",
    "- Model artifacts saved for future inference and deployment\n"
   ]
  },
  {
   "cell_type": "markdown",
   "id": "467d9a24",
   "metadata": {},
   "source": [
    "## Step 1: Import Libraries & Load Data"
   ]
  },
  {
   "cell_type": "code",
   "execution_count": 93,
   "id": "e53fc3e8",
   "metadata": {},
   "outputs": [],
   "source": [
    "# Data manipulation and analysis\n",
    "import pandas as pd\n",
    "import numpy as np\n",
    "\n",
    "# Data visualization\n",
    "import matplotlib.pyplot as plt\n",
    "import seaborn as sns\n",
    "from prettytable import PrettyTable\n",
    "\n",
    "# Scikit-learn modules for model selection and evaluation\n",
    "from sklearn.model_selection import train_test_split, cross_val_score, GridSearchCV\n",
    "from sklearn.preprocessing import LabelEncoder, StandardScaler\n",
    "from sklearn.metrics import (\n",
    "    accuracy_score,\n",
    "    precision_score,\n",
    "    recall_score,\n",
    "    f1_score,\n",
    "    roc_auc_score,\n",
    "    confusion_matrix\n",
    ")\n",
    "\n",
    "# XGBoost classifier\n",
    "import xgboost as xgb\n"
   ]
  },
  {
   "cell_type": "markdown",
   "id": "c5f6b035",
   "metadata": {},
   "source": [
    "### Load preprocessed data"
   ]
  },
  {
   "cell_type": "code",
   "execution_count": 94,
   "id": "e536abe4",
   "metadata": {},
   "outputs": [
    {
     "name": "stdout",
     "output_type": "stream",
     "text": [
      "\n",
      "🔹 DataFrame Dimensions\n",
      "------------------------\n",
      "   Rows   : 27868\n",
      "   Columns: 13\n"
     ]
    }
   ],
   "source": [
    "# Load preprocessed data\n",
    "df = pd.read_csv('Data/processed/FC110552_mithula-cbw/clean_data.csv')\n",
    "\n",
    "print(\"\\n🔹 DataFrame Dimensions\")\n",
    "print(\"------------------------\")\n",
    "print(f\"   Rows   : {df.shape[0]}\")\n",
    "print(f\"   Columns: {df.shape[1]}\")"
   ]
  },
  {
   "cell_type": "code",
   "execution_count": 95,
   "id": "e49d8945",
   "metadata": {},
   "outputs": [
    {
     "name": "stdout",
     "output_type": "stream",
     "text": [
      "\n",
      "🔹 First 5 rows:\n"
     ]
    },
    {
     "data": {
      "text/html": [
       "<div>\n",
       "<style scoped>\n",
       "    .dataframe tbody tr th:only-of-type {\n",
       "        vertical-align: middle;\n",
       "    }\n",
       "\n",
       "    .dataframe tbody tr th {\n",
       "        vertical-align: top;\n",
       "    }\n",
       "\n",
       "    .dataframe thead th {\n",
       "        text-align: right;\n",
       "    }\n",
       "</style>\n",
       "<table border=\"1\" class=\"dataframe\">\n",
       "  <thead>\n",
       "    <tr style=\"text-align: right;\">\n",
       "      <th></th>\n",
       "      <th>gender</th>\n",
       "      <th>age</th>\n",
       "      <th>academic_pressure</th>\n",
       "      <th>cgpa</th>\n",
       "      <th>study_satisfaction</th>\n",
       "      <th>dietary_habits</th>\n",
       "      <th>have_you_ever_had_suicidal_thoughts</th>\n",
       "      <th>work_study_hours</th>\n",
       "      <th>financial_stress</th>\n",
       "      <th>family_history_of_mental_illness</th>\n",
       "      <th>depression</th>\n",
       "      <th>degree_encoded</th>\n",
       "      <th>sleep_duration_encoded</th>\n",
       "    </tr>\n",
       "  </thead>\n",
       "  <tbody>\n",
       "    <tr>\n",
       "      <th>0</th>\n",
       "      <td>Male</td>\n",
       "      <td>33.0</td>\n",
       "      <td>5.0</td>\n",
       "      <td>8.97</td>\n",
       "      <td>2.0</td>\n",
       "      <td>Healthy</td>\n",
       "      <td>Yes</td>\n",
       "      <td>3.0</td>\n",
       "      <td>1.0</td>\n",
       "      <td>No</td>\n",
       "      <td>1</td>\n",
       "      <td>2</td>\n",
       "      <td>1</td>\n",
       "    </tr>\n",
       "    <tr>\n",
       "      <th>1</th>\n",
       "      <td>Female</td>\n",
       "      <td>24.0</td>\n",
       "      <td>2.0</td>\n",
       "      <td>5.90</td>\n",
       "      <td>5.0</td>\n",
       "      <td>Moderate</td>\n",
       "      <td>No</td>\n",
       "      <td>3.0</td>\n",
       "      <td>2.0</td>\n",
       "      <td>Yes</td>\n",
       "      <td>0</td>\n",
       "      <td>2</td>\n",
       "      <td>1</td>\n",
       "    </tr>\n",
       "    <tr>\n",
       "      <th>2</th>\n",
       "      <td>Male</td>\n",
       "      <td>31.0</td>\n",
       "      <td>3.0</td>\n",
       "      <td>7.03</td>\n",
       "      <td>5.0</td>\n",
       "      <td>Healthy</td>\n",
       "      <td>No</td>\n",
       "      <td>9.0</td>\n",
       "      <td>1.0</td>\n",
       "      <td>Yes</td>\n",
       "      <td>0</td>\n",
       "      <td>2</td>\n",
       "      <td>0</td>\n",
       "    </tr>\n",
       "    <tr>\n",
       "      <th>3</th>\n",
       "      <td>Female</td>\n",
       "      <td>28.0</td>\n",
       "      <td>3.0</td>\n",
       "      <td>5.59</td>\n",
       "      <td>2.0</td>\n",
       "      <td>Moderate</td>\n",
       "      <td>Yes</td>\n",
       "      <td>4.0</td>\n",
       "      <td>5.0</td>\n",
       "      <td>Yes</td>\n",
       "      <td>1</td>\n",
       "      <td>2</td>\n",
       "      <td>2</td>\n",
       "    </tr>\n",
       "    <tr>\n",
       "      <th>4</th>\n",
       "      <td>Female</td>\n",
       "      <td>25.0</td>\n",
       "      <td>4.0</td>\n",
       "      <td>8.13</td>\n",
       "      <td>3.0</td>\n",
       "      <td>Moderate</td>\n",
       "      <td>Yes</td>\n",
       "      <td>1.0</td>\n",
       "      <td>1.0</td>\n",
       "      <td>No</td>\n",
       "      <td>0</td>\n",
       "      <td>3</td>\n",
       "      <td>1</td>\n",
       "    </tr>\n",
       "  </tbody>\n",
       "</table>\n",
       "</div>"
      ],
      "text/plain": [
       "   gender   age  academic_pressure  cgpa  study_satisfaction dietary_habits  \\\n",
       "0    Male  33.0                5.0  8.97                 2.0        Healthy   \n",
       "1  Female  24.0                2.0  5.90                 5.0       Moderate   \n",
       "2    Male  31.0                3.0  7.03                 5.0        Healthy   \n",
       "3  Female  28.0                3.0  5.59                 2.0       Moderate   \n",
       "4  Female  25.0                4.0  8.13                 3.0       Moderate   \n",
       "\n",
       "  have_you_ever_had_suicidal_thoughts  work_study_hours  financial_stress  \\\n",
       "0                                 Yes               3.0               1.0   \n",
       "1                                  No               3.0               2.0   \n",
       "2                                  No               9.0               1.0   \n",
       "3                                 Yes               4.0               5.0   \n",
       "4                                 Yes               1.0               1.0   \n",
       "\n",
       "  family_history_of_mental_illness  depression  degree_encoded  \\\n",
       "0                               No           1               2   \n",
       "1                              Yes           0               2   \n",
       "2                              Yes           0               2   \n",
       "3                              Yes           1               2   \n",
       "4                               No           0               3   \n",
       "\n",
       "   sleep_duration_encoded  \n",
       "0                       1  \n",
       "1                       1  \n",
       "2                       0  \n",
       "3                       2  \n",
       "4                       1  "
      ]
     },
     "execution_count": 95,
     "metadata": {},
     "output_type": "execute_result"
    }
   ],
   "source": [
    "# Print the first few rows of the data set\n",
    "print(f\"\\n🔹 First 5 rows:\")\n",
    "df.head()"
   ]
  },
  {
   "cell_type": "code",
   "execution_count": 96,
   "id": "6a0f7202",
   "metadata": {},
   "outputs": [
    {
     "name": "stdout",
     "output_type": "stream",
     "text": [
      "\n",
      "🔹 Dataset Summary:\n",
      "+-------------------------------------+----------------+---------+\n",
      "|                Column               | Non-Null Count |  Dtype  |\n",
      "+-------------------------------------+----------------+---------+\n",
      "|                gender               |     27868      |  object |\n",
      "|                 age                 |     27868      | float64 |\n",
      "|          academic_pressure          |     27868      | float64 |\n",
      "|                 cgpa                |     27868      | float64 |\n",
      "|          study_satisfaction         |     27868      | float64 |\n",
      "|            dietary_habits           |     27868      |  object |\n",
      "| have_you_ever_had_suicidal_thoughts |     27868      |  object |\n",
      "|           work_study_hours          |     27868      | float64 |\n",
      "|           financial_stress          |     27868      | float64 |\n",
      "|   family_history_of_mental_illness  |     27868      |  object |\n",
      "|              depression             |     27868      |  int64  |\n",
      "|            degree_encoded           |     27868      |  int64  |\n",
      "|        sleep_duration_encoded       |     27868      |  int64  |\n",
      "+-------------------------------------+----------------+---------+\n"
     ]
    }
   ],
   "source": [
    "# Print data structure and datatypes of each column\n",
    "table = PrettyTable()\n",
    "table.field_names = [\"Column\", \"Non-Null Count\", \"Dtype\"]\n",
    "\n",
    "for col in df.columns:\n",
    "    non_null_count = df[col].count()\n",
    "    dtype = df[col].dtype\n",
    "    table.add_row([col, non_null_count, dtype])\n",
    "\n",
    "print(\"\\n🔹 Dataset Summary:\")\n",
    "print(table)"
   ]
  },
  {
   "cell_type": "markdown",
   "id": "5d268055",
   "metadata": {},
   "source": [
    "💡 **Observations:**  \n",
    "- No `id` column – No need to drop any identifier column.\n",
    "- There are four object columns – These need encoding after the train-test split."
   ]
  },
  {
   "cell_type": "markdown",
   "id": "5e9bb282",
   "metadata": {},
   "source": [
    "## Step 2: Train-Test Split"
   ]
  },
  {
   "cell_type": "code",
   "execution_count": 97,
   "id": "4e14d737",
   "metadata": {},
   "outputs": [],
   "source": [
    "# Separate features and target\n",
    "X = df.drop(['depression'], axis=1)  # Remove target column\n",
    "y = df['depression']"
   ]
  },
  {
   "cell_type": "markdown",
   "id": "66662801",
   "metadata": {},
   "source": [
    "> 🧠 To split the dataframe, we use stratified sampling to maintain the same  \n",
    "class proportions in both the training and test sets.\n",
    "\n",
    "> 🧠 Let's use an 80-20 split, where 80% of data is for training and 20% for testing.\n"
   ]
  },
  {
   "cell_type": "code",
   "execution_count": 98,
   "id": "a5d82580",
   "metadata": {},
   "outputs": [
    {
     "name": "stdout",
     "output_type": "stream",
     "text": [
      "Training set size: (22294, 12)\n",
      "Test set size:     (5574, 12)\n",
      "Training set depression rate: 0.586\n",
      "Test set depression rate:     0.586\n"
     ]
    }
   ],
   "source": [
    "# Stratified split to maintain class balance (80-20 split)\n",
    "X_train, X_test, y_train, y_test = train_test_split(\n",
    "    X, y, test_size=0.2, random_state=42, stratify=y\n",
    ")\n",
    "\n",
    "# Print sizes of train and test sets\n",
    "print(f\"Training set size: {X_train.shape}\")\n",
    "print(f\"Test set size:     {X_test.shape}\")\n",
    "\n",
    "# print depression rates in each split to verify stratification\n",
    "print(f\"Training set depression rate: {y_train.mean():.3f}\")\n",
    "print(f\"Test set depression rate:     {y_test.mean():.3f}\")"
   ]
  },
  {
   "cell_type": "markdown",
   "id": "36087f5d",
   "metadata": {},
   "source": [
    "💡 **Observations:**  \n",
    "- The depression rate is consistent (58.6%) in both training and test sets.\n",
    "\n",
    "> *🧠 confirming successful stratification and preserving class distribution for unbiased model evaluation.*"
   ]
  },
  {
   "cell_type": "markdown",
   "id": "fdc9e769",
   "metadata": {},
   "source": [
    "## Step 3: Categorical Encoding"
   ]
  },
  {
   "cell_type": "markdown",
   "id": "18bf226b",
   "metadata": {},
   "source": [
    "> *🧠 Categorical columns (`gender`, `dietary_habits`, `suicidal_thoughts`, `family_history`) should now be encoded since the data has been split.*"
   ]
  },
  {
   "cell_type": "code",
   "execution_count": 99,
   "id": "306c616d",
   "metadata": {},
   "outputs": [],
   "source": [
    "# Let's Identify categorical columns to encode\n",
    "categorical_columns = [\n",
    "    'gender', \n",
    "    'dietary_habits', \n",
    "    'family_history_of_mental_illness', \n",
    "    'have_you_ever_had_suicidal_thoughts'\n",
    "]"
   ]
  },
  {
   "cell_type": "code",
   "execution_count": 100,
   "id": "7b094f8c",
   "metadata": {},
   "outputs": [
    {
     "name": "stdout",
     "output_type": "stream",
     "text": [
      "🔹 Unique values in gender: ['Male' 'Female']\n",
      "🔹 Unique values in dietary_habits: ['Healthy' 'Moderate' 'Unhealthy']\n",
      "🔹 Unique values in family_history_of_mental_illness: ['No' 'Yes']\n",
      "🔹 Unique values in have_you_ever_had_suicidal_thoughts: ['Yes' 'No']\n"
     ]
    }
   ],
   "source": [
    "# Print unique values in each categorical column to inspect categories before encoding\n",
    "for col in categorical_columns:\n",
    "    print(f\"🔹 Unique values in {col}: {df[col].unique()}\")\n"
   ]
  },
  {
   "cell_type": "markdown",
   "id": "758b257c",
   "metadata": {},
   "source": [
    "💡 **Observations:**  \n",
    "- All categorical columns have a small, well-defined set of unique categories.\n",
    "\n",
    "> *🧠 Since all categorical variables have limited distinct values,   \n",
    ">label encoding is appropriate and straightforward.*"
   ]
  },
  {
   "cell_type": "code",
   "execution_count": 101,
   "id": "e9a261a5",
   "metadata": {},
   "outputs": [],
   "source": [
    "# Check for unseen categories before encoding\n",
    "for col in categorical_columns:\n",
    "    train_categories = set(X_train[col].unique())\n",
    "    test_categories = set(X_test[col].unique())\n",
    "    unseen = test_categories - train_categories\n",
    "    if unseen:\n",
    "        print(f\"Warning: Unseen categories in test set for '{col}': {unseen}\")\n",
    "\n",
    "\n",
    "# Label encode categorical variables\n",
    "label_encoders = {}\n",
    "for col in categorical_columns:\n",
    "    le = LabelEncoder()\n",
    "    X_train[col + '_encoded'] = le.fit_transform(X_train[col])\n",
    "    X_test[col + '_encoded'] = le.transform(X_test[col])\n",
    "    label_encoders[col] = le\n",
    "\n",
    "X_train.drop(columns=categorical_columns, inplace=True)\n",
    "X_test.drop(columns=categorical_columns, inplace=True)\n"
   ]
  },
  {
   "cell_type": "code",
   "execution_count": 104,
   "id": "abcadba7",
   "metadata": {},
   "outputs": [
    {
     "name": "stdout",
     "output_type": "stream",
     "text": [
      "Train data preview after encoding:\n"
     ]
    },
    {
     "data": {
      "text/html": [
       "<div>\n",
       "<style scoped>\n",
       "    .dataframe tbody tr th:only-of-type {\n",
       "        vertical-align: middle;\n",
       "    }\n",
       "\n",
       "    .dataframe tbody tr th {\n",
       "        vertical-align: top;\n",
       "    }\n",
       "\n",
       "    .dataframe thead th {\n",
       "        text-align: right;\n",
       "    }\n",
       "</style>\n",
       "<table border=\"1\" class=\"dataframe\">\n",
       "  <thead>\n",
       "    <tr style=\"text-align: right;\">\n",
       "      <th></th>\n",
       "      <th>age</th>\n",
       "      <th>academic_pressure</th>\n",
       "      <th>cgpa</th>\n",
       "      <th>study_satisfaction</th>\n",
       "      <th>work_study_hours</th>\n",
       "      <th>financial_stress</th>\n",
       "      <th>degree_encoded</th>\n",
       "      <th>sleep_duration_encoded</th>\n",
       "      <th>gender_encoded</th>\n",
       "      <th>dietary_habits_encoded</th>\n",
       "      <th>family_history_of_mental_illness_encoded</th>\n",
       "      <th>have_you_ever_had_suicidal_thoughts_encoded</th>\n",
       "    </tr>\n",
       "  </thead>\n",
       "  <tbody>\n",
       "    <tr>\n",
       "      <th>20912</th>\n",
       "      <td>18.0</td>\n",
       "      <td>5.0</td>\n",
       "      <td>6.42</td>\n",
       "      <td>3.0</td>\n",
       "      <td>7.0</td>\n",
       "      <td>5.0</td>\n",
       "      <td>1</td>\n",
       "      <td>2</td>\n",
       "      <td>0</td>\n",
       "      <td>2</td>\n",
       "      <td>0</td>\n",
       "      <td>1</td>\n",
       "    </tr>\n",
       "    <tr>\n",
       "      <th>4158</th>\n",
       "      <td>33.0</td>\n",
       "      <td>1.0</td>\n",
       "      <td>6.08</td>\n",
       "      <td>2.0</td>\n",
       "      <td>10.0</td>\n",
       "      <td>2.0</td>\n",
       "      <td>2</td>\n",
       "      <td>1</td>\n",
       "      <td>1</td>\n",
       "      <td>2</td>\n",
       "      <td>1</td>\n",
       "      <td>1</td>\n",
       "    </tr>\n",
       "    <tr>\n",
       "      <th>26933</th>\n",
       "      <td>23.0</td>\n",
       "      <td>2.0</td>\n",
       "      <td>8.59</td>\n",
       "      <td>5.0</td>\n",
       "      <td>12.0</td>\n",
       "      <td>4.0</td>\n",
       "      <td>2</td>\n",
       "      <td>0</td>\n",
       "      <td>1</td>\n",
       "      <td>1</td>\n",
       "      <td>0</td>\n",
       "      <td>1</td>\n",
       "    </tr>\n",
       "  </tbody>\n",
       "</table>\n",
       "</div>"
      ],
      "text/plain": [
       "        age  academic_pressure  cgpa  study_satisfaction  work_study_hours  \\\n",
       "20912  18.0                5.0  6.42                 3.0               7.0   \n",
       "4158   33.0                1.0  6.08                 2.0              10.0   \n",
       "26933  23.0                2.0  8.59                 5.0              12.0   \n",
       "\n",
       "       financial_stress  degree_encoded  sleep_duration_encoded  \\\n",
       "20912               5.0               1                       2   \n",
       "4158                2.0               2                       1   \n",
       "26933               4.0               2                       0   \n",
       "\n",
       "       gender_encoded  dietary_habits_encoded  \\\n",
       "20912               0                       2   \n",
       "4158                1                       2   \n",
       "26933               1                       1   \n",
       "\n",
       "       family_history_of_mental_illness_encoded  \\\n",
       "20912                                         0   \n",
       "4158                                          1   \n",
       "26933                                         0   \n",
       "\n",
       "       have_you_ever_had_suicidal_thoughts_encoded  \n",
       "20912                                            1  \n",
       "4158                                             1  \n",
       "26933                                            1  "
      ]
     },
     "execution_count": 104,
     "metadata": {},
     "output_type": "execute_result"
    }
   ],
   "source": [
    "print(\"Train data preview after encoding:\")\n",
    "X_train.head(3)"
   ]
  },
  {
   "cell_type": "code",
   "execution_count": 105,
   "id": "62d26a8b",
   "metadata": {},
   "outputs": [
    {
     "name": "stdout",
     "output_type": "stream",
     "text": [
      "\n",
      "Test data preview after encoding:\n"
     ]
    },
    {
     "data": {
      "text/html": [
       "<div>\n",
       "<style scoped>\n",
       "    .dataframe tbody tr th:only-of-type {\n",
       "        vertical-align: middle;\n",
       "    }\n",
       "\n",
       "    .dataframe tbody tr th {\n",
       "        vertical-align: top;\n",
       "    }\n",
       "\n",
       "    .dataframe thead th {\n",
       "        text-align: right;\n",
       "    }\n",
       "</style>\n",
       "<table border=\"1\" class=\"dataframe\">\n",
       "  <thead>\n",
       "    <tr style=\"text-align: right;\">\n",
       "      <th></th>\n",
       "      <th>age</th>\n",
       "      <th>academic_pressure</th>\n",
       "      <th>cgpa</th>\n",
       "      <th>study_satisfaction</th>\n",
       "      <th>work_study_hours</th>\n",
       "      <th>financial_stress</th>\n",
       "      <th>degree_encoded</th>\n",
       "      <th>sleep_duration_encoded</th>\n",
       "      <th>gender_encoded</th>\n",
       "      <th>dietary_habits_encoded</th>\n",
       "      <th>family_history_of_mental_illness_encoded</th>\n",
       "      <th>have_you_ever_had_suicidal_thoughts_encoded</th>\n",
       "    </tr>\n",
       "  </thead>\n",
       "  <tbody>\n",
       "    <tr>\n",
       "      <th>16297</th>\n",
       "      <td>20.0</td>\n",
       "      <td>3.0</td>\n",
       "      <td>8.95</td>\n",
       "      <td>4.0</td>\n",
       "      <td>6.0</td>\n",
       "      <td>4.0</td>\n",
       "      <td>1</td>\n",
       "      <td>2</td>\n",
       "      <td>1</td>\n",
       "      <td>0</td>\n",
       "      <td>1</td>\n",
       "      <td>0</td>\n",
       "    </tr>\n",
       "    <tr>\n",
       "      <th>23609</th>\n",
       "      <td>21.0</td>\n",
       "      <td>5.0</td>\n",
       "      <td>7.75</td>\n",
       "      <td>2.0</td>\n",
       "      <td>10.0</td>\n",
       "      <td>5.0</td>\n",
       "      <td>2</td>\n",
       "      <td>2</td>\n",
       "      <td>0</td>\n",
       "      <td>2</td>\n",
       "      <td>1</td>\n",
       "      <td>1</td>\n",
       "    </tr>\n",
       "    <tr>\n",
       "      <th>13498</th>\n",
       "      <td>27.0</td>\n",
       "      <td>3.0</td>\n",
       "      <td>7.27</td>\n",
       "      <td>4.0</td>\n",
       "      <td>2.0</td>\n",
       "      <td>3.0</td>\n",
       "      <td>0</td>\n",
       "      <td>0</td>\n",
       "      <td>1</td>\n",
       "      <td>2</td>\n",
       "      <td>0</td>\n",
       "      <td>1</td>\n",
       "    </tr>\n",
       "  </tbody>\n",
       "</table>\n",
       "</div>"
      ],
      "text/plain": [
       "        age  academic_pressure  cgpa  study_satisfaction  work_study_hours  \\\n",
       "16297  20.0                3.0  8.95                 4.0               6.0   \n",
       "23609  21.0                5.0  7.75                 2.0              10.0   \n",
       "13498  27.0                3.0  7.27                 4.0               2.0   \n",
       "\n",
       "       financial_stress  degree_encoded  sleep_duration_encoded  \\\n",
       "16297               4.0               1                       2   \n",
       "23609               5.0               2                       2   \n",
       "13498               3.0               0                       0   \n",
       "\n",
       "       gender_encoded  dietary_habits_encoded  \\\n",
       "16297               1                       0   \n",
       "23609               0                       2   \n",
       "13498               1                       2   \n",
       "\n",
       "       family_history_of_mental_illness_encoded  \\\n",
       "16297                                         1   \n",
       "23609                                         1   \n",
       "13498                                         0   \n",
       "\n",
       "       have_you_ever_had_suicidal_thoughts_encoded  \n",
       "16297                                            0  \n",
       "23609                                            1  \n",
       "13498                                            1  "
      ]
     },
     "execution_count": 105,
     "metadata": {},
     "output_type": "execute_result"
    }
   ],
   "source": [
    "print(\"\\nTest data preview after encoding:\")\n",
    "X_test.head(3)\n"
   ]
  },
  {
   "cell_type": "markdown",
   "id": "7305c51e",
   "metadata": {},
   "source": [
    "💡 **Observations:**  \n",
    "- Original categorical columns dropped.\n",
    "- Encoded columns are numeric and ready for modeling."
   ]
  }
 ],
 "metadata": {
  "kernelspec": {
   "display_name": "Python 3 (ipykernel)",
   "language": "python",
   "name": "python3"
  },
  "language_info": {
   "codemirror_mode": {
    "name": "ipython",
    "version": 3
   },
   "file_extension": ".py",
   "mimetype": "text/x-python",
   "name": "python",
   "nbconvert_exporter": "python",
   "pygments_lexer": "ipython3",
   "version": "3.10.18"
  }
 },
 "nbformat": 4,
 "nbformat_minor": 5
}
