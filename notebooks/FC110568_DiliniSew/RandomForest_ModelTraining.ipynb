{
 "cells": [
  {
   "cell_type": "code",
   "execution_count": 32,
   "id": "c13852ce",
   "metadata": {},
   "outputs": [],
   "source": [
    "import pandas as pd\n",
    "import numpy as np\n",
    "import matplotlib.pyplot as plt\n",
    "import seaborn as sns\n",
    "from sklearn.model_selection import train_test_split, GridSearchCV, cross_val_score\n",
    "from sklearn.ensemble import RandomForestClassifier\n",
    "from sklearn.metrics import classification_report, confusion_matrix, accuracy_score, ConfusionMatrixDisplay\n",
    "import warnings\n",
    "\n",
    "warnings.filterwarnings('ignore')\n",
    "sns.set(style=\"whitegrid\")\n"
   ]
  },
  {
   "cell_type": "markdown",
   "id": "6b28b3d2",
   "metadata": {},
   "source": [
    "### Load the Preprocessed Data"
   ]
  },
  {
   "cell_type": "code",
   "execution_count": 33,
   "id": "93ddd596",
   "metadata": {},
   "outputs": [
    {
     "name": "stdout",
     "output_type": "stream",
     "text": [
      "DataFrame Dimensions\n",
      "------------------------\n",
      "   Rows   : 27889\n",
      "   Columns: 13\n"
     ]
    }
   ],
   "source": [
    "\n",
    "df = pd.read_csv('Data/processed/FC110568_Dilini/preprocessed_data.csv')\n",
    "\n",
    "print(\"DataFrame Dimensions\")\n",
    "print(\"------------------------\")\n",
    "print(f\"   Rows   : {df.shape[0]}\")\n",
    "print(f\"   Columns: {df.shape[1]}\")"
   ]
  },
  {
   "cell_type": "code",
   "execution_count": 34,
   "id": "388434bb",
   "metadata": {},
   "outputs": [
    {
     "name": "stdout",
     "output_type": "stream",
     "text": [
      "<class 'pandas.core.frame.DataFrame'>\n",
      "RangeIndex: 27889 entries, 0 to 27888\n",
      "Data columns (total 13 columns):\n",
      " #   Column                                 Non-Null Count  Dtype  \n",
      "---  ------                                 --------------  -----  \n",
      " 0   Gender                                 27889 non-null  object \n",
      " 1   Age                                    27889 non-null  float64\n",
      " 2   Academic Pressure                      27889 non-null  float64\n",
      " 3   CGPA                                   27889 non-null  float64\n",
      " 4   Study Satisfaction                     27889 non-null  float64\n",
      " 5   Sleep Duration                         27889 non-null  float64\n",
      " 6   Dietary Habits                         27889 non-null  object \n",
      " 7   Degree                                 27889 non-null  object \n",
      " 8   Have you ever had suicidal thoughts ?  27889 non-null  object \n",
      " 9   Work/Study Hours                       27889 non-null  float64\n",
      " 10  Financial Stress                       27889 non-null  float64\n",
      " 11  Family History of Mental Illness       27889 non-null  object \n",
      " 12  Depression                             27889 non-null  int64  \n",
      "dtypes: float64(7), int64(1), object(5)\n",
      "memory usage: 2.8+ MB\n"
     ]
    }
   ],
   "source": [
    "df.info()"
   ]
  },
  {
   "cell_type": "code",
   "execution_count": 35,
   "id": "fb452996",
   "metadata": {
    "vscode": {
     "languageId": "ruby"
    }
   },
   "outputs": [
    {
     "name": "stdout",
     "output_type": "stream",
     "text": [
      "<class 'pandas.core.frame.DataFrame'>\n",
      "RangeIndex: 27889 entries, 0 to 27888\n",
      "Data columns (total 13 columns):\n",
      " #   Column                                 Non-Null Count  Dtype   \n",
      "---  ------                                 --------------  -----   \n",
      " 0   Gender                                 27889 non-null  category\n",
      " 1   Age                                    27889 non-null  float64 \n",
      " 2   Academic Pressure                      27889 non-null  float64 \n",
      " 3   CGPA                                   27889 non-null  float64 \n",
      " 4   Study Satisfaction                     27889 non-null  float64 \n",
      " 5   Sleep Duration                         27889 non-null  float64 \n",
      " 6   Dietary Habits                         27889 non-null  category\n",
      " 7   Degree                                 27889 non-null  category\n",
      " 8   Have you ever had suicidal thoughts ?  27889 non-null  category\n",
      " 9   Work/Study Hours                       27889 non-null  float64 \n",
      " 10  Financial Stress                       27889 non-null  float64 \n",
      " 11  Family History of Mental Illness       27889 non-null  category\n",
      " 12  Depression                             27889 non-null  int64   \n",
      "dtypes: category(5), float64(7), int64(1)\n",
      "memory usage: 1.8 MB\n"
     ]
    }
   ],
   "source": [
    "# Convert all object columns to category dtype in df\n",
    "for col in df.select_dtypes(include='object').columns:\n",
    "    df[col] = df[col].astype('category')\n",
    "\n",
    "# Check dtypes to confirm\n",
    "df.info()"
   ]
  },
  {
   "cell_type": "markdown",
   "id": "1db88428",
   "metadata": {},
   "source": [
    "## Encoding"
   ]
  },
  {
   "cell_type": "markdown",
   "id": "483abd79",
   "metadata": {},
   "source": [
    "For machine learning, we need numeric features. So the Encoding is the process of converting text into numbers."
   ]
  },
  {
   "cell_type": "markdown",
   "id": "f47feede",
   "metadata": {},
   "source": [
    "**Ordinal Encoding**"
   ]
  },
  {
   "cell_type": "markdown",
   "id": "0d3ab922",
   "metadata": {},
   "source": [
    " The 'Degree' feature has a natural ordinal order (e.g., 'Class 12' < 'BA' < 'BSc' < 'BCA' < 'B.Pharm' < 'M.Tech' < 'MSc' < 'MD'), so it will be encoded using ordinal encoding to preserve this order for machine learning models.\n",
    "\n",
    " - School (Class 12) -> 0\n",
    "- Bachelor's (B.*) -> 1\n",
    "- Master's (M.*) -> 2\n",
    "- Doctorate (PhD) -> 3\n",
    "- Other -> 4"
   ]
  },
  {
   "cell_type": "code",
   "execution_count": 36,
   "id": "a03543c0",
   "metadata": {},
   "outputs": [
    {
     "name": "stdout",
     "output_type": "stream",
     "text": [
      "        Degree Degree_Grouped  Degree_Encoded\n",
      "0      B.Pharm       Bachelor               1\n",
      "1          BSc       Bachelor               1\n",
      "2           BA       Bachelor               1\n",
      "3          BCA       Bachelor               1\n",
      "4       M.Tech         Master               2\n",
      "5          PhD      Doctorate               3\n",
      "6          BSc       Bachelor               1\n",
      "7   'Class 12'         School               0\n",
      "8         B.Ed       Bachelor               1\n",
      "9          LLB          Other               4\n",
      "10  'Class 12'         School               0\n",
      "11          BE       Bachelor               1\n",
      "12      M.Tech         Master               2\n",
      "13  'Class 12'         School               0\n",
      "14  'Class 12'         School               0\n",
      "15      M.Tech         Master               2\n",
      "16        M.Ed         Master               2\n",
      "17  'Class 12'         School               0\n",
      "18  'Class 12'         School               0\n",
      "19        B.Ed       Bachelor               1\n"
     ]
    }
   ],
   "source": [
    "# Define updated function to group degrees more accurately\n",
    "def simplify_degree(degree):\n",
    "    if pd.isnull(degree):\n",
    "        return 'Other'\n",
    "    \n",
    "    degree = degree.strip().lower()\n",
    "\n",
    "    # School level\n",
    "    if 'class 12' in degree:\n",
    "        return 'School'\n",
    "    \n",
    "    # Doctorate level\n",
    "    elif 'phd' in degree:\n",
    "        return 'Doctorate'\n",
    "\n",
    "    # Master’s level\n",
    "    elif degree.startswith('m') or degree in ['msc', 'm.tech', 'mca', 'mba', 'm.ed', 'mhm']:\n",
    "        return 'Master'\n",
    "\n",
    "    # Bachelor's level\n",
    "    elif degree.startswith('b') or degree in ['bsc', 'ba', 'bca', 'bba', 'b.com', 'b.tech', 'b.ed', 'b.arch', 'b.pharm']:\n",
    "        return 'Bachelor'\n",
    "\n",
    "    # Everything else\n",
    "    else:\n",
    "        return 'Other'\n",
    "\n",
    "# Apply function\n",
    "df['Degree_Grouped'] = df['Degree'].apply(simplify_degree)\n",
    "\n",
    "#  Map to ordinal encoding\n",
    "degree_order = {\n",
    "    'School': 0,\n",
    "    'Bachelor': 1,\n",
    "    'Master': 2,\n",
    "    'Doctorate': 3,\n",
    "    'Other': 4\n",
    "}\n",
    "df['Degree_Encoded'] = df['Degree_Grouped'].map(degree_order)\n",
    "\n",
    "# Preview result\n",
    "print(df[['Degree', 'Degree_Grouped', 'Degree_Encoded']].head(20))\n"
   ]
  },
  {
   "cell_type": "code",
   "execution_count": 39,
   "id": "7b0bdfb1",
   "metadata": {},
   "outputs": [],
   "source": [
    "df.drop(columns=['Degree', 'Degree_Grouped'], inplace=True)"
   ]
  },
  {
   "cell_type": "markdown",
   "id": "a3c0c7cc",
   "metadata": {},
   "source": [
    "**One - hot Encoding**"
   ]
  },
  {
   "cell_type": "code",
   "execution_count": 40,
   "id": "819aad5e",
   "metadata": {},
   "outputs": [
    {
     "name": "stdout",
     "output_type": "stream",
     "text": [
      "    Age  Academic Pressure  CGPA  Study Satisfaction  Sleep Duration  \\\n",
      "0  33.0                5.0  8.97                 2.0             5.5   \n",
      "1  24.0                2.0  5.90                 5.0             5.5   \n",
      "2  31.0                3.0  7.03                 5.0             5.0   \n",
      "3  28.0                3.0  5.59                 2.0             7.5   \n",
      "4  25.0                4.0  8.13                 3.0             5.5   \n",
      "\n",
      "   Work/Study Hours  Financial Stress  Depression  Degree_Encoded  \\\n",
      "0               3.0               1.0           1               1   \n",
      "1               3.0               2.0           0               1   \n",
      "2               9.0               1.0           0               1   \n",
      "3               4.0               5.0           1               1   \n",
      "4               1.0               1.0           0               2   \n",
      "\n",
      "   Gender_Male  Dietary Habits_Moderate  Dietary Habits_Unhealthy  \\\n",
      "0         True                    False                     False   \n",
      "1        False                     True                     False   \n",
      "2         True                    False                     False   \n",
      "3        False                     True                     False   \n",
      "4        False                     True                     False   \n",
      "\n",
      "   Have you ever had suicidal thoughts ?_Yes  \\\n",
      "0                                       True   \n",
      "1                                      False   \n",
      "2                                      False   \n",
      "3                                       True   \n",
      "4                                       True   \n",
      "\n",
      "   Family History of Mental Illness_Yes  \n",
      "0                                 False  \n",
      "1                                  True  \n",
      "2                                  True  \n",
      "3                                  True  \n",
      "4                                 False  \n"
     ]
    }
   ],
   "source": [
    "# One-hot encode all categorical columns except 'Degree'\n",
    "categorical_to_encode = ['Gender', 'Dietary Habits', 'Have you ever had suicidal thoughts ?', 'Family History of Mental Illness']\n",
    "\n",
    "df_encoded = pd.get_dummies(df, columns=categorical_to_encode, drop_first=True)\n",
    "\n",
    "print(df_encoded.head())"
   ]
  },
  {
   "cell_type": "code",
   "execution_count": 38,
   "id": "1f31c41e",
   "metadata": {},
   "outputs": [
    {
     "name": "stdout",
     "output_type": "stream",
     "text": [
      "Gender                                   0\n",
      "Age                                      0\n",
      "Academic Pressure                        0\n",
      "CGPA                                     0\n",
      "Study Satisfaction                       0\n",
      "Sleep Duration                           0\n",
      "Dietary Habits                           0\n",
      "Degree                                   0\n",
      "Have you ever had suicidal thoughts ?    0\n",
      "Work/Study Hours                         0\n",
      "Financial Stress                         0\n",
      "Family History of Mental Illness         0\n",
      "Depression                               0\n",
      "Degree_Grouped                           0\n",
      "Degree_Encoded                           0\n",
      "dtype: int64\n"
     ]
    }
   ],
   "source": [
    "print(df.isnull().sum())"
   ]
  }
 ],
 "metadata": {
  "kernelspec": {
   "display_name": "Python 3 (ipykernel)",
   "language": "python",
   "name": "python3"
  },
  "language_info": {
   "codemirror_mode": {
    "name": "ipython",
    "version": 3
   },
   "file_extension": ".py",
   "mimetype": "text/x-python",
   "name": "python",
   "nbconvert_exporter": "python",
   "pygments_lexer": "ipython3",
   "version": "3.10.18"
  }
 },
 "nbformat": 4,
 "nbformat_minor": 5
}
