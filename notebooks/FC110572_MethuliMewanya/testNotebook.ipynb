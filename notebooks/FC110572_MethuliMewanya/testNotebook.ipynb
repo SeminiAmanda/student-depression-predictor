{
 "cells": [
  {
   "cell_type": "code",
   "execution_count": 2,
   "id": "2355c22f-6820-4d76-9748-cc79c6a5a7a7",
   "metadata": {},
   "outputs": [],
   "source": [
    "#Test notebook\n",
    "import pandas as pd"
   ]
  },
  {
   "cell_type": "code",
   "execution_count": 3,
   "id": "0f42c16e-7e27-4b6e-bf6c-bdf9455816db",
   "metadata": {},
   "outputs": [
    {
     "name": "stdout",
     "output_type": "stream",
     "text": [
      "Hello World!\n"
     ]
    }
   ],
   "source": [
    "print(\"Hello World!\")"
   ]
  },
  {
   "cell_type": "code",
   "execution_count": null,
   "id": "9dee972c-35d8-478a-b3e9-8b6675e652d2",
   "metadata": {},
   "outputs": [],
   "source": []
  }
 ],
 "metadata": {
  "kernelspec": {
   "display_name": "Python 3 (ipykernel)",
   "language": "python",
   "name": "python3"
  },
  "language_info": {
   "codemirror_mode": {
    "name": "ipython",
    "version": 3
   },
   "file_extension": ".py",
   "mimetype": "text/x-python",
   "name": "python",
   "nbconvert_exporter": "python",
   "pygments_lexer": "ipython3",
   "version": "3.10.18"
  }
 },
 "nbformat": 4,
 "nbformat_minor": 5
}
