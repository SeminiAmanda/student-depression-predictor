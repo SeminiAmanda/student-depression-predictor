{
 "cells": [
  {
   "cell_type": "markdown",
   "id": "420f6599",
   "metadata": {},
   "source": [
    "### Training the Decision Tree Based Model"
   ]
  },
  {
   "cell_type": "code",
   "execution_count": 1,
   "id": "4dd3f36c-e43c-4cb3-98b7-3ebf75ee90c3",
   "metadata": {},
   "outputs": [],
   "source": [
    "import numpy as np\n",
    "import pandas as pd\n",
    "import os\n",
    "import seaborn as sns\n",
    "import matplotlib.pyplot as plt\n",
    "import scipy.stats as stats\n",
    "\n",
    "from sklearn.preprocessing import LabelEncoder"
   ]
  },
  {
   "cell_type": "code",
   "execution_count": 3,
   "id": "62fa6e8c",
   "metadata": {},
   "outputs": [
    {
     "name": "stdout",
     "output_type": "stream",
     "text": [
      "   Information of the processed dataset \n",
      " ===================================\n",
      "\n",
      "<class 'pandas.core.frame.DataFrame'>\n",
      "RangeIndex: 27788 entries, 0 to 27787\n",
      "Data columns (total 13 columns):\n",
      " #   Column                            Non-Null Count  Dtype  \n",
      "---  ------                            --------------  -----  \n",
      " 0   Gender                            27788 non-null  object \n",
      " 1   Age                               27788 non-null  float64\n",
      " 2   Academic Pressure                 27788 non-null  float64\n",
      " 3   CGPA                              27788 non-null  float64\n",
      " 4   Study Satisfaction                27788 non-null  float64\n",
      " 5   Suicidal Thoughts                 27788 non-null  int64  \n",
      " 6   Work/Study Hours                  27788 non-null  float64\n",
      " 7   Financial Stress                  27788 non-null  float64\n",
      " 8   Family History of Mental Illness  27788 non-null  int64  \n",
      " 9   Depression                        27788 non-null  int64  \n",
      " 10  SleepScore                        27788 non-null  int64  \n",
      " 11  DietScore                         27788 non-null  int64  \n",
      " 12  Degree_Cleaned                    27788 non-null  object \n",
      "dtypes: float64(6), int64(5), object(2)\n",
      "memory usage: 2.8+ MB\n"
     ]
    }
   ],
   "source": [
    "# Loading the preprocessed dataset\n",
    "\n",
    "file_path = os.path.join(os.getcwd(), \"Data\", \"processed\", \"FC110572_MethuliMenya\",\"preprocessed_data.csv\")\n",
    "processed = pd.read_csv(file_path)\n",
    "\n",
    "print(f\"   Information of the processed dataset \\n ===================================\\n\")\n",
    "processed.info()"
   ]
  },
  {
   "cell_type": "code",
   "execution_count": 4,
   "id": "5fed8e67",
   "metadata": {},
   "outputs": [
    {
     "name": "stdout",
     "output_type": "stream",
     "text": [
      "<class 'pandas.core.frame.DataFrame'>\n",
      "RangeIndex: 27788 entries, 0 to 27787\n",
      "Data columns (total 13 columns):\n",
      " #   Column                            Non-Null Count  Dtype   \n",
      "---  ------                            --------------  -----   \n",
      " 0   Gender                            27788 non-null  category\n",
      " 1   Age                               27788 non-null  float64 \n",
      " 2   Academic Pressure                 27788 non-null  float64 \n",
      " 3   CGPA                              27788 non-null  float64 \n",
      " 4   Study Satisfaction                27788 non-null  float64 \n",
      " 5   Suicidal Thoughts                 27788 non-null  int64   \n",
      " 6   Work/Study Hours                  27788 non-null  float64 \n",
      " 7   Financial Stress                  27788 non-null  float64 \n",
      " 8   Family History of Mental Illness  27788 non-null  int64   \n",
      " 9   Depression                        27788 non-null  int64   \n",
      " 10  SleepScore                        27788 non-null  int64   \n",
      " 11  DietScore                         27788 non-null  int64   \n",
      " 12  Degree_Cleaned                    27788 non-null  category\n",
      "dtypes: category(2), float64(6), int64(5)\n",
      "memory usage: 2.4 MB\n"
     ]
    }
   ],
   "source": [
    "# Convert all object dDtype columns to categorical Dtype\n",
    "for col in processed.select_dtypes(include='object').columns:\n",
    "    processed[col] = processed[col].astype('category')\n",
    "\n",
    "processed.info()"
   ]
  }
 ],
 "metadata": {
  "kernelspec": {
   "display_name": "Python 3 (ipykernel)",
   "language": "python",
   "name": "python3"
  },
  "language_info": {
   "codemirror_mode": {
    "name": "ipython",
    "version": 3
   },
   "file_extension": ".py",
   "mimetype": "text/x-python",
   "name": "python",
   "nbconvert_exporter": "python",
   "pygments_lexer": "ipython3",
   "version": "3.10.18"
  }
 },
 "nbformat": 4,
 "nbformat_minor": 5
}
